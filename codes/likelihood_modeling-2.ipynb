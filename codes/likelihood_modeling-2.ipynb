{
  "cells": [
    {
      "cell_type": "code",
      "execution_count": null,
      "id": "afeb043c",
      "metadata": {
        "id": "afeb043c"
      },
      "outputs": [],
      "source": []
    },
    {
      "cell_type": "code",
      "source": [],
      "metadata": {
        "id": "FPE--jYwDbrs"
      },
      "id": "FPE--jYwDbrs",
      "execution_count": null,
      "outputs": []
    },
    {
      "cell_type": "markdown",
      "source": [
        "**Importing libraries**"
      ],
      "metadata": {
        "id": "5LRtau1oDd2p"
      },
      "id": "5LRtau1oDd2p"
    },
    {
      "cell_type": "code",
      "source": [
        "import pandas as pd\n",
        "import datetime\n",
        "import geopandas as gpd\n",
        "from shapely.geometry import Point\n",
        "import pandas as pd\n",
        "from sklearn.metrics import precision_recall_fscore_support\n",
        "import matplotlib.pyplot as plt\n",
        "import plotly.express as px\n",
        "from sklearn.ensemble import GradientBoostingClassifier\n",
        "from sklearn.ensemble import RandomForestClassifier\n",
        "from sklearn.model_selection import cross_val_score\n",
        "from sklearn.linear_model import LogisticRegression\n",
        "from sklearn.linear_model import LogisticRegression\n",
        "from sklearn.tree import DecisionTreeClassifier\n",
        "from sklearn.model_selection import train_test_split\n",
        "from sklearn.preprocessing import LabelEncoder\n",
        "from sklearn.metrics import accuracy_score\n",
        "from sklearn.metrics import accuracy_score, classification_report\n",
        "import warnings\n",
        "warnings.filterwarnings(\"ignore\")"
      ],
      "metadata": {
        "id": "q9fvr9MzDbv-"
      },
      "id": "q9fvr9MzDbv-",
      "execution_count": 1,
      "outputs": []
    },
    {
      "cell_type": "code",
      "source": [
        "from google.colab import drive\n",
        "drive.mount('/content/drive')"
      ],
      "metadata": {
        "colab": {
          "base_uri": "https://localhost:8080/"
        },
        "id": "XpyIoCgDrPcP",
        "outputId": "a0a3a9e7-1da9-4c60-f277-7f010b60df79"
      },
      "id": "XpyIoCgDrPcP",
      "execution_count": 2,
      "outputs": [
        {
          "output_type": "stream",
          "name": "stdout",
          "text": [
            "Drive already mounted at /content/drive; to attempt to forcibly remount, call drive.mount(\"/content/drive\", force_remount=True).\n"
          ]
        }
      ]
    },
    {
      "cell_type": "code",
      "execution_count": 3,
      "id": "c423124b",
      "metadata": {
        "id": "c423124b"
      },
      "outputs": [],
      "source": [
        "#Reading and understanding the data\n",
        "#link = \"https://data.seattle.gov/api/views/tazs-3rd5/rows.csv?date=20231107&accessType=DOWNLOAD\"\n",
        "\n",
        "#Reading\n",
        "seattle_crime = pd.read_csv('/content/drive/MyDrive/SPD_Crime_Data__2008-Present_20231027.csv')"
      ]
    },
    {
      "cell_type": "code",
      "execution_count": 4,
      "id": "5f29a9ce",
      "metadata": {
        "colab": {
          "base_uri": "https://localhost:8080/"
        },
        "id": "5f29a9ce",
        "outputId": "245092a3-0c5e-4302-a44b-6bc4f9bfa6f8"
      },
      "outputs": [
        {
          "output_type": "stream",
          "name": "stdout",
          "text": [
            "<class 'pandas.core.frame.DataFrame'>\n",
            "RangeIndex: 1080712 entries, 0 to 1080711\n",
            "Data columns (total 17 columns):\n",
            " #   Column                  Non-Null Count    Dtype  \n",
            "---  ------                  --------------    -----  \n",
            " 0   Report Number           1080712 non-null  object \n",
            " 1   Offense ID              1080712 non-null  int64  \n",
            " 2   Offense Start DateTime  1079241 non-null  object \n",
            " 3   Offense End DateTime    614173 non-null   object \n",
            " 4   Report DateTime         1080712 non-null  object \n",
            " 5   Group A B               1080712 non-null  object \n",
            " 6   Crime Against Category  1080712 non-null  object \n",
            " 7   Offense Parent Group    1080712 non-null  object \n",
            " 8   Offense                 1080712 non-null  object \n",
            " 9   Offense Code            1080712 non-null  object \n",
            " 10  Precinct                1080694 non-null  object \n",
            " 11  Sector                  1080696 non-null  object \n",
            " 12  Beat                    1080696 non-null  object \n",
            " 13  MCPP                    1080698 non-null  object \n",
            " 14  100 Block Address       1033473 non-null  object \n",
            " 15  Longitude               1080712 non-null  float64\n",
            " 16  Latitude                1080712 non-null  float64\n",
            "dtypes: float64(2), int64(1), object(14)\n",
            "memory usage: 140.2+ MB\n"
          ]
        }
      ],
      "source": [
        "seattle_crime.info()"
      ]
    },
    {
      "cell_type": "markdown",
      "id": "8f1c3658",
      "metadata": {
        "id": "8f1c3658"
      },
      "source": [
        "## Data Preprocessing"
      ]
    },
    {
      "cell_type": "code",
      "execution_count": 5,
      "id": "4f8f0096",
      "metadata": {
        "colab": {
          "base_uri": "https://localhost:8080/"
        },
        "id": "4f8f0096",
        "outputId": "de14adb8-2fed-490d-906d-51be3e0de907"
      },
      "outputs": [
        {
          "output_type": "execute_result",
          "data": {
            "text/plain": [
              "Report Number                  0\n",
              "Offense ID                     0\n",
              "Offense Start DateTime      1471\n",
              "Offense End DateTime      466539\n",
              "Report DateTime                0\n",
              "Group A B                      0\n",
              "Crime Against Category         0\n",
              "Offense Parent Group           0\n",
              "Offense                        0\n",
              "Offense Code                   0\n",
              "Precinct                      18\n",
              "Sector                        16\n",
              "Beat                          16\n",
              "MCPP                          14\n",
              "100 Block Address          47239\n",
              "Longitude                      0\n",
              "Latitude                       0\n",
              "dtype: int64"
            ]
          },
          "metadata": {},
          "execution_count": 5
        }
      ],
      "source": [
        "seattle_crime.isnull().sum()"
      ]
    },
    {
      "cell_type": "code",
      "execution_count": 6,
      "id": "b6b5ae7b",
      "metadata": {
        "colab": {
          "base_uri": "https://localhost:8080/"
        },
        "id": "b6b5ae7b",
        "outputId": "bac0f8e4-8920-45ee-8396-ff28d03b1b3f"
      },
      "outputs": [
        {
          "output_type": "execute_result",
          "data": {
            "text/plain": [
              "Report Number             0\n",
              "Offense ID                0\n",
              "Offense Start DateTime    0\n",
              "Report DateTime           0\n",
              "Group A B                 0\n",
              "Crime Against Category    0\n",
              "Offense Parent Group      0\n",
              "Offense                   0\n",
              "Offense Code              0\n",
              "Precinct                  0\n",
              "Sector                    0\n",
              "Beat                      0\n",
              "MCPP                      0\n",
              "Longitude                 0\n",
              "Latitude                  0\n",
              "dtype: int64"
            ]
          },
          "metadata": {},
          "execution_count": 6
        }
      ],
      "source": [
        "#Treating missing values\n",
        "#Removing Offense End DateTime and 100 Block Address as we have other columns to support these info.\n",
        "#Along removing other missing values\n",
        "sc=seattle_crime.drop(['Offense End DateTime'], axis=1)\n",
        "sc = sc.drop(['100 Block Address'],axis=1)\n",
        "sc = sc.dropna()\n",
        "sc.isnull().sum()"
      ]
    },
    {
      "cell_type": "code",
      "execution_count": 7,
      "id": "70bd0402",
      "metadata": {
        "id": "70bd0402"
      },
      "outputs": [],
      "source": [
        "#Converting date and time colume\n",
        "#copying the values to a new column\n",
        "sc['Offense DateTime'] = sc['Offense Start DateTime']\n",
        "#converting to datetime datatype\n",
        "sc['Offense Start DateTime'] = pd.to_datetime(sc['Offense Start DateTime'], format='%m/%d/%Y %I:%M:%S %p')\n",
        "#fetching year\n",
        "sc['year']=sc['Offense Start DateTime'].dt.year\n",
        "\n",
        "#considering required data from 2008 to 2022\n",
        "sc = sc[sc['year'] >= 2021]\n",
        "sc = sc[sc['year'] <= 2022]\n",
        "\n",
        "#mcpp\n",
        "sc = sc[sc['MCPP'] != '<Null>']\n",
        "sc = sc[sc['MCPP'] != 'UNKNOWN']\n"
      ]
    },
    {
      "cell_type": "code",
      "execution_count": 8,
      "id": "15355a29",
      "metadata": {
        "id": "15355a29"
      },
      "outputs": [],
      "source": [
        "sc1 = sc[['MCPP','Offense Parent Group','Offense Start DateTime']]"
      ]
    },
    {
      "cell_type": "code",
      "execution_count": 9,
      "id": "170627b9",
      "metadata": {
        "id": "170627b9"
      },
      "outputs": [],
      "source": [
        "# Ensure that 'CrimeType' is a categorical variable (if not, convert it to one)\n",
        "label_encoder = LabelEncoder().fit(sc1['Offense Parent Group'])\n",
        "sc1['Offense Parent Group'] = label_encoder.transform(sc1['Offense Parent Group'])\n",
        "\n",
        "# One-hot encode the 'MCPP' column\n",
        "sc1 = pd.get_dummies(sc1, columns=['MCPP'], prefix='MCPP', drop_first=True)"
      ]
    },
    {
      "cell_type": "code",
      "execution_count": 10,
      "id": "bfa2bedf",
      "metadata": {
        "id": "bfa2bedf"
      },
      "outputs": [],
      "source": [
        "X = sc1.drop(['Offense Parent Group','Offense Start DateTime'], axis=1)\n",
        "y = sc1['Offense Parent Group']\n",
        "\n",
        "X_train, X_test, y_train, y_test = train_test_split(X, y, test_size=0.2, random_state=42)\n"
      ]
    },
    {
      "cell_type": "markdown",
      "source": [
        "**Random forest**"
      ],
      "metadata": {
        "id": "GMaXbOB4CNpQ"
      },
      "id": "GMaXbOB4CNpQ"
    },
    {
      "cell_type": "code",
      "source": [
        "# RandomForestClassifier Training\n",
        "rf_model = RandomForestClassifier(random_state=42)\n",
        "rf_model.fit(X_train, y_train)\n",
        "# RandomForestClassifier Prediction\n",
        "rf_y_pred = rf_model.predict(X_test)\n",
        "# Calculate accuracy on the test set for RandomForestClassifier\n",
        "rf_accuracy = accuracy_score(y_test, rf_y_pred)\n",
        "print(f\"Random Forest Accuracy on the test set: {rf_accuracy}\")\n",
        "# Classification report for RandomForestClassifier\n",
        "rf_report = classification_report(y_test, rf_y_pred)\n",
        "print(\"Random Forest Classification Report:\")\n",
        "print(rf_report)\n",
        "# Predict the probabilities for each class with RandomForestClassifier\n",
        "rf_y_probs = rf_model.predict_proba(X_test)\n",
        "# Get the top predicted crime type and its probability for each MCPP with RandomForestClassifier\n",
        "rf_predictions = []\n",
        "\n",
        "for i, row in enumerate(X_test.itertuples()):\n",
        "    # Identify the MCPP columns\n",
        "    rf_mcpp_cols = [col for col, value in zip(X_test.columns, row[1:]) if value == 1]\n",
        "\n",
        "    if rf_mcpp_cols:\n",
        "        rf_mcpp = rf_mcpp_cols[0].replace('MCPP_', '')  # Remove the 'MCPP_' prefix\n",
        "        rf_top_crime_index = rf_y_probs[i].argmax()\n",
        "        rf_top_crime_type = label_encoder.inverse_transform([rf_top_crime_index])[0]\n",
        "        rf_top_crime_probability = rf_y_probs[i][rf_top_crime_index]\n",
        "\n",
        "        rf_predictions.append((row[0], rf_mcpp, rf_top_crime_type, rf_top_crime_probability))\n",
        "\n",
        "# Display predictions for RandomForestClassifier\n",
        "rf_predictions_df = pd.DataFrame(rf_predictions, columns=['Timestamp', 'MCPP', 'Top Crime Type', 'Probability'])\n",
        "\n",
        "# Reorder the columns\n",
        "rf_predictions_df = rf_predictions_df[['MCPP', 'Top Crime Type', 'Probability']]\n",
        "\n",
        "# Remove duplicate rows based on 'MCPP' column for RandomForestClassifier\n",
        "rf_predictions_df = rf_predictions_df.drop_duplicates(subset=['MCPP'])\n",
        "\n",
        "print(rf_predictions_df)"
      ],
      "metadata": {
        "colab": {
          "base_uri": "https://localhost:8080/"
        },
        "id": "YinqAJwItPPW",
        "outputId": "fdc35cd4-fdfb-420d-cff0-125a096860ac"
      },
      "id": "YinqAJwItPPW",
      "execution_count": 11,
      "outputs": [
        {
          "output_type": "stream",
          "name": "stdout",
          "text": [
            "Random Forest Accuracy on the test set: 0.38180490857262045\n",
            "Random Forest Classification Report:\n",
            "              precision    recall  f1-score   support\n",
            "\n",
            "           0       0.00      0.00      0.00        16\n",
            "           1       0.00      0.00      0.00        84\n",
            "           2       0.30      0.03      0.05      4422\n",
            "           3       0.00      0.00      0.00         9\n",
            "           5       0.00      0.00      0.00      3702\n",
            "           6       0.00      0.00      0.00       118\n",
            "           7       0.00      0.00      0.00         7\n",
            "           8       0.00      0.00      0.00      2819\n",
            "           9       0.00      0.00      0.00       451\n",
            "          10       0.00      0.00      0.00       211\n",
            "          11       0.00      0.00      0.00         2\n",
            "          12       0.00      0.00      0.00        11\n",
            "          13       0.00      0.00      0.00        62\n",
            "          14       0.00      0.00      0.00        33\n",
            "          15       0.00      0.00      0.00      1073\n",
            "          16       0.00      0.00      0.00         1\n",
            "          17       0.00      0.00      0.00        15\n",
            "          18       0.00      0.00      0.00         2\n",
            "          19       0.00      0.00      0.00        85\n",
            "          20       0.38      0.99      0.55     10972\n",
            "          21       0.00      0.00      0.00         4\n",
            "          22       0.00      0.00      0.00      2428\n",
            "          23       0.00      0.00      0.00         3\n",
            "          24       0.00      0.00      0.00        13\n",
            "          25       0.00      0.00      0.00        14\n",
            "          26       0.00      0.00      0.00       691\n",
            "          27       0.00      0.00      0.00       183\n",
            "          28       0.00      0.00      0.00         2\n",
            "          29       0.00      0.00      0.00       301\n",
            "          30       0.00      0.00      0.00       773\n",
            "          31       0.00      0.00      0.00       259\n",
            "\n",
            "    accuracy                           0.38     28766\n",
            "   macro avg       0.02      0.03      0.02     28766\n",
            "weighted avg       0.19      0.38      0.22     28766\n",
            "\n",
            "                                  MCPP        Top Crime Type  Probability\n",
            "0                  DOWNTOWN COMMERCIAL  KIDNAPPING/ABDUCTION     0.355601\n",
            "1                          WALLINGFORD  KIDNAPPING/ABDUCTION     0.447217\n",
            "2                           UNIVERSITY  KIDNAPPING/ABDUCTION     0.374838\n",
            "3     CHINATOWN/INTERNATIONAL DISTRICT  KIDNAPPING/ABDUCTION     0.277633\n",
            "5                      MID BEACON HILL  KIDNAPPING/ABDUCTION     0.360153\n",
            "6                          MILLER PARK  KIDNAPPING/ABDUCTION     0.425569\n",
            "7                        BALLARD SOUTH  KIDNAPPING/ABDUCTION     0.400031\n",
            "10            CENTRAL AREA/SQUIRE PARK  KIDNAPPING/ABDUCTION     0.380569\n",
            "11                LAKEWOOD/SEWARD PARK  KIDNAPPING/ABDUCTION     0.479847\n",
            "14                           SANDPOINT  KIDNAPPING/ABDUCTION     0.478515\n",
            "15                        CAPITOL HILL  KIDNAPPING/ABDUCTION     0.310317\n",
            "16                         SLU/CASCADE  KIDNAPPING/ABDUCTION     0.334230\n",
            "17                       NORTH ADMIRAL  KIDNAPPING/ABDUCTION     0.424722\n",
            "18                          QUEEN ANNE  KIDNAPPING/ABDUCTION     0.408511\n",
            "20                              MORGAN  KIDNAPPING/ABDUCTION     0.394596\n",
            "21                            BELLTOWN  KIDNAPPING/ABDUCTION     0.337257\n",
            "27                      SOUTH DELRIDGE  KIDNAPPING/ABDUCTION     0.334355\n",
            "28                   ROOSEVELT/RAVENNA  KIDNAPPING/ABDUCTION     0.520193\n",
            "29                           GREENWOOD  KIDNAPPING/ABDUCTION     0.351059\n",
            "31                          FIRST HILL  KIDNAPPING/ABDUCTION     0.292050\n",
            "32                           NORTHGATE  KIDNAPPING/ABDUCTION     0.461613\n",
            "34                   NORTH BEACON HILL  KIDNAPPING/ABDUCTION     0.384530\n",
            "36                       PHINNEY RIDGE  KIDNAPPING/ABDUCTION     0.465375\n",
            "39      JUDKINS PARK/NORTH BEACON HILL  KIDNAPPING/ABDUCTION     0.342407\n",
            "40                       HIGHLAND PARK  KIDNAPPING/ABDUCTION     0.366092\n",
            "42                         MOUNT BAKER  KIDNAPPING/ABDUCTION     0.489976\n",
            "45             CLAREMONT/RAINIER VISTA  KIDNAPPING/ABDUCTION     0.284125\n",
            "50                     EASTLAKE - WEST  KIDNAPPING/ABDUCTION     0.428710\n",
            "53                      MADRONA/LESCHI  KIDNAPPING/ABDUCTION     0.427186\n",
            "57                            MAGNOLIA  KIDNAPPING/ABDUCTION     0.467526\n",
            "67                      PIONEER SQUARE      ASSAULT OFFENSES     0.310505\n",
            "73                            LAKECITY  KIDNAPPING/ABDUCTION     0.318825\n",
            "79                     EASTLAKE - EAST  KIDNAPPING/ABDUCTION     0.458766\n",
            "81                       RAINIER BEACH  KIDNAPPING/ABDUCTION     0.279698\n",
            "84                       FAUNTLEROY SW  KIDNAPPING/ABDUCTION     0.382280\n",
            "87                     BRIGHTON/DUNLAP  KIDNAPPING/ABDUCTION     0.257814\n",
            "88                MONTLAKE/PORTAGE BAY  KIDNAPPING/ABDUCTION     0.504418\n",
            "93                                SODO  KIDNAPPING/ABDUCTION     0.404511\n",
            "95                       BALLARD NORTH  KIDNAPPING/ABDUCTION     0.437562\n",
            "96      ROXHILL/WESTWOOD/ARBOR HEIGHTS  KIDNAPPING/ABDUCTION     0.436665\n",
            "97                      NORTH DELRIDGE  KIDNAPPING/ABDUCTION     0.352159\n",
            "98                             FREMONT  KIDNAPPING/ABDUCTION     0.417142\n",
            "106                               ALKI  KIDNAPPING/ABDUCTION     0.384876\n",
            "113                  SOUTH BEACON HILL  KIDNAPPING/ABDUCTION     0.310150\n",
            "119                         SOUTH PARK  KIDNAPPING/ABDUCTION     0.300744\n",
            "136                      COLUMBIA CITY  KIDNAPPING/ABDUCTION     0.357208\n",
            "142                       RAINIER VIEW  KIDNAPPING/ABDUCTION     0.372937\n",
            "146                         HIGH POINT  KIDNAPPING/ABDUCTION     0.310489\n",
            "148                         BITTERLAKE  KIDNAPPING/ABDUCTION     0.346303\n",
            "276                         GEORGETOWN  KIDNAPPING/ABDUCTION     0.346390\n",
            "332                       MADISON PARK  KIDNAPPING/ABDUCTION     0.453849\n",
            "338                          NEW HOLLY  KIDNAPPING/ABDUCTION     0.330226\n",
            "509                            GENESEE  KIDNAPPING/ABDUCTION     0.403426\n",
            "943                       HILLMAN CITY  KIDNAPPING/ABDUCTION     0.313492\n",
            "969                COMMERCIAL DUWAMISH  KIDNAPPING/ABDUCTION     0.239841\n",
            "1209          COMMERCIAL HARBOR ISLAND  KIDNAPPING/ABDUCTION     0.276713\n",
            "1909                      PIGEON POINT  KIDNAPPING/ABDUCTION     0.410359\n"
          ]
        }
      ]
    },
    {
      "cell_type": "markdown",
      "source": [
        "Analysis of RF model:\n",
        "\n",
        "### Random Forest Model Performance:\n",
        "- **Overall Accuracy**: The accuracy on the test set is 0.3818, indicating that approximately 38.18% of the predictions made by the Random Forest model are correct.\n",
        "\n",
        "- **Classification Report**:\n",
        "  - The report shows a significant variance in performance across different crime types (labeled from 0 to 31).\n",
        "  - For many crime types, both precision and recall are 0.00, suggesting the model fails to correctly identify these crime types either due to lack of representative data in these classes or model's inability to learn distinguishing features for these classes.\n",
        "  - For crime type `20`, the model shows a substantially better performance with a precision of 0.38 and a recall of 0.99. This indicates that the model is highly successful in identifying this particular crime type, but it also suggests a possible class imbalance where the model might be biased towards predicting this class more frequently.\n",
        "  - The weighted average precision, recall, and F1-score across all classes are relatively low, highlighting the need for model improvement or reconsideration of the feature set or data.\n",
        "\n",
        "### Predictions for Different MCPP Areas:\n",
        "- The predictions for various MCPP areas predominantly show \"KIDNAPPING/ABDUCTION\" as the top predicted crime type, with varying probabilities.\n",
        "\n",
        "\n",
        "\n",
        "\n"
      ],
      "metadata": {
        "id": "k0lnkOc9CXHJ"
      },
      "id": "k0lnkOc9CXHJ"
    },
    {
      "cell_type": "markdown",
      "source": [
        "**Logistic Regression**"
      ],
      "metadata": {
        "id": "4mk_yvZhC-St"
      },
      "id": "4mk_yvZhC-St"
    },
    {
      "cell_type": "code",
      "source": [
        "\n",
        "\n",
        "# Logistic Regression Training\n",
        "lr_model = LogisticRegression(random_state=42)\n",
        "lr_model.fit(X_train, y_train)\n",
        "\n",
        "# Logistic Regression Prediction\n",
        "lr_y_pred = lr_model.predict(X_test)\n",
        "\n",
        "# Calculate accuracy on the test set for Logistic Regression\n",
        "lr_accuracy = accuracy_score(y_test, lr_y_pred)\n",
        "print(f\"Logistic Regression Accuracy on the test set: {lr_accuracy}\")\n",
        "\n",
        "# Classification report for Logistic Regression\n",
        "lr_report = classification_report(y_test, lr_y_pred)\n",
        "print(\"Logistic Regression Classification Report:\")\n",
        "print(lr_report)\n",
        "\n",
        "# Predict the probabilities for each class with Logistic Regression\n",
        "lr_y_probs = lr_model.predict_proba(X_test)\n",
        "\n",
        "# Get the top predicted crime type and its probability for each MCPP with Logistic Regression\n",
        "lr_predictions = []\n",
        "\n",
        "for i, row in enumerate(X_test.itertuples()):\n",
        "    lr_mcpp_cols = [col for col, value in zip(X_test.columns, row[1:]) if value == 1]\n",
        "\n",
        "    if lr_mcpp_cols:\n",
        "        lr_mcpp = lr_mcpp_cols[0].replace('MCPP_', '')\n",
        "        lr_top_crime_index = lr_y_probs[i].argmax()\n",
        "        lr_top_crime_type = label_encoder.inverse_transform([lr_top_crime_index])[0]\n",
        "        lr_top_crime_probability = lr_y_probs[i][lr_top_crime_index]\n",
        "\n",
        "        lr_predictions.append((row[0], lr_mcpp, lr_top_crime_type, lr_top_crime_probability))\n",
        "\n",
        "# Display predictions for Logistic Regression\n",
        "lr_predictions_df = pd.DataFrame(lr_predictions, columns=['Timestamp', 'MCPP', 'Top Crime Type', 'Probability'])\n",
        "lr_predictions_df = lr_predictions_df[['MCPP', 'Top Crime Type', 'Probability']]\n",
        "lr_predictions_df = lr_predictions_df.drop_duplicates(subset=['MCPP'])\n",
        "print(lr_predictions_df)\n"
      ],
      "metadata": {
        "colab": {
          "base_uri": "https://localhost:8080/"
        },
        "id": "HIheCuvmudMQ",
        "outputId": "120da980-ffbf-4f57-bb26-0cd355df54d5"
      },
      "id": "HIheCuvmudMQ",
      "execution_count": 12,
      "outputs": [
        {
          "output_type": "stream",
          "name": "stdout",
          "text": [
            "Logistic Regression Accuracy on the test set: 0.381839671834805\n",
            "Logistic Regression Classification Report:\n",
            "              precision    recall  f1-score   support\n",
            "\n",
            "           0       0.00      0.00      0.00        16\n",
            "           1       0.00      0.00      0.00        84\n",
            "           2       0.30      0.04      0.07      4422\n",
            "           3       0.00      0.00      0.00         9\n",
            "           5       0.00      0.00      0.00      3702\n",
            "           6       0.00      0.00      0.00       118\n",
            "           7       0.00      0.00      0.00         7\n",
            "           8       0.00      0.00      0.00      2819\n",
            "           9       0.00      0.00      0.00       451\n",
            "          10       0.00      0.00      0.00       211\n",
            "          11       0.00      0.00      0.00         2\n",
            "          12       0.00      0.00      0.00        11\n",
            "          13       0.00      0.00      0.00        62\n",
            "          14       0.00      0.00      0.00        33\n",
            "          15       0.00      0.00      0.00      1073\n",
            "          16       0.00      0.00      0.00         1\n",
            "          17       0.00      0.00      0.00        15\n",
            "          18       0.00      0.00      0.00         2\n",
            "          19       0.00      0.00      0.00        85\n",
            "          20       0.38      0.99      0.55     10972\n",
            "          21       0.00      0.00      0.00         4\n",
            "          22       0.00      0.00      0.00      2428\n",
            "          23       0.00      0.00      0.00         3\n",
            "          24       0.00      0.00      0.00        13\n",
            "          25       0.00      0.00      0.00        14\n",
            "          26       0.00      0.00      0.00       691\n",
            "          27       0.00      0.00      0.00       183\n",
            "          28       0.00      0.00      0.00         2\n",
            "          29       0.00      0.00      0.00       301\n",
            "          30       0.00      0.00      0.00       773\n",
            "          31       0.00      0.00      0.00       259\n",
            "\n",
            "    accuracy                           0.38     28766\n",
            "   macro avg       0.02      0.03      0.02     28766\n",
            "weighted avg       0.19      0.38      0.22     28766\n",
            "\n",
            "                                  MCPP        Top Crime Type  Probability\n",
            "0                  DOWNTOWN COMMERCIAL  KIDNAPPING/ABDUCTION     0.357800\n",
            "1                          WALLINGFORD  KIDNAPPING/ABDUCTION     0.444796\n",
            "2                           UNIVERSITY  KIDNAPPING/ABDUCTION     0.374038\n",
            "3     CHINATOWN/INTERNATIONAL DISTRICT  KIDNAPPING/ABDUCTION     0.279071\n",
            "5                      MID BEACON HILL  KIDNAPPING/ABDUCTION     0.359174\n",
            "6                          MILLER PARK  KIDNAPPING/ABDUCTION     0.430681\n",
            "7                        BALLARD SOUTH  KIDNAPPING/ABDUCTION     0.400386\n",
            "10            CENTRAL AREA/SQUIRE PARK  KIDNAPPING/ABDUCTION     0.378711\n",
            "11                LAKEWOOD/SEWARD PARK  KIDNAPPING/ABDUCTION     0.482823\n",
            "14                           SANDPOINT  KIDNAPPING/ABDUCTION     0.474861\n",
            "15                        CAPITOL HILL  KIDNAPPING/ABDUCTION     0.311389\n",
            "16                         SLU/CASCADE  KIDNAPPING/ABDUCTION     0.335029\n",
            "17                       NORTH ADMIRAL  KIDNAPPING/ABDUCTION     0.423473\n",
            "18                          QUEEN ANNE  KIDNAPPING/ABDUCTION     0.409094\n",
            "20                              MORGAN  KIDNAPPING/ABDUCTION     0.394982\n",
            "21                            BELLTOWN  KIDNAPPING/ABDUCTION     0.338208\n",
            "27                      SOUTH DELRIDGE  KIDNAPPING/ABDUCTION     0.333266\n",
            "28                   ROOSEVELT/RAVENNA  KIDNAPPING/ABDUCTION     0.520019\n",
            "29                           GREENWOOD  KIDNAPPING/ABDUCTION     0.351931\n",
            "31                          FIRST HILL  KIDNAPPING/ABDUCTION     0.293713\n",
            "32                           NORTHGATE  KIDNAPPING/ABDUCTION     0.464272\n",
            "34                   NORTH BEACON HILL  KIDNAPPING/ABDUCTION     0.382780\n",
            "36                       PHINNEY RIDGE  KIDNAPPING/ABDUCTION     0.468253\n",
            "39      JUDKINS PARK/NORTH BEACON HILL  KIDNAPPING/ABDUCTION     0.342113\n",
            "40                       HIGHLAND PARK  KIDNAPPING/ABDUCTION     0.368110\n",
            "42                         MOUNT BAKER  KIDNAPPING/ABDUCTION     0.490929\n",
            "45             CLAREMONT/RAINIER VISTA      ASSAULT OFFENSES     0.288396\n",
            "50                     EASTLAKE - WEST  KIDNAPPING/ABDUCTION     0.430783\n",
            "53                      MADRONA/LESCHI  KIDNAPPING/ABDUCTION     0.428360\n",
            "57                            MAGNOLIA  KIDNAPPING/ABDUCTION     0.468516\n",
            "67                      PIONEER SQUARE      ASSAULT OFFENSES     0.315054\n",
            "73                            LAKECITY  KIDNAPPING/ABDUCTION     0.317902\n",
            "79                     EASTLAKE - EAST  KIDNAPPING/ABDUCTION     0.449278\n",
            "81                       RAINIER BEACH  KIDNAPPING/ABDUCTION     0.275959\n",
            "84                       FAUNTLEROY SW  KIDNAPPING/ABDUCTION     0.385069\n",
            "87                     BRIGHTON/DUNLAP  KIDNAPPING/ABDUCTION     0.261575\n",
            "88                MONTLAKE/PORTAGE BAY  KIDNAPPING/ABDUCTION     0.508611\n",
            "93                                SODO  KIDNAPPING/ABDUCTION     0.405528\n",
            "95                       BALLARD NORTH  KIDNAPPING/ABDUCTION     0.436788\n",
            "96      ROXHILL/WESTWOOD/ARBOR HEIGHTS  KIDNAPPING/ABDUCTION     0.438720\n",
            "97                      NORTH DELRIDGE  KIDNAPPING/ABDUCTION     0.349989\n",
            "98                             FREMONT  KIDNAPPING/ABDUCTION     0.415629\n",
            "106                               ALKI  KIDNAPPING/ABDUCTION     0.382186\n",
            "113                  SOUTH BEACON HILL  KIDNAPPING/ABDUCTION     0.314512\n",
            "119                         SOUTH PARK  KIDNAPPING/ABDUCTION     0.302872\n",
            "136                      COLUMBIA CITY  KIDNAPPING/ABDUCTION     0.358058\n",
            "142                       RAINIER VIEW  KIDNAPPING/ABDUCTION     0.373183\n",
            "146                         HIGH POINT  KIDNAPPING/ABDUCTION     0.310155\n",
            "148                         BITTERLAKE  KIDNAPPING/ABDUCTION     0.341911\n",
            "276                         GEORGETOWN  KIDNAPPING/ABDUCTION     0.349235\n",
            "332                       MADISON PARK  KIDNAPPING/ABDUCTION     0.446981\n",
            "338                          NEW HOLLY  KIDNAPPING/ABDUCTION     0.331952\n",
            "509                            GENESEE  KIDNAPPING/ABDUCTION     0.404551\n",
            "943                       HILLMAN CITY  KIDNAPPING/ABDUCTION     0.317979\n",
            "969                COMMERCIAL DUWAMISH  KIDNAPPING/ABDUCTION     0.249909\n",
            "1209          COMMERCIAL HARBOR ISLAND  KIDNAPPING/ABDUCTION     0.278250\n",
            "1909                      PIGEON POINT  KIDNAPPING/ABDUCTION     0.418520\n"
          ]
        }
      ]
    },
    {
      "cell_type": "markdown",
      "source": [
        "**Logistic Regression Model Performance:**\n",
        "\n",
        "**Overall Accuracy:** The model's accuracy on the test set is 0.3818, indicating that approximately 38.18% of predictions are correct.\n",
        "\n",
        "**Classification Report:**\n",
        "Similar to the Random Forest model, there's a significant variance in performance across different crime types.\n",
        "The precision and recall for most crime types are 0.00, indicating the model is unable to correctly predict these crime types. This could be due to insufficient or non-representative data for these classes, or the model's limitations in capturing the complexity of the data.\n",
        "\n",
        "Crime type 20 shows a markedly better performance with high recall (0.99) but moderate precision (0.38), suggesting a possible class imbalance where the model is predominantly predicting this class.\n",
        "\n",
        "The weighted average for precision, recall, and F1-score are modest, highlighting the need for improvements in the model.\n",
        "\n",
        "**Predictions for Different MCPP Areas:**\n",
        "The predictions across various MCPP areas primarily indicate \"KIDNAPPING/ABDUCTION\" as the top predicted crime type. This is consistent with the high recall observed for crime type 20 in the classification report.\n",
        "\n",
        "The consistent prediction of a single crime type across multiple areas might point to overfitting or class imbalance, where the model has learned to preferentially predict a dominant class present in the training data.\n",
        "The probabilities associated with these predictions vary, but the lack of diversity in the predicted crime types is a point of concern."
      ],
      "metadata": {
        "id": "TcbjZ1dmDnmJ"
      },
      "id": "TcbjZ1dmDnmJ"
    },
    {
      "cell_type": "markdown",
      "source": [
        "**Gradient Boosting**"
      ],
      "metadata": {
        "id": "GPqsw6etEji3"
      },
      "id": "GPqsw6etEji3"
    },
    {
      "cell_type": "code",
      "source": [
        "# Gradient Boosting Training\n",
        "gb_model = GradientBoostingClassifier(random_state=42)\n",
        "gb_model.fit(X_train, y_train)\n",
        "\n",
        "# Gradient Boosting Prediction\n",
        "gb_y_pred = gb_model.predict(X_test)\n",
        "\n",
        "# Calculate accuracy on the test set for Gradient Boosting\n",
        "gb_accuracy = accuracy_score(y_test, gb_y_pred)\n",
        "print(f\"Gradient Boosting Accuracy on the test set: {gb_accuracy}\")\n",
        "\n",
        "# Classification report for Gradient Boosting\n",
        "gb_report = classification_report(y_test, gb_y_pred)\n",
        "print(\"Gradient Boosting Classification Report:\")\n",
        "print(gb_report)\n",
        "\n",
        "# Predict the probabilities for each class with Gradient Boosting\n",
        "gb_y_probs = gb_model.predict_proba(X_test)\n",
        "\n",
        "# Get the top predicted crime type and its probability for each MCPP with Gradient Boosting\n",
        "gb_predictions = []\n",
        "\n",
        "for i, row in enumerate(X_test.itertuples()):\n",
        "    gb_mcpp_cols = [col for col, value in zip(X_test.columns, row[1:]) if value == 1]\n",
        "\n",
        "    if gb_mcpp_cols:\n",
        "        gb_mcpp = gb_mcpp_cols[0].replace('MCPP_', '')\n",
        "        gb_top_crime_index = gb_y_probs[i].argmax()\n",
        "        gb_top_crime_type = label_encoder.inverse_transform([gb_top_crime_index])[0]\n",
        "        gb_top_crime_probability = gb_y_probs[i][gb_top_crime_index]\n",
        "\n",
        "        gb_predictions.append((row[0], gb_mcpp, gb_top_crime_type, gb_top_crime_probability))\n",
        "\n",
        "# Display predictions for Gradient Boosting\n",
        "gb_predictions_df = pd.DataFrame(gb_predictions, columns=['Timestamp', 'MCPP', 'Top Crime Type', 'Probability'])\n",
        "gb_predictions_df = gb_predictions_df[['MCPP', 'Top Crime Type', 'Probability']]\n",
        "gb_predictions_df = gb_predictions_df.drop_duplicates(subset=['MCPP'])\n",
        "print(gb_predictions_df)\n"
      ],
      "metadata": {
        "id": "YAgLfIw9udO4",
        "colab": {
          "base_uri": "https://localhost:8080/"
        },
        "outputId": "b097083b-1e74-46e2-c7fb-da2430535974"
      },
      "id": "YAgLfIw9udO4",
      "execution_count": 13,
      "outputs": [
        {
          "output_type": "stream",
          "name": "stdout",
          "text": [
            "Gradient Boosting Accuracy on the test set: 0.38110964332893\n",
            "Gradient Boosting Classification Report:\n",
            "              precision    recall  f1-score   support\n",
            "\n",
            "           0       0.00      0.00      0.00        16\n",
            "           1       0.00      0.00      0.00        84\n",
            "           2       0.00      0.00      0.00      4422\n",
            "           3       0.00      0.00      0.00         9\n",
            "           5       0.00      0.00      0.00      3702\n",
            "           6       0.00      0.00      0.00       118\n",
            "           7       0.00      0.00      0.00         7\n",
            "           8       0.00      0.00      0.00      2819\n",
            "           9       0.00      0.00      0.00       451\n",
            "          10       0.00      0.00      0.00       211\n",
            "          11       0.00      0.00      0.00         2\n",
            "          12       0.00      0.00      0.00        11\n",
            "          13       0.00      0.00      0.00        62\n",
            "          14       0.00      0.00      0.00        33\n",
            "          15       0.00      0.00      0.00      1073\n",
            "          16       0.00      0.00      0.00         1\n",
            "          17       0.00      0.00      0.00        15\n",
            "          18       0.00      0.00      0.00         2\n",
            "          19       0.00      0.00      0.00        85\n",
            "          20       0.38      1.00      0.55     10972\n",
            "          21       0.00      0.00      0.00         4\n",
            "          22       0.00      0.00      0.00      2428\n",
            "          23       0.00      0.00      0.00         3\n",
            "          24       0.00      0.00      0.00        13\n",
            "          25       0.00      0.00      0.00        14\n",
            "          26       0.00      0.00      0.00       691\n",
            "          27       0.00      0.00      0.00       183\n",
            "          28       0.00      0.00      0.00         2\n",
            "          29       0.00      0.00      0.00       301\n",
            "          30       0.00      0.00      0.00       773\n",
            "          31       0.00      0.00      0.00       259\n",
            "\n",
            "    accuracy                           0.38     28766\n",
            "   macro avg       0.01      0.03      0.02     28766\n",
            "weighted avg       0.15      0.38      0.21     28766\n",
            "\n",
            "                                  MCPP        Top Crime Type  Probability\n",
            "0                  DOWNTOWN COMMERCIAL  KIDNAPPING/ABDUCTION     0.362358\n",
            "1                          WALLINGFORD  KIDNAPPING/ABDUCTION     0.427598\n",
            "2                           UNIVERSITY  KIDNAPPING/ABDUCTION     0.365518\n",
            "3     CHINATOWN/INTERNATIONAL DISTRICT  KIDNAPPING/ABDUCTION     0.295367\n",
            "5                      MID BEACON HILL  KIDNAPPING/ABDUCTION     0.350841\n",
            "6                          MILLER PARK  KIDNAPPING/ABDUCTION     0.396904\n",
            "7                        BALLARD SOUTH  KIDNAPPING/ABDUCTION     0.390748\n",
            "10            CENTRAL AREA/SQUIRE PARK  KIDNAPPING/ABDUCTION     0.390353\n",
            "11                LAKEWOOD/SEWARD PARK  KIDNAPPING/ABDUCTION     0.432957\n",
            "14                           SANDPOINT  KIDNAPPING/ABDUCTION     0.457891\n",
            "15                        CAPITOL HILL  KIDNAPPING/ABDUCTION     0.321958\n",
            "16                         SLU/CASCADE  KIDNAPPING/ABDUCTION     0.348987\n",
            "17                       NORTH ADMIRAL  KIDNAPPING/ABDUCTION     0.394303\n",
            "18                          QUEEN ANNE  KIDNAPPING/ABDUCTION     0.396537\n",
            "20                              MORGAN  KIDNAPPING/ABDUCTION     0.385648\n",
            "21                            BELLTOWN  KIDNAPPING/ABDUCTION     0.355076\n",
            "27                      SOUTH DELRIDGE  KIDNAPPING/ABDUCTION     0.376997\n",
            "28                   ROOSEVELT/RAVENNA  KIDNAPPING/ABDUCTION     0.505448\n",
            "29                           GREENWOOD  KIDNAPPING/ABDUCTION     0.373596\n",
            "31                          FIRST HILL  KIDNAPPING/ABDUCTION     0.306681\n",
            "32                           NORTHGATE  KIDNAPPING/ABDUCTION     0.448891\n",
            "34                   NORTH BEACON HILL  KIDNAPPING/ABDUCTION     0.388431\n",
            "36                       PHINNEY RIDGE  KIDNAPPING/ABDUCTION     0.430033\n",
            "39      JUDKINS PARK/NORTH BEACON HILL  KIDNAPPING/ABDUCTION     0.369374\n",
            "40                       HIGHLAND PARK  KIDNAPPING/ABDUCTION     0.373096\n",
            "42                         MOUNT BAKER  KIDNAPPING/ABDUCTION     0.466902\n",
            "45             CLAREMONT/RAINIER VISTA  KIDNAPPING/ABDUCTION     0.319277\n",
            "50                     EASTLAKE - WEST  KIDNAPPING/ABDUCTION     0.402761\n",
            "53                      MADRONA/LESCHI  KIDNAPPING/ABDUCTION     0.401472\n",
            "57                            MAGNOLIA  KIDNAPPING/ABDUCTION     0.444063\n",
            "67                      PIONEER SQUARE  KIDNAPPING/ABDUCTION     0.291964\n",
            "73                            LAKECITY  KIDNAPPING/ABDUCTION     0.334504\n",
            "79                     EASTLAKE - EAST  KIDNAPPING/ABDUCTION     0.400540\n",
            "81                       RAINIER BEACH  KIDNAPPING/ABDUCTION     0.315018\n",
            "84                       FAUNTLEROY SW  KIDNAPPING/ABDUCTION     0.371860\n",
            "87                     BRIGHTON/DUNLAP  KIDNAPPING/ABDUCTION     0.286071\n",
            "88                MONTLAKE/PORTAGE BAY  KIDNAPPING/ABDUCTION     0.468856\n",
            "93                                SODO  KIDNAPPING/ABDUCTION     0.385488\n",
            "95                       BALLARD NORTH  KIDNAPPING/ABDUCTION     0.413595\n",
            "96      ROXHILL/WESTWOOD/ARBOR HEIGHTS  KIDNAPPING/ABDUCTION     0.415904\n",
            "97                      NORTH DELRIDGE  KIDNAPPING/ABDUCTION     0.383911\n",
            "98                             FREMONT  KIDNAPPING/ABDUCTION     0.397405\n",
            "106                               ALKI  KIDNAPPING/ABDUCTION     0.371621\n",
            "113                  SOUTH BEACON HILL  KIDNAPPING/ABDUCTION     0.363133\n",
            "119                         SOUTH PARK  KIDNAPPING/ABDUCTION     0.338527\n",
            "136                      COLUMBIA CITY  KIDNAPPING/ABDUCTION     0.369191\n",
            "142                       RAINIER VIEW  KIDNAPPING/ABDUCTION     0.388347\n",
            "146                         HIGH POINT  KIDNAPPING/ABDUCTION     0.346805\n",
            "148                         BITTERLAKE  KIDNAPPING/ABDUCTION     0.365148\n",
            "276                         GEORGETOWN  KIDNAPPING/ABDUCTION     0.354821\n",
            "332                       MADISON PARK  KIDNAPPING/ABDUCTION     0.400469\n",
            "338                          NEW HOLLY  KIDNAPPING/ABDUCTION     0.358879\n",
            "509                            GENESEE  KIDNAPPING/ABDUCTION     0.378677\n",
            "943                       HILLMAN CITY  KIDNAPPING/ABDUCTION     0.362224\n",
            "969                COMMERCIAL DUWAMISH  KIDNAPPING/ABDUCTION     0.333204\n",
            "1209          COMMERCIAL HARBOR ISLAND               ROBBERY     1.000000\n",
            "1909                      PIGEON POINT  KIDNAPPING/ABDUCTION     0.369557\n"
          ]
        }
      ]
    },
    {
      "cell_type": "markdown",
      "source": [
        "**Gradient Boosting Model Performance:**\n",
        "\n",
        "**Overall Accuracy:** The accuracy on the test set is 0.3811, similar to the other models, indicating around 38.11% of the predictions are correct.\n",
        "\n",
        "**Classification Report:**\n",
        "\n",
        "The precision and recall for most crime types are 0.00, showing the model's inability to predict these crime types effectively. This could be due to various reasons, such as lack of representative data for these classes or the model's limitations.\n",
        "\n",
        "The model performs notably better for crime type 20 with high recall (1.00) and moderate precision (0.38). This suggests a significant class imbalance where the model might be overfitting to this particular crime type.\n",
        "The weighted average metrics (precision, recall, and F1-score) are low, indicating the model is not performing well overall in differentiating between the various crime types.\n",
        "\n",
        "**Predictions for Different MCPP Areas:**\n",
        "The model's predictions are predominantly \"KIDNAPPING/ABDUCTION\" for most MCPP areas, with varying probabilities. This is consistent with the high recall for crime type 20.\n",
        "\n",
        "The consistent prediction of a single crime type across many areas might suggest class imbalance or overfitting to dominant classes in the training data.\n",
        "For one MCPP area (COMMERCIAL HARBOR ISLAND), the model predicts a different crime type (\"ROBBERY\") with high probability."
      ],
      "metadata": {
        "id": "H2pQDpnwGPjT"
      },
      "id": "H2pQDpnwGPjT"
    },
    {
      "cell_type": "markdown",
      "source": [
        "**Decision Tree**"
      ],
      "metadata": {
        "id": "lngWw4EpGxG9"
      },
      "id": "lngWw4EpGxG9"
    },
    {
      "cell_type": "code",
      "source": [
        "\n",
        "\n",
        "# Decision Tree Training\n",
        "dt_model = DecisionTreeClassifier(random_state=42)\n",
        "dt_model.fit(X_train, y_train)\n",
        "\n",
        "# Decision Tree Prediction\n",
        "dt_y_pred = dt_model.predict(X_test)\n",
        "\n",
        "# Calculate accuracy on the test set for Decision Tree\n",
        "dt_accuracy = accuracy_score(y_test, dt_y_pred)\n",
        "print(f\"Decision Tree Accuracy on the test set: {dt_accuracy}\")\n",
        "\n",
        "# Classification report for Decision Tree\n",
        "dt_report = classification_report(y_test, dt_y_pred)\n",
        "print(\"Decision Tree Classification Report:\")\n",
        "print(dt_report)\n",
        "\n",
        "# Predict the probabilities for each class with Decision Tree\n",
        "dt_y_probs = dt_model.predict_proba(X_test)\n",
        "\n",
        "# Get the top predicted crime type and its probability for each MCPP with Decision Tree\n",
        "dt_predictions = []\n",
        "\n",
        "for i, row in enumerate(X_test.itertuples()):\n",
        "    dt_mcpp_cols = [col for col, value in zip(X_test.columns, row[1:]) if value == 1]\n",
        "\n",
        "    if dt_mcpp_cols:\n",
        "        dt_mcpp = dt_mcpp_cols[0].replace('MCPP_', '')\n",
        "        dt_top_crime_index = dt_y_probs[i].argmax()\n",
        "        dt_top_crime_type = label_encoder.inverse_transform([dt_top_crime_index])[0]\n",
        "        dt_top_crime_probability = dt_y_probs[i][dt_top_crime_index]\n",
        "\n",
        "        dt_predictions.append((row[0], dt_mcpp, dt_top_crime_type, dt_top_crime_probability))\n",
        "\n",
        "# Display predictions for Decision Tree\n",
        "dt_predictions_df = pd.DataFrame(dt_predictions, columns=['Timestamp', 'MCPP', 'Top Crime Type', 'Probability'])\n",
        "dt_predictions_df = dt_predictions_df[['MCPP', 'Top Crime Type', 'Probability']]\n",
        "dt_predictions_df = dt_predictions_df.drop_duplicates(subset=['MCPP'])\n",
        "print(dt_predictions_df)\n"
      ],
      "metadata": {
        "id": "HY1LzXbCwxMG",
        "colab": {
          "base_uri": "https://localhost:8080/"
        },
        "outputId": "496d0842-f0d9-4c64-e1b8-e2208e32c597"
      },
      "id": "HY1LzXbCwxMG",
      "execution_count": 14,
      "outputs": [
        {
          "output_type": "stream",
          "name": "stdout",
          "text": [
            "Decision Tree Accuracy on the test set: 0.381839671834805\n",
            "Decision Tree Classification Report:\n",
            "              precision    recall  f1-score   support\n",
            "\n",
            "           0       0.00      0.00      0.00        16\n",
            "           1       0.00      0.00      0.00        84\n",
            "           2       0.30      0.04      0.07      4422\n",
            "           3       0.00      0.00      0.00         9\n",
            "           5       0.00      0.00      0.00      3702\n",
            "           6       0.00      0.00      0.00       118\n",
            "           7       0.00      0.00      0.00         7\n",
            "           8       0.00      0.00      0.00      2819\n",
            "           9       0.00      0.00      0.00       451\n",
            "          10       0.00      0.00      0.00       211\n",
            "          11       0.00      0.00      0.00         2\n",
            "          12       0.00      0.00      0.00        11\n",
            "          13       0.00      0.00      0.00        62\n",
            "          14       0.00      0.00      0.00        33\n",
            "          15       0.00      0.00      0.00      1073\n",
            "          16       0.00      0.00      0.00         1\n",
            "          17       0.00      0.00      0.00        15\n",
            "          18       0.00      0.00      0.00         2\n",
            "          19       0.00      0.00      0.00        85\n",
            "          20       0.38      0.99      0.55     10972\n",
            "          21       0.00      0.00      0.00         4\n",
            "          22       0.00      0.00      0.00      2428\n",
            "          23       0.00      0.00      0.00         3\n",
            "          24       0.00      0.00      0.00        13\n",
            "          25       0.00      0.00      0.00        14\n",
            "          26       0.00      0.00      0.00       691\n",
            "          27       0.00      0.00      0.00       183\n",
            "          28       0.00      0.00      0.00         2\n",
            "          29       0.00      0.00      0.00       301\n",
            "          30       0.00      0.00      0.00       773\n",
            "          31       0.00      0.00      0.00       259\n",
            "\n",
            "    accuracy                           0.38     28766\n",
            "   macro avg       0.02      0.03      0.02     28766\n",
            "weighted avg       0.19      0.38      0.22     28766\n",
            "\n",
            "                                  MCPP        Top Crime Type  Probability\n",
            "0                  DOWNTOWN COMMERCIAL  KIDNAPPING/ABDUCTION     0.355246\n",
            "1                          WALLINGFORD  KIDNAPPING/ABDUCTION     0.446148\n",
            "2                           UNIVERSITY  KIDNAPPING/ABDUCTION     0.375152\n",
            "3     CHINATOWN/INTERNATIONAL DISTRICT  KIDNAPPING/ABDUCTION     0.278001\n",
            "5                      MID BEACON HILL  KIDNAPPING/ABDUCTION     0.360689\n",
            "6                          MILLER PARK  KIDNAPPING/ABDUCTION     0.428913\n",
            "7                        BALLARD SOUTH  KIDNAPPING/ABDUCTION     0.400183\n",
            "10            CENTRAL AREA/SQUIRE PARK  KIDNAPPING/ABDUCTION     0.379162\n",
            "11                LAKEWOOD/SEWARD PARK  KIDNAPPING/ABDUCTION     0.480932\n",
            "14                           SANDPOINT  KIDNAPPING/ABDUCTION     0.477624\n",
            "15                        CAPITOL HILL  KIDNAPPING/ABDUCTION     0.311220\n",
            "16                         SLU/CASCADE  KIDNAPPING/ABDUCTION     0.335377\n",
            "17                       NORTH ADMIRAL  KIDNAPPING/ABDUCTION     0.424186\n",
            "18                          QUEEN ANNE  KIDNAPPING/ABDUCTION     0.408607\n",
            "20                              MORGAN  KIDNAPPING/ABDUCTION     0.395421\n",
            "21                            BELLTOWN  KIDNAPPING/ABDUCTION     0.336641\n",
            "27                      SOUTH DELRIDGE  KIDNAPPING/ABDUCTION     0.332707\n",
            "28                   ROOSEVELT/RAVENNA  KIDNAPPING/ABDUCTION     0.519508\n",
            "29                           GREENWOOD  KIDNAPPING/ABDUCTION     0.351145\n",
            "31                          FIRST HILL  KIDNAPPING/ABDUCTION     0.291451\n",
            "32                           NORTHGATE  KIDNAPPING/ABDUCTION     0.461122\n",
            "34                   NORTH BEACON HILL  KIDNAPPING/ABDUCTION     0.384338\n",
            "36                       PHINNEY RIDGE  KIDNAPPING/ABDUCTION     0.465063\n",
            "39      JUDKINS PARK/NORTH BEACON HILL  KIDNAPPING/ABDUCTION     0.342162\n",
            "40                       HIGHLAND PARK  KIDNAPPING/ABDUCTION     0.366854\n",
            "42                         MOUNT BAKER  KIDNAPPING/ABDUCTION     0.488722\n",
            "45             CLAREMONT/RAINIER VISTA      ASSAULT OFFENSES     0.284524\n",
            "50                     EASTLAKE - WEST  KIDNAPPING/ABDUCTION     0.430070\n",
            "53                      MADRONA/LESCHI  KIDNAPPING/ABDUCTION     0.427737\n",
            "57                            MAGNOLIA  KIDNAPPING/ABDUCTION     0.467499\n",
            "67                      PIONEER SQUARE      ASSAULT OFFENSES     0.310847\n",
            "73                            LAKECITY  KIDNAPPING/ABDUCTION     0.317903\n",
            "79                     EASTLAKE - EAST  KIDNAPPING/ABDUCTION     0.452830\n",
            "81                       RAINIER BEACH  KIDNAPPING/ABDUCTION     0.281920\n",
            "84                       FAUNTLEROY SW  KIDNAPPING/ABDUCTION     0.383378\n",
            "87                     BRIGHTON/DUNLAP  KIDNAPPING/ABDUCTION     0.259286\n",
            "88                MONTLAKE/PORTAGE BAY  KIDNAPPING/ABDUCTION     0.502439\n",
            "93                                SODO  KIDNAPPING/ABDUCTION     0.406277\n",
            "95                       BALLARD NORTH  KIDNAPPING/ABDUCTION     0.435871\n",
            "96      ROXHILL/WESTWOOD/ARBOR HEIGHTS  KIDNAPPING/ABDUCTION     0.438942\n",
            "97                      NORTH DELRIDGE  KIDNAPPING/ABDUCTION     0.351852\n",
            "98                             FREMONT  KIDNAPPING/ABDUCTION     0.418334\n",
            "106                               ALKI  KIDNAPPING/ABDUCTION     0.382540\n",
            "113                  SOUTH BEACON HILL  KIDNAPPING/ABDUCTION     0.309333\n",
            "119                         SOUTH PARK  KIDNAPPING/ABDUCTION     0.302491\n",
            "136                      COLUMBIA CITY  KIDNAPPING/ABDUCTION     0.358434\n",
            "142                       RAINIER VIEW  KIDNAPPING/ABDUCTION     0.373427\n",
            "146                         HIGH POINT  KIDNAPPING/ABDUCTION     0.313861\n",
            "148                         BITTERLAKE  KIDNAPPING/ABDUCTION     0.345186\n",
            "276                         GEORGETOWN  KIDNAPPING/ABDUCTION     0.347496\n",
            "332                       MADISON PARK  KIDNAPPING/ABDUCTION     0.450820\n",
            "338                          NEW HOLLY  KIDNAPPING/ABDUCTION     0.331343\n",
            "509                            GENESEE  KIDNAPPING/ABDUCTION     0.404306\n",
            "943                       HILLMAN CITY  KIDNAPPING/ABDUCTION     0.313901\n",
            "969                COMMERCIAL DUWAMISH  KIDNAPPING/ABDUCTION     0.237288\n",
            "1209          COMMERCIAL HARBOR ISLAND  KIDNAPPING/ABDUCTION     0.267857\n",
            "1909                      PIGEON POINT  KIDNAPPING/ABDUCTION     0.419540\n"
          ]
        }
      ]
    },
    {
      "cell_type": "markdown",
      "source": [
        "**Decision Tree Model Performance:**\n",
        "\n",
        "**Overall Accuracy:** The accuracy on the test set is 0.3818, which means around 38.18% of the predictions made by the Decision Tree model are correct.\n",
        "\n",
        "**Classification Report:**\n",
        "Similar to the previous models, there's a significant variance in performance across different crime types.\n",
        "The precision and recall for most crime types are 0.00, showing the model's inability to effectively predict these crime types. This could be due to various reasons such as lack of representative data for these classes, or the model's limitations.\n",
        "The model shows better performance for crime type 20 with high recall (0.99) and moderate precision (0.38), suggesting a potential class imbalance issue.\n",
        "The weighted average for precision, recall, and F1-score are low, indicating the model is not performing well overall in differentiating between the various crime types."
      ],
      "metadata": {
        "id": "56c3kveOHLBP"
      },
      "id": "56c3kveOHLBP"
    },
    {
      "cell_type": "code",
      "source": [
        "from tabulate import tabulate\n",
        "\n",
        "# List of model predictions\n",
        "model_predictions = {\n",
        "    'Random Forest': rf_y_pred,\n",
        "    'Logistic Regression': lr_y_pred,\n",
        "    'Gradient Boosting': gb_y_pred,\n",
        "    'Decision Tree': dt_y_pred\n",
        "}\n",
        "\n",
        "# Initialize a DataFrame to store the metrics\n",
        "metrics_df = pd.DataFrame(columns=['Model', 'Precision', 'Recall', 'F1-Score'])\n",
        "\n",
        "# Calculate and store precision, recall, and F1-score for each model\n",
        "for model_name, predictions in model_predictions.items():\n",
        "    precision, recall, f1_score, _ = precision_recall_fscore_support(y_test, predictions, average='weighted')\n",
        "    metrics_df = metrics_df.append({'Model': model_name, 'Precision': precision, 'Recall': recall, 'F1-Score': f1_score}, ignore_index=True)\n",
        "\n",
        "# Display the metrics DataFrame using tabulate\n",
        "print(\"Performance Metrics Before Cross-Validation:\")\n",
        "print(tabulate(metrics_df, headers='keys', tablefmt='grid'))\n",
        "\n",
        "\n"
      ],
      "metadata": {
        "id": "kynqDpd3_XXc",
        "colab": {
          "base_uri": "https://localhost:8080/"
        },
        "outputId": "4416923b-4a13-4d3d-8588-64513d2246ef"
      },
      "id": "kynqDpd3_XXc",
      "execution_count": 20,
      "outputs": [
        {
          "output_type": "stream",
          "name": "stdout",
          "text": [
            "Performance Metrics Before Cross-Validation:\n",
            "+----+---------------------+-------------+----------+------------+\n",
            "|    | Model               |   Precision |   Recall |   F1-Score |\n",
            "+====+=====================+=============+==========+============+\n",
            "|  0 | Random Forest       |    0.192594 | 0.381805 |   0.217893 |\n",
            "+----+---------------------+-------------+----------+------------+\n",
            "|  1 | Logistic Regression |    0.192523 | 0.38184  |   0.221228 |\n",
            "+----+---------------------+-------------+----------+------------+\n",
            "|  2 | Gradient Boosting   |    0.145435 | 0.38111  |   0.210529 |\n",
            "+----+---------------------+-------------+----------+------------+\n",
            "|  3 | Decision Tree       |    0.192523 | 0.38184  |   0.221228 |\n",
            "+----+---------------------+-------------+----------+------------+\n"
          ]
        }
      ]
    },
    {
      "cell_type": "markdown",
      "source": [
        "\n",
        "1. **Random Forest**:\n",
        "   - **Precision: 0.192594** - This suggests that when the Random Forest model predicts a certain crime type, it is correct approximately 19.26% of the time. This is relatively low, indicating a high rate of false positives.\n",
        "   - **Recall: 0.381805** - About 38.18% of actual crimes of a specific type are correctly identified by the model. This suggests moderate sensitivity.\n",
        "   - **F1-Score: 0.217893** - The F1-Score balances precision and recall, and a score of approximately 0.218 indicates moderate overall accuracy, but with room for improvement.\n",
        "\n",
        "2. **Logistic Regression**:\n",
        "   - **Precision: 0.192523** - Similar to Random Forest, Logistic Regression is correct about 19.25% of the time when predicting a crime type.\n",
        "   - **Recall: 0.381840** - This model also correctly identifies about 38.18% of the actual crimes, indicating a similar recall to Random Forest.\n",
        "   - **F1-Score: 0.221228** - The slightly higher F1-Score compared to Random Forest suggests a marginally better balance between precision and recall.\n",
        "\n",
        "3. **Gradient Boosting**:\n",
        "   - **Precision: 0.145435** - This model has a lower precision, being correct only about 14.54% of the time, indicating more false positives compared to the other models.\n",
        "   - **Recall: 0.381110** - Its ability to identify actual crimes is comparable to the other models (approximately 38.11%).\n",
        "   - **F1-Score: 0.210529** - The overall balance between precision and recall is slightly lower than the other models.\n",
        "\n",
        "4. **Decision Tree**:\n",
        "   - **Precision: 0.192523** - Identical to Logistic Regression, indicating similar rates of false positives.\n",
        "   - **Recall: 0.381840** - The same recall as Logistic Regression, suggesting equal effectiveness in identifying actual crimes.\n",
        "   - **F1-Score: 0.221228** - This score is identical to Logistic Regression, indicating a similar overall performance.\n",
        "\n",
        "### Crime Type Prediction Task Analysis:\n",
        "\n",
        "- **Recall Across Models**: All models have similar recall scores, suggesting they are equally capable of identifying actual crimes. However, the recall is less than 50%, indicating that more than half of the actual crimes are not being detected by any of the models.\n",
        "\n",
        "- **Precision and False Positives**: The precision is low for all models, especially for Gradient Boosting. This implies that there are a significant number of false positives – instances where the models incorrectly predict a crime type.\n",
        "\n",
        "- **Overall Accuracy (F1-Score)**: The F1-Scores are moderate but suggest there is significant room for improvement. The similar F1-Scores of Logistic Regression and Decision Tree might indicate that these models are striking a similar balance between missing actual crimes and incorrectly predicting crimes that did not happen.\n",
        "\n",
        "For our crime type prediction task, these metrics suggest that while the models are somewhat effective in identifying crimes (as shown by recall), they are not very precise, leading to many false alarms (as shown by precision)."
      ],
      "metadata": {
        "id": "y8h8p94lBnK0"
      },
      "id": "y8h8p94lBnK0"
    },
    {
      "cell_type": "markdown",
      "source": [
        "**Applying cross validation**"
      ],
      "metadata": {
        "id": "xk9k9j_uRw0a"
      },
      "id": "xk9k9j_uRw0a"
    },
    {
      "cell_type": "code",
      "source": [
        " from sklearn.model_selection import cross_validate\n",
        "from tabulate import tabulate\n",
        "\n",
        "# Define the number of folds for cross-validation\n",
        "num_folds = 5\n",
        "\n",
        "# Define the scoring metrics\n",
        "scoring_metrics = ['accuracy', 'precision_macro', 'recall_macro', 'f1_macro']\n",
        "\n",
        "# Initialize a dictionary to store the results\n",
        "results = {'Model': [], 'Mean Accuracy': [], 'Mean Precision': [], 'Mean Recall': [], 'Mean F1 Score': []}\n",
        "\n",
        "# Perform cross-validation and store the results\n",
        "for model_name, model in [('Random Forest', rf_model), ('Logistic Regression', lr_model), ('Gradient Boosting', gb_model), ('Decision Tree', dt_model)]:\n",
        "    cv_results = cross_validate(model, X_train, y_train, cv=num_folds, scoring=scoring_metrics)\n",
        "    results['Model'].append(model_name)\n",
        "    results['Mean Accuracy'].append(cv_results['test_accuracy'].mean())\n",
        "    results['Mean Precision'].append(cv_results['test_precision_macro'].mean())\n",
        "    results['Mean Recall'].append(cv_results['test_recall_macro'].mean())\n",
        "    results['Mean F1 Score'].append(cv_results['test_f1_macro'].mean())\n",
        "\n",
        "# Display the results in tabular form\n",
        "print(tabulate(results, headers='keys', tablefmt='grid'))\n"
      ],
      "metadata": {
        "colab": {
          "base_uri": "https://localhost:8080/"
        },
        "id": "cHGv5SrilJyI",
        "outputId": "c083f691-01ab-412c-a434-f48751d4ff12"
      },
      "id": "cHGv5SrilJyI",
      "execution_count": 21,
      "outputs": [
        {
          "output_type": "stream",
          "name": "stdout",
          "text": [
            "+---------------------+-----------------+------------------+---------------+-----------------+\n",
            "| Model               |   Mean Accuracy |   Mean Precision |   Mean Recall |   Mean F1 Score |\n",
            "+=====================+=================+==================+===============+=================+\n",
            "| Random Forest       |        0.381423 |        0.0225129 |     0.0338142 |       0.0202627 |\n",
            "+---------------------+-----------------+------------------+---------------+-----------------+\n",
            "| Logistic Regression |        0.381431 |        0.0227025 |     0.0337685 |       0.0201375 |\n",
            "+---------------------+-----------------+------------------+---------------+-----------------+\n",
            "| Gradient Boosting   |        0.380901 |        0.0166017 |     0.0333101 |       0.0188924 |\n",
            "+---------------------+-----------------+------------------+---------------+-----------------+\n",
            "| Decision Tree       |        0.381423 |        0.0225129 |     0.0338142 |       0.0202627 |\n",
            "+---------------------+-----------------+------------------+---------------+-----------------+\n"
          ]
        }
      ]
    },
    {
      "cell_type": "markdown",
      "source": [
        "After cross-validation, all models exhibit low precision, recall, and F1 scores. The Random Forest and Decision Tree models have identical metrics, and the Logistic Regression model shows similar performance. Gradient Boosting has slightly lower scores across all metrics. This uniformity in results, particularly the low precision and F1 scores, suggests a need for further model tuning."
      ],
      "metadata": {
        "id": "XnMdUvdUwUD2"
      },
      "id": "XnMdUvdUwUD2"
    },
    {
      "cell_type": "markdown",
      "source": [
        "\n",
        "**Understanding the Challenge of Predicting Crime with Data:**\n",
        "Crime prediction models face complex challenges due to the multifaceted nature of crime. Various factors such as socio-economic conditions, demographic shifts, and geographic elements interact in unpredictable ways, making accurate predictions difficult.\n",
        "\n",
        "**Rationale Behind Model Selection:**\n",
        "Our choice of models - RandomForest, Logistic Regression, Gradient Boosting, and Decision Tree - was based on their diverse capabilities in pattern recognition and data handling. Each model brings a unique approach to the table, allowing us to explore different angles of the data.\n",
        "\n",
        "**The Role of Cross-Validation:**\n",
        "We employed cross-validation to ensure a thorough and unbiased evaluation of each model's performance. This method provides insights into how these models fare across various data segments, enhancing the reliability of our results.\n",
        "\n",
        "**Interpreting Our Metrics:**\n",
        "The observed low precision, recall, and F1 scores indicate a challenge in effectively predicting less frequent crime occurrences, a common issue in imbalanced datasets. These metrics highlight areas where our models need refinement.\n",
        "\n",
        "**Pathways to Improvement:**\n",
        "Moving forward, we aim to enhance our models through advanced feature engineering, hyperparameter optimization, and potentially incorporating more complex algorithms. Additionally, integrating more contextual data, like socio-economic indicators, could enrich our models' understanding of the underlying patterns in crime data.\n",
        "\n"
      ],
      "metadata": {
        "id": "AwhW8U4u0HfK"
      },
      "id": "AwhW8U4u0HfK"
    }
  ],
  "metadata": {
    "kernelspec": {
      "display_name": "Python 3 (ipykernel)",
      "language": "python",
      "name": "python3"
    },
    "language_info": {
      "codemirror_mode": {
        "name": "ipython",
        "version": 3
      },
      "file_extension": ".py",
      "mimetype": "text/x-python",
      "name": "python",
      "nbconvert_exporter": "python",
      "pygments_lexer": "ipython3",
      "version": "3.9.12"
    },
    "colab": {
      "provenance": []
    }
  },
  "nbformat": 4,
  "nbformat_minor": 5
}