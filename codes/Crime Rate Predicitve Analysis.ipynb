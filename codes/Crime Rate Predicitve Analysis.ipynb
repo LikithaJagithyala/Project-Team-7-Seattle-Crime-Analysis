{
 "cells": [
  {
   "cell_type": "markdown",
   "id": "ac596ae0",
   "metadata": {
    "id": "ac596ae0"
   },
   "source": [
    "# Crime Rate Regression\n",
    "\n",
    "Based on: MCPP & Season\n"
   ]
  },
  {
   "cell_type": "code",
   "execution_count": null,
   "id": "d38d05f3",
   "metadata": {
    "id": "d38d05f3"
   },
   "outputs": [],
   "source": [
    "#data preprocessing and CV\n",
    "from sklearn.model_selection import train_test_split, cross_val_score, GridSearchCV, RepeatedStratifiedKFold, cross_validate\n",
    "#from sklearn.pipeline import make_pipeline, Pipeline\n",
    "from sklearn.preprocessing import OrdinalEncoder\n",
    "\n",
    "#data imbalance handling\n",
    "from imblearn.over_sampling import RandomOverSampler, SMOTE\n",
    "from imblearn.under_sampling import RandomUnderSampler, NearMiss\n",
    "from imblearn.pipeline import Pipeline\n",
    "\n",
    "# Can use either of the three classifiers below\n",
    "from sklearn.neighbors import KNeighborsClassifier\n",
    "from sklearn.linear_model import LogisticRegression, Lasso, RidgeCV, LogisticRegression, LassoCV\n",
    "from sklearn.naive_bayes import GaussianNB\n",
    "from sklearn.tree import DecisionTreeClassifier\n",
    "from sklearn.neural_network import MLPClassifier\n",
    "from sklearn.svm import SVC\n",
    "\n",
    "from sklearn import ensemble #import all ensemble model\n",
    "\n",
    "#from sklearn import datasets\n",
    "from sklearn.utils import shuffle\n",
    "from sklearn.metrics import mean_squared_error, r2_score, mean_absolute_error, accuracy_score, confusion_matrix, classification_report"
   ]
  },
  {
   "cell_type": "markdown",
   "id": "b0918a9a",
   "metadata": {
    "id": "b0918a9a"
   },
   "source": [
    "## Model Input Preprocessing\n",
    "\n",
    "RF regressor on CRIME_RATE"
   ]
  },
  {
   "cell_type": "code",
   "execution_count": null,
   "id": "52961dad",
   "metadata": {
    "id": "52961dad"
   },
   "outputs": [],
   "source": [
    "#load data (this df already combined the crime data aggregated per year and season, and mcpp population demographic)\n",
    "crime_census_df = pd.read_csv(\"./crime_census_df_2010-2019_CR_SEASON.csv\",\n",
    "                        index_col= [0]) #csv contains index"
   ]
  },
  {
   "cell_type": "code",
   "execution_count": null,
   "id": "2e6bc4b5",
   "metadata": {
    "id": "2e6bc4b5",
    "outputId": "1f6b3bc8-c536-41e4-fef0-a6b010647ebd",
    "scrolled": true
   },
   "outputs": [
    {
     "data": {
      "text/html": [
       "<div>\n",
       "<style scoped>\n",
       "    .dataframe tbody tr th:only-of-type {\n",
       "        vertical-align: middle;\n",
       "    }\n",
       "\n",
       "    .dataframe tbody tr th {\n",
       "        vertical-align: top;\n",
       "    }\n",
       "\n",
       "    .dataframe thead th {\n",
       "        text-align: right;\n",
       "    }\n",
       "</style>\n",
       "<table border=\"1\" class=\"dataframe\">\n",
       "  <thead>\n",
       "    <tr style=\"text-align: right;\">\n",
       "      <th></th>\n",
       "      <th>MCPP</th>\n",
       "      <th>SEASON</th>\n",
       "      <th>YEAR</th>\n",
       "      <th>OFFENSE_COUNT</th>\n",
       "      <th>MCPP_POPULATION</th>\n",
       "      <th>MCPP_ACRES_LAND</th>\n",
       "      <th>MCPP_MEDIAN_AGE</th>\n",
       "      <th>MCPP_PCT_OCCUPIED_HOUSING</th>\n",
       "      <th>MCPP_PCT_BACHELOR</th>\n",
       "      <th>MCPP_MEDIAN_GROSS_RENT</th>\n",
       "      <th>MCPP_PCT_UNEMPLOYED</th>\n",
       "      <th>MCPP_MEDIAN_HH_INCOME</th>\n",
       "      <th>MCPP_PCT_POVERTY</th>\n",
       "      <th>CRIME_RATE</th>\n",
       "    </tr>\n",
       "  </thead>\n",
       "  <tbody>\n",
       "    <tr>\n",
       "      <th>2315</th>\n",
       "      <td>WALLINGFORD</td>\n",
       "      <td>Winter</td>\n",
       "      <td>2015</td>\n",
       "      <td>244</td>\n",
       "      <td>15785.0</td>\n",
       "      <td>902.37</td>\n",
       "      <td>34.58</td>\n",
       "      <td>45.77</td>\n",
       "      <td>71.02</td>\n",
       "      <td>1104.4</td>\n",
       "      <td>5.54</td>\n",
       "      <td>71316.1</td>\n",
       "      <td>13.37</td>\n",
       "      <td>15.46</td>\n",
       "    </tr>\n",
       "    <tr>\n",
       "      <th>2316</th>\n",
       "      <td>WALLINGFORD</td>\n",
       "      <td>Winter</td>\n",
       "      <td>2016</td>\n",
       "      <td>330</td>\n",
       "      <td>15785.0</td>\n",
       "      <td>902.37</td>\n",
       "      <td>34.58</td>\n",
       "      <td>45.77</td>\n",
       "      <td>71.02</td>\n",
       "      <td>1104.4</td>\n",
       "      <td>5.54</td>\n",
       "      <td>71316.1</td>\n",
       "      <td>13.37</td>\n",
       "      <td>20.91</td>\n",
       "    </tr>\n",
       "    <tr>\n",
       "      <th>2317</th>\n",
       "      <td>WALLINGFORD</td>\n",
       "      <td>Winter</td>\n",
       "      <td>2017</td>\n",
       "      <td>336</td>\n",
       "      <td>15785.0</td>\n",
       "      <td>902.37</td>\n",
       "      <td>34.58</td>\n",
       "      <td>45.77</td>\n",
       "      <td>71.02</td>\n",
       "      <td>1104.4</td>\n",
       "      <td>5.54</td>\n",
       "      <td>71316.1</td>\n",
       "      <td>13.37</td>\n",
       "      <td>21.29</td>\n",
       "    </tr>\n",
       "    <tr>\n",
       "      <th>2318</th>\n",
       "      <td>WALLINGFORD</td>\n",
       "      <td>Winter</td>\n",
       "      <td>2018</td>\n",
       "      <td>300</td>\n",
       "      <td>15785.0</td>\n",
       "      <td>902.37</td>\n",
       "      <td>34.58</td>\n",
       "      <td>45.77</td>\n",
       "      <td>71.02</td>\n",
       "      <td>1104.4</td>\n",
       "      <td>5.54</td>\n",
       "      <td>71316.1</td>\n",
       "      <td>13.37</td>\n",
       "      <td>19.01</td>\n",
       "    </tr>\n",
       "    <tr>\n",
       "      <th>2319</th>\n",
       "      <td>WALLINGFORD</td>\n",
       "      <td>Winter</td>\n",
       "      <td>2019</td>\n",
       "      <td>227</td>\n",
       "      <td>15785.0</td>\n",
       "      <td>902.37</td>\n",
       "      <td>34.58</td>\n",
       "      <td>45.77</td>\n",
       "      <td>71.02</td>\n",
       "      <td>1104.4</td>\n",
       "      <td>5.54</td>\n",
       "      <td>71316.1</td>\n",
       "      <td>13.37</td>\n",
       "      <td>14.38</td>\n",
       "    </tr>\n",
       "  </tbody>\n",
       "</table>\n",
       "</div>"
      ],
      "text/plain": [
       "             MCPP  SEASON  YEAR  OFFENSE_COUNT  MCPP_POPULATION  \\\n",
       "2315  WALLINGFORD  Winter  2015            244          15785.0   \n",
       "2316  WALLINGFORD  Winter  2016            330          15785.0   \n",
       "2317  WALLINGFORD  Winter  2017            336          15785.0   \n",
       "2318  WALLINGFORD  Winter  2018            300          15785.0   \n",
       "2319  WALLINGFORD  Winter  2019            227          15785.0   \n",
       "\n",
       "      MCPP_ACRES_LAND  MCPP_MEDIAN_AGE  MCPP_PCT_OCCUPIED_HOUSING  \\\n",
       "2315           902.37            34.58                      45.77   \n",
       "2316           902.37            34.58                      45.77   \n",
       "2317           902.37            34.58                      45.77   \n",
       "2318           902.37            34.58                      45.77   \n",
       "2319           902.37            34.58                      45.77   \n",
       "\n",
       "      MCPP_PCT_BACHELOR  MCPP_MEDIAN_GROSS_RENT  MCPP_PCT_UNEMPLOYED  \\\n",
       "2315              71.02                  1104.4                 5.54   \n",
       "2316              71.02                  1104.4                 5.54   \n",
       "2317              71.02                  1104.4                 5.54   \n",
       "2318              71.02                  1104.4                 5.54   \n",
       "2319              71.02                  1104.4                 5.54   \n",
       "\n",
       "      MCPP_MEDIAN_HH_INCOME  MCPP_PCT_POVERTY  CRIME_RATE  \n",
       "2315                71316.1             13.37       15.46  \n",
       "2316                71316.1             13.37       20.91  \n",
       "2317                71316.1             13.37       21.29  \n",
       "2318                71316.1             13.37       19.01  \n",
       "2319                71316.1             13.37       14.38  "
      ]
     },
     "execution_count": 145,
     "metadata": {},
     "output_type": "execute_result"
    }
   ],
   "source": [
    "#recheck model input\n",
    "crime_census_df.tail()"
   ]
  },
  {
   "cell_type": "markdown",
   "id": "4c35caed",
   "metadata": {
    "id": "4c35caed"
   },
   "source": [
    "### Encode Categorical"
   ]
  },
  {
   "cell_type": "code",
   "execution_count": null,
   "id": "37b8cd92",
   "metadata": {
    "id": "37b8cd92",
    "outputId": "c1b07800-1825-4a5c-de26-8e56b1c65609"
   },
   "outputs": [
    {
     "data": {
      "text/plain": [
       "['MCPP', 'SEASON']"
      ]
     },
     "execution_count": 176,
     "metadata": {},
     "output_type": "execute_result"
    }
   ],
   "source": [
    "input_df = crime_census_df.copy()\n",
    "\n",
    "from sklearn.compose import make_column_selector as selector\n",
    "\n",
    "cat_col_selector = selector(dtype_include= object)\n",
    "cat_cols = cat_col_selector(input_df)\n",
    "cat_cols"
   ]
  },
  {
   "cell_type": "code",
   "execution_count": null,
   "id": "ab218a15",
   "metadata": {
    "id": "ab218a15",
    "outputId": "9744e73b-b77a-484d-e994-a6d81ba64431"
   },
   "outputs": [
    {
     "data": {
      "text/html": [
       "<div>\n",
       "<style scoped>\n",
       "    .dataframe tbody tr th:only-of-type {\n",
       "        vertical-align: middle;\n",
       "    }\n",
       "\n",
       "    .dataframe tbody tr th {\n",
       "        vertical-align: top;\n",
       "    }\n",
       "\n",
       "    .dataframe thead th {\n",
       "        text-align: right;\n",
       "    }\n",
       "</style>\n",
       "<table border=\"1\" class=\"dataframe\">\n",
       "  <thead>\n",
       "    <tr style=\"text-align: right;\">\n",
       "      <th></th>\n",
       "      <th>MCPP</th>\n",
       "      <th>SEASON</th>\n",
       "      <th>YEAR</th>\n",
       "      <th>OFFENSE_COUNT</th>\n",
       "      <th>MCPP_POPULATION</th>\n",
       "      <th>MCPP_ACRES_LAND</th>\n",
       "      <th>MCPP_MEDIAN_AGE</th>\n",
       "      <th>MCPP_PCT_OCCUPIED_HOUSING</th>\n",
       "      <th>MCPP_PCT_BACHELOR</th>\n",
       "      <th>MCPP_MEDIAN_GROSS_RENT</th>\n",
       "      <th>MCPP_PCT_UNEMPLOYED</th>\n",
       "      <th>MCPP_MEDIAN_HH_INCOME</th>\n",
       "      <th>MCPP_PCT_POVERTY</th>\n",
       "      <th>CRIME_RATE</th>\n",
       "    </tr>\n",
       "  </thead>\n",
       "  <tbody>\n",
       "    <tr>\n",
       "      <th>0</th>\n",
       "      <td>0.0</td>\n",
       "      <td>0.0</td>\n",
       "      <td>2010</td>\n",
       "      <td>203</td>\n",
       "      <td>10805.0</td>\n",
       "      <td>871.16</td>\n",
       "      <td>38.03</td>\n",
       "      <td>56.23</td>\n",
       "      <td>52.69</td>\n",
       "      <td>1004.43</td>\n",
       "      <td>6.99</td>\n",
       "      <td>67934.71</td>\n",
       "      <td>11.51</td>\n",
       "      <td>18.79</td>\n",
       "    </tr>\n",
       "    <tr>\n",
       "      <th>1</th>\n",
       "      <td>0.0</td>\n",
       "      <td>0.0</td>\n",
       "      <td>2011</td>\n",
       "      <td>149</td>\n",
       "      <td>10805.0</td>\n",
       "      <td>871.16</td>\n",
       "      <td>38.03</td>\n",
       "      <td>56.23</td>\n",
       "      <td>52.69</td>\n",
       "      <td>1004.43</td>\n",
       "      <td>6.99</td>\n",
       "      <td>67934.71</td>\n",
       "      <td>11.51</td>\n",
       "      <td>13.79</td>\n",
       "    </tr>\n",
       "    <tr>\n",
       "      <th>2</th>\n",
       "      <td>0.0</td>\n",
       "      <td>0.0</td>\n",
       "      <td>2012</td>\n",
       "      <td>209</td>\n",
       "      <td>10805.0</td>\n",
       "      <td>871.16</td>\n",
       "      <td>38.03</td>\n",
       "      <td>56.23</td>\n",
       "      <td>52.69</td>\n",
       "      <td>1004.43</td>\n",
       "      <td>6.99</td>\n",
       "      <td>67934.71</td>\n",
       "      <td>11.51</td>\n",
       "      <td>19.34</td>\n",
       "    </tr>\n",
       "    <tr>\n",
       "      <th>3</th>\n",
       "      <td>0.0</td>\n",
       "      <td>0.0</td>\n",
       "      <td>2013</td>\n",
       "      <td>213</td>\n",
       "      <td>10805.0</td>\n",
       "      <td>871.16</td>\n",
       "      <td>38.03</td>\n",
       "      <td>56.23</td>\n",
       "      <td>52.69</td>\n",
       "      <td>1004.43</td>\n",
       "      <td>6.99</td>\n",
       "      <td>67934.71</td>\n",
       "      <td>11.51</td>\n",
       "      <td>19.71</td>\n",
       "    </tr>\n",
       "    <tr>\n",
       "      <th>4</th>\n",
       "      <td>0.0</td>\n",
       "      <td>0.0</td>\n",
       "      <td>2014</td>\n",
       "      <td>155</td>\n",
       "      <td>10805.0</td>\n",
       "      <td>871.16</td>\n",
       "      <td>38.03</td>\n",
       "      <td>56.23</td>\n",
       "      <td>52.69</td>\n",
       "      <td>1004.43</td>\n",
       "      <td>6.99</td>\n",
       "      <td>67934.71</td>\n",
       "      <td>11.51</td>\n",
       "      <td>14.35</td>\n",
       "    </tr>\n",
       "  </tbody>\n",
       "</table>\n",
       "</div>"
      ],
      "text/plain": [
       "   MCPP  SEASON  YEAR  OFFENSE_COUNT  MCPP_POPULATION  MCPP_ACRES_LAND  \\\n",
       "0   0.0     0.0  2010            203          10805.0           871.16   \n",
       "1   0.0     0.0  2011            149          10805.0           871.16   \n",
       "2   0.0     0.0  2012            209          10805.0           871.16   \n",
       "3   0.0     0.0  2013            213          10805.0           871.16   \n",
       "4   0.0     0.0  2014            155          10805.0           871.16   \n",
       "\n",
       "   MCPP_MEDIAN_AGE  MCPP_PCT_OCCUPIED_HOUSING  MCPP_PCT_BACHELOR  \\\n",
       "0            38.03                      56.23              52.69   \n",
       "1            38.03                      56.23              52.69   \n",
       "2            38.03                      56.23              52.69   \n",
       "3            38.03                      56.23              52.69   \n",
       "4            38.03                      56.23              52.69   \n",
       "\n",
       "   MCPP_MEDIAN_GROSS_RENT  MCPP_PCT_UNEMPLOYED  MCPP_MEDIAN_HH_INCOME  \\\n",
       "0                 1004.43                 6.99               67934.71   \n",
       "1                 1004.43                 6.99               67934.71   \n",
       "2                 1004.43                 6.99               67934.71   \n",
       "3                 1004.43                 6.99               67934.71   \n",
       "4                 1004.43                 6.99               67934.71   \n",
       "\n",
       "   MCPP_PCT_POVERTY  CRIME_RATE  \n",
       "0             11.51       18.79  \n",
       "1             11.51       13.79  \n",
       "2             11.51       19.34  \n",
       "3             11.51       19.71  \n",
       "4             11.51       14.35  "
      ]
     },
     "execution_count": 177,
     "metadata": {},
     "output_type": "execute_result"
    }
   ],
   "source": [
    "enc = OrdinalEncoder()\n",
    "input_df[cat_cols] = enc.fit_transform(input_df[cat_cols])\n",
    "input_df.head()"
   ]
  },
  {
   "cell_type": "code",
   "execution_count": null,
   "id": "38237a28",
   "metadata": {
    "id": "38237a28",
    "outputId": "4b4f30e9-a229-4b13-8c0e-84adaeeaf1dc"
   },
   "outputs": [
    {
     "name": "stdout",
     "output_type": "stream",
     "text": [
      "<class 'pandas.core.frame.DataFrame'>\n",
      "RangeIndex: 232 entries, 0 to 231\n",
      "Data columns (total 13 columns):\n",
      " #   Column                     Non-Null Count  Dtype  \n",
      "---  ------                     --------------  -----  \n",
      " 0   MCPP                       232 non-null    float64\n",
      " 1   SEASON                     232 non-null    float64\n",
      " 2   OFFENSE_COUNT              232 non-null    int64  \n",
      " 3   MCPP_POPULATION            232 non-null    float64\n",
      " 4   MCPP_ACRES_LAND            232 non-null    float64\n",
      " 5   MCPP_MEDIAN_AGE            232 non-null    float64\n",
      " 6   MCPP_PCT_OCCUPIED_HOUSING  232 non-null    float64\n",
      " 7   MCPP_PCT_BACHELOR          232 non-null    float64\n",
      " 8   MCPP_MEDIAN_GROSS_RENT     232 non-null    float64\n",
      " 9   MCPP_PCT_UNEMPLOYED        232 non-null    float64\n",
      " 10  MCPP_MEDIAN_HH_INCOME      232 non-null    float64\n",
      " 11  MCPP_PCT_POVERTY           232 non-null    float64\n",
      " 12  CRIME_RATE                 232 non-null    float64\n",
      "dtypes: float64(12), int64(1)\n",
      "memory usage: 23.7 KB\n"
     ]
    }
   ],
   "source": [
    "input_df.info()"
   ]
  },
  {
   "cell_type": "code",
   "execution_count": null,
   "id": "cdffbf92",
   "metadata": {
    "id": "cdffbf92",
    "outputId": "2c871efa-8bd3-4cb0-c841-ed7ad2940e40",
    "scrolled": true
   },
   "outputs": [
    {
     "data": {
      "text/plain": [
       "[array(['ALASKA JUNCTION', 'ALKI', 'BALLARD NORTH', 'BALLARD SOUTH',\n",
       "        'BELLTOWN', 'BITTERLAKE', 'BRIGHTON/DUNLAP', 'CAPITOL HILL',\n",
       "        'CENTRAL AREA/SQUIRE PARK', 'CHINATOWN/INTERNATIONAL DISTRICT',\n",
       "        'CLAREMONT/RAINIER VISTA', 'COLUMBIA CITY', 'COMMERCIAL DUWAMISH',\n",
       "        'COMMERCIAL HARBOR ISLAND', 'DOWNTOWN COMMERCIAL',\n",
       "        'EASTLAKE - EAST', 'EASTLAKE - WEST', 'FAUNTLEROY SW',\n",
       "        'FIRST HILL', 'FREMONT', 'GENESEE', 'GEORGETOWN', 'GREENWOOD',\n",
       "        'HIGH POINT', 'HIGHLAND PARK', 'HILLMAN CITY',\n",
       "        'JUDKINS PARK/NORTH BEACON HILL', 'LAKECITY',\n",
       "        'LAKEWOOD/SEWARD PARK', 'MADISON PARK', 'MADRONA/LESCHI',\n",
       "        'MAGNOLIA', 'MID BEACON HILL', 'MILLER PARK',\n",
       "        'MONTLAKE/PORTAGE BAY', 'MORGAN', 'MOUNT BAKER', 'NEW HOLLY',\n",
       "        'NORTH ADMIRAL', 'NORTH BEACON HILL', 'NORTH DELRIDGE',\n",
       "        'NORTHGATE', 'PHINNEY RIDGE', 'PIGEON POINT', 'PIONEER SQUARE',\n",
       "        'QUEEN ANNE', 'RAINIER BEACH', 'RAINIER VIEW', 'ROOSEVELT/RAVENNA',\n",
       "        'ROXHILL/WESTWOOD/ARBOR HEIGHTS', 'SANDPOINT', 'SLU/CASCADE',\n",
       "        'SODO', 'SOUTH BEACON HILL', 'SOUTH DELRIDGE', 'SOUTH PARK',\n",
       "        'UNIVERSITY', 'WALLINGFORD'], dtype=object),\n",
       " array(['Fall', 'Spring', 'Summer', 'Winter'], dtype=object)]"
      ]
     },
     "execution_count": 178,
     "metadata": {},
     "output_type": "execute_result"
    }
   ],
   "source": [
    "#check categories for the categorical columns.\n",
    "enc.categories_"
   ]
  },
  {
   "cell_type": "code",
   "execution_count": null,
   "id": "276f73cc",
   "metadata": {
    "id": "276f73cc",
    "outputId": "44cdd4e7-149b-4d05-e016-201b1de8bca2"
   },
   "outputs": [
    {
     "data": {
      "text/plain": [
       "array(['Fall', 'Spring', 'Summer', 'Winter'], dtype=object)"
      ]
     },
     "execution_count": 21,
     "metadata": {},
     "output_type": "execute_result"
    }
   ],
   "source": [
    "enc.categories_[1]"
   ]
  },
  {
   "cell_type": "code",
   "execution_count": null,
   "id": "d67d8b8e",
   "metadata": {
    "id": "d67d8b8e",
    "outputId": "889e0d1c-d287-4fe4-dce8-22ffffe9b32a"
   },
   "outputs": [
    {
     "data": {
      "text/plain": [
       "array([0., 1., 2., 3.])"
      ]
     },
     "execution_count": 25,
     "metadata": {},
     "output_type": "execute_result"
    }
   ],
   "source": [
    "input_df['SEASON'].unique()"
   ]
  },
  {
   "cell_type": "markdown",
   "id": "ad305ea9",
   "metadata": {
    "id": "ad305ea9"
   },
   "source": [
    "### Split Train Test"
   ]
  },
  {
   "cell_type": "code",
   "execution_count": null,
   "id": "b37c05cc",
   "metadata": {
    "id": "b37c05cc",
    "outputId": "28e4b921-83e7-46e2-a770-58009bab53f7"
   },
   "outputs": [
    {
     "name": "stdout",
     "output_type": "stream",
     "text": [
      "Shape of X: (2320, 11)\n",
      "Shape of Y: (2320,)\n"
     ]
    }
   ],
   "source": [
    "#set features X and target y variables\n",
    "# Treat the column CRIME_RATE as our predictive objective\n",
    "y = input_df[\"CRIME_RATE\"]\n",
    "\n",
    "# All other columns will be used as features when training our model\n",
    "X = input_df.drop([\"CRIME_RATE\", \"OFFENSE_COUNT\", \"YEAR\"], axis=1)\n",
    "\n",
    "print(\"Shape of X:\",X.shape)\n",
    "print(\"Shape of Y:\",y.shape)"
   ]
  },
  {
   "cell_type": "code",
   "execution_count": null,
   "id": "d8c35943",
   "metadata": {
    "id": "d8c35943",
    "outputId": "a0d68271-d1c2-48dc-a037-bc1e70d1348f"
   },
   "outputs": [
    {
     "name": "stdout",
     "output_type": "stream",
     "text": [
      "Shape of X_train: (1624, 11)\n",
      "Shape of X_test: (696, 11)\n"
     ]
    }
   ],
   "source": [
    "# Split 70% of the data for training and leave out 30% for testing\n",
    "from sklearn.model_selection import train_test_split\n",
    "\n",
    "X_train, X_test, y_train, y_test = train_test_split(X, y,\n",
    "                                                    test_size=0.3, random_state=42,\n",
    "                                                    stratify=X['MCPP']) #only for finer time features but left it here\n",
    "\n",
    "print(\"Shape of X_train:\",X_train.shape)\n",
    "print(\"Shape of X_test:\",X_test.shape)"
   ]
  },
  {
   "cell_type": "code",
   "execution_count": null,
   "id": "983f7f40",
   "metadata": {
    "id": "983f7f40",
    "outputId": "7921bc5a-2997-4310-a108-bada2ddeccb2",
    "scrolled": true
   },
   "outputs": [
    {
     "data": {
      "text/html": [
       "<div>\n",
       "<style scoped>\n",
       "    .dataframe tbody tr th:only-of-type {\n",
       "        vertical-align: middle;\n",
       "    }\n",
       "\n",
       "    .dataframe tbody tr th {\n",
       "        vertical-align: top;\n",
       "    }\n",
       "\n",
       "    .dataframe thead th {\n",
       "        text-align: right;\n",
       "    }\n",
       "</style>\n",
       "<table border=\"1\" class=\"dataframe\">\n",
       "  <thead>\n",
       "    <tr style=\"text-align: right;\">\n",
       "      <th></th>\n",
       "      <th>MCPP</th>\n",
       "      <th>SEASON</th>\n",
       "      <th>MCPP_POPULATION</th>\n",
       "      <th>MCPP_ACRES_LAND</th>\n",
       "      <th>MCPP_MEDIAN_AGE</th>\n",
       "      <th>MCPP_PCT_OCCUPIED_HOUSING</th>\n",
       "      <th>MCPP_PCT_BACHELOR</th>\n",
       "      <th>MCPP_MEDIAN_GROSS_RENT</th>\n",
       "      <th>MCPP_PCT_UNEMPLOYED</th>\n",
       "      <th>MCPP_MEDIAN_HH_INCOME</th>\n",
       "      <th>MCPP_PCT_POVERTY</th>\n",
       "    </tr>\n",
       "  </thead>\n",
       "  <tbody>\n",
       "    <tr>\n",
       "      <th>714</th>\n",
       "      <td>17.0</td>\n",
       "      <td>3.0</td>\n",
       "      <td>6209.0</td>\n",
       "      <td>789.03</td>\n",
       "      <td>40.60</td>\n",
       "      <td>73.20</td>\n",
       "      <td>45.32</td>\n",
       "      <td>1184.20</td>\n",
       "      <td>5.32</td>\n",
       "      <td>79931.60</td>\n",
       "      <td>7.72</td>\n",
       "    </tr>\n",
       "    <tr>\n",
       "      <th>1745</th>\n",
       "      <td>43.0</td>\n",
       "      <td>2.0</td>\n",
       "      <td>711.0</td>\n",
       "      <td>225.36</td>\n",
       "      <td>35.55</td>\n",
       "      <td>65.35</td>\n",
       "      <td>41.00</td>\n",
       "      <td>1268.00</td>\n",
       "      <td>8.60</td>\n",
       "      <td>68758.00</td>\n",
       "      <td>8.00</td>\n",
       "    </tr>\n",
       "    <tr>\n",
       "      <th>1444</th>\n",
       "      <td>36.0</td>\n",
       "      <td>0.0</td>\n",
       "      <td>6446.0</td>\n",
       "      <td>693.64</td>\n",
       "      <td>40.75</td>\n",
       "      <td>55.00</td>\n",
       "      <td>41.08</td>\n",
       "      <td>669.75</td>\n",
       "      <td>6.12</td>\n",
       "      <td>55618.00</td>\n",
       "      <td>15.73</td>\n",
       "    </tr>\n",
       "    <tr>\n",
       "      <th>204</th>\n",
       "      <td>5.0</td>\n",
       "      <td>0.0</td>\n",
       "      <td>17081.0</td>\n",
       "      <td>1786.49</td>\n",
       "      <td>40.74</td>\n",
       "      <td>59.39</td>\n",
       "      <td>43.91</td>\n",
       "      <td>1002.40</td>\n",
       "      <td>7.57</td>\n",
       "      <td>60645.70</td>\n",
       "      <td>12.17</td>\n",
       "    </tr>\n",
       "    <tr>\n",
       "      <th>1823</th>\n",
       "      <td>45.0</td>\n",
       "      <td>2.0</td>\n",
       "      <td>36037.0</td>\n",
       "      <td>2137.67</td>\n",
       "      <td>34.98</td>\n",
       "      <td>38.06</td>\n",
       "      <td>66.75</td>\n",
       "      <td>1061.75</td>\n",
       "      <td>5.03</td>\n",
       "      <td>65402.83</td>\n",
       "      <td>9.28</td>\n",
       "    </tr>\n",
       "  </tbody>\n",
       "</table>\n",
       "</div>"
      ],
      "text/plain": [
       "      MCPP  SEASON  MCPP_POPULATION  MCPP_ACRES_LAND  MCPP_MEDIAN_AGE  \\\n",
       "714   17.0     3.0           6209.0           789.03            40.60   \n",
       "1745  43.0     2.0            711.0           225.36            35.55   \n",
       "1444  36.0     0.0           6446.0           693.64            40.75   \n",
       "204    5.0     0.0          17081.0          1786.49            40.74   \n",
       "1823  45.0     2.0          36037.0          2137.67            34.98   \n",
       "\n",
       "      MCPP_PCT_OCCUPIED_HOUSING  MCPP_PCT_BACHELOR  MCPP_MEDIAN_GROSS_RENT  \\\n",
       "714                       73.20              45.32                 1184.20   \n",
       "1745                      65.35              41.00                 1268.00   \n",
       "1444                      55.00              41.08                  669.75   \n",
       "204                       59.39              43.91                 1002.40   \n",
       "1823                      38.06              66.75                 1061.75   \n",
       "\n",
       "      MCPP_PCT_UNEMPLOYED  MCPP_MEDIAN_HH_INCOME  MCPP_PCT_POVERTY  \n",
       "714                  5.32               79931.60              7.72  \n",
       "1745                 8.60               68758.00              8.00  \n",
       "1444                 6.12               55618.00             15.73  \n",
       "204                  7.57               60645.70             12.17  \n",
       "1823                 5.03               65402.83              9.28  "
      ]
     },
     "execution_count": 150,
     "metadata": {},
     "output_type": "execute_result"
    }
   ],
   "source": [
    "X_test.head()"
   ]
  },
  {
   "cell_type": "markdown",
   "id": "6931bb01",
   "metadata": {
    "id": "6931bb01"
   },
   "source": [
    "## Linear Regression"
   ]
  },
  {
   "cell_type": "markdown",
   "id": "452a0cfd",
   "metadata": {
    "id": "452a0cfd"
   },
   "source": [
    "### Linear ALL data (baseline)"
   ]
  },
  {
   "cell_type": "code",
   "execution_count": null,
   "id": "10743b6d",
   "metadata": {
    "id": "10743b6d",
    "outputId": "9496171c-67a2-4dd7-e978-5d6c1d909162",
    "scrolled": true
   },
   "outputs": [
    {
     "name": "stdout",
     "output_type": "stream",
     "text": [
      "Linear model cofficients : [ 4.31910337e-01 -4.38548081e-01 -1.27173484e-03  1.11750762e-02\n",
      "  6.60563035e+00 -9.06332930e-01  4.66136199e-01  9.49520978e-02\n",
      " -1.33877489e+00 -1.96760467e-03  4.28937708e-01]\n",
      "--- 0.009720087051391602 seconds ---\n"
     ]
    }
   ],
   "source": [
    "#Train the model: linear regression\n",
    "    #default optimizer is Batch Gradient Descent (unchanged)\n",
    "    #default hyperparameter: max_iter=1000, tol=1e-4, alpha=1.0 (changed alpha)\n",
    "\n",
    "#record the time\n",
    "import time\n",
    "start_time = time.time()\n",
    "\n",
    "reg_linear = LinearRegression() #based on grid search cv below\n",
    "reg_linear.fit(X_train, y_train)\n",
    "print(\"Linear model cofficients :\", reg_linear.coef_)\n",
    "print(\"--- %s seconds ---\" % (time.time() - start_time))"
   ]
  },
  {
   "cell_type": "code",
   "execution_count": null,
   "id": "63c9f9be",
   "metadata": {
    "id": "63c9f9be",
    "outputId": "b805951e-6d2c-4332-93a7-4cfd5e17ea4c"
   },
   "outputs": [
    {
     "name": "stdout",
     "output_type": "stream",
     "text": [
      "--- 0.001615285873413086 seconds ---\n"
     ]
    }
   ],
   "source": [
    "#predict\n",
    "\n",
    "#record the time\n",
    "import time\n",
    "start_time = time.time()\n",
    "\n",
    "y_pred_linear_tr = reg_linear.predict(X_train)\n",
    "y_pred_linear = reg_linear.predict(X_test)\n",
    "\n",
    "print(\"--- %s seconds ---\" % (time.time() - start_time))"
   ]
  },
  {
   "cell_type": "code",
   "execution_count": null,
   "id": "923a00ee",
   "metadata": {
    "id": "923a00ee",
    "outputId": "205e3845-e1f5-497c-dab9-0254411c030a"
   },
   "outputs": [
    {
     "name": "stdout",
     "output_type": "stream",
     "text": [
      "linear Regression (ALL) training data - Root Mean Squared Error (RMSE): 26.4161\n",
      "linear Regression (ALL) test data - Root Mean Squared Error (RMSE): 28.2948\n",
      "linear Regression (ALL) train data - R-Squared: 0.6361\n",
      "linear Regression (ALL) test data - R-Squared: 0.6199\n"
     ]
    }
   ],
   "source": [
    "#test data performance metrics\n",
    "\n",
    "#RMSE (squared=False returns rmse)\n",
    "rmse_linear_tr = round(mean_squared_error(y_train, y_pred_linear_tr, squared=False),4)\n",
    "rmse_linear = round(mean_squared_error(y_test, y_pred_linear, squared=False),4)\n",
    "\n",
    "#R2\n",
    "r2_linear_tr = round(r2_score(y_train, y_pred_linear_tr), 4)\n",
    "r2_linear = round(r2_score(y_test, y_pred_linear), 4)\n",
    "\n",
    "print('linear Regression (ALL) training data - Root Mean Squared Error (RMSE):', rmse_linear_tr)\n",
    "print('linear Regression (ALL) test data - Root Mean Squared Error (RMSE):', rmse_linear)\n",
    "\n",
    "print('linear Regression (ALL) train data - R-Squared:', r2_linear_tr)\n",
    "print('linear Regression (ALL) test data - R-Squared:', r2_linear)"
   ]
  },
  {
   "cell_type": "markdown",
   "id": "01d84c61",
   "metadata": {
    "id": "01d84c61"
   },
   "source": [
    "Result for OLS:\n",
    "\n",
    "* linear Regression (ALL) training data - Root Mean Squared Error (RMSE): 26.4161\n",
    "* linear Regression (ALL) test data - Root Mean Squared Error (RMSE): 28.2948\n",
    "* linear Regression (ALL) train data - R-Squared: 0.6361\n",
    "* linear Regression (ALL) test data - R-Squared: 0.6199\n",
    "\n",
    "\n",
    "Result Lasso(max_iter=200, tol=0.001), below. Very similar.:\n",
    "\n",
    "* Lasso Regression (ALL) training data - Root Mean Squared Error (RMSE): 26.4414\n",
    "* Lasso Regression (ALL) test data - Root Mean Squared Error (RMSE): 28.3675\n",
    "* Lasso Regression (ALL) train data - R-Squared: 0.6354\n",
    "* Lasso Regression (ALL) test data - R-Squared: 0.618\n",
    "\n",
    "\n",
    "\n",
    "**analysis:** basically lineaar regression is good?\n",
    "\n",
    "but RMSE is quite high!"
   ]
  },
  {
   "cell_type": "code",
   "execution_count": null,
   "id": "5d7a889d",
   "metadata": {
    "id": "5d7a889d",
    "outputId": "f8e9887f-cc10-4603-a07c-34b0ddf09b5e"
   },
   "outputs": [
    {
     "data": {
      "text/html": [
       "<div>\n",
       "<style scoped>\n",
       "    .dataframe tbody tr th:only-of-type {\n",
       "        vertical-align: middle;\n",
       "    }\n",
       "\n",
       "    .dataframe tbody tr th {\n",
       "        vertical-align: top;\n",
       "    }\n",
       "\n",
       "    .dataframe thead th {\n",
       "        text-align: right;\n",
       "    }\n",
       "</style>\n",
       "<table border=\"1\" class=\"dataframe\">\n",
       "  <thead>\n",
       "    <tr style=\"text-align: right;\">\n",
       "      <th></th>\n",
       "      <th>FeatureNames</th>\n",
       "      <th>Coefficient</th>\n",
       "    </tr>\n",
       "  </thead>\n",
       "  <tbody>\n",
       "    <tr>\n",
       "      <th>4</th>\n",
       "      <td>MCPP_MEDIAN_AGE</td>\n",
       "      <td>6.605630</td>\n",
       "    </tr>\n",
       "    <tr>\n",
       "      <th>6</th>\n",
       "      <td>MCPP_PCT_BACHELOR</td>\n",
       "      <td>0.466136</td>\n",
       "    </tr>\n",
       "    <tr>\n",
       "      <th>0</th>\n",
       "      <td>MCPP</td>\n",
       "      <td>0.431910</td>\n",
       "    </tr>\n",
       "    <tr>\n",
       "      <th>10</th>\n",
       "      <td>MCPP_PCT_POVERTY</td>\n",
       "      <td>0.428938</td>\n",
       "    </tr>\n",
       "    <tr>\n",
       "      <th>7</th>\n",
       "      <td>MCPP_MEDIAN_GROSS_RENT</td>\n",
       "      <td>0.094952</td>\n",
       "    </tr>\n",
       "    <tr>\n",
       "      <th>3</th>\n",
       "      <td>MCPP_ACRES_LAND</td>\n",
       "      <td>0.011175</td>\n",
       "    </tr>\n",
       "    <tr>\n",
       "      <th>2</th>\n",
       "      <td>MCPP_POPULATION</td>\n",
       "      <td>-0.001272</td>\n",
       "    </tr>\n",
       "    <tr>\n",
       "      <th>9</th>\n",
       "      <td>MCPP_MEDIAN_HH_INCOME</td>\n",
       "      <td>-0.001968</td>\n",
       "    </tr>\n",
       "    <tr>\n",
       "      <th>1</th>\n",
       "      <td>SEASON</td>\n",
       "      <td>-0.438548</td>\n",
       "    </tr>\n",
       "    <tr>\n",
       "      <th>5</th>\n",
       "      <td>MCPP_PCT_OCCUPIED_HOUSING</td>\n",
       "      <td>-0.906333</td>\n",
       "    </tr>\n",
       "    <tr>\n",
       "      <th>8</th>\n",
       "      <td>MCPP_PCT_UNEMPLOYED</td>\n",
       "      <td>-1.338775</td>\n",
       "    </tr>\n",
       "  </tbody>\n",
       "</table>\n",
       "</div>"
      ],
      "text/plain": [
       "                 FeatureNames  Coefficient\n",
       "4             MCPP_MEDIAN_AGE     6.605630\n",
       "6           MCPP_PCT_BACHELOR     0.466136\n",
       "0                        MCPP     0.431910\n",
       "10           MCPP_PCT_POVERTY     0.428938\n",
       "7      MCPP_MEDIAN_GROSS_RENT     0.094952\n",
       "3             MCPP_ACRES_LAND     0.011175\n",
       "2             MCPP_POPULATION    -0.001272\n",
       "9       MCPP_MEDIAN_HH_INCOME    -0.001968\n",
       "1                      SEASON    -0.438548\n",
       "5   MCPP_PCT_OCCUPIED_HOUSING    -0.906333\n",
       "8         MCPP_PCT_UNEMPLOYED    -1.338775"
      ]
     },
     "execution_count": 33,
     "metadata": {},
     "output_type": "execute_result"
    }
   ],
   "source": [
    "linearFeatures_reg = pd.DataFrame({'FeatureNames': reg_linear.feature_names_in_,\n",
    "                            'Coefficient': reg_linear.coef_},\n",
    "                           columns=['FeatureNames', 'Coefficient'])\n",
    "linearFeatures_reg = linearFeatures_reg.sort_values(by=['Coefficient'], ascending=False)\n",
    "linearFeatures_reg"
   ]
  },
  {
   "cell_type": "code",
   "execution_count": null,
   "id": "724b076f",
   "metadata": {
    "id": "724b076f",
    "outputId": "0abbb967-7432-47b1-bf8f-943c79448744"
   },
   "outputs": [
    {
     "data": {
      "image/png": "[encoded data removed]",
      "text/plain": [
       "<Figure size 640x480 with 1 Axes>"
      ]
     },
     "metadata": {},
     "output_type": "display_data"
    }
   ],
   "source": [
    "plt.bar(x=linearFeatures_reg['FeatureNames'],\n",
    "        height=linearFeatures_reg['Coefficient'],\n",
    "        color='blue')\n",
    "plt.title('Feature importances for Linear Regression of Seattle Crime Rate Regression')\n",
    "plt.xticks(rotation=45, ha='right', rotation_mode='anchor')\n",
    "plt.ylabel('Values')\n",
    "plt.show()"
   ]
  },
  {
   "cell_type": "markdown",
   "id": "7f009967",
   "metadata": {
    "id": "7f009967"
   },
   "source": [
    "#### Linear conclusion\n",
    "\n",
    "* lower max iter is better\n",
    "* coefficient value represent feature importance as the higher the weight, the more relationship of features with the target\n",
    "* Median age has highest importance on the modeling\n",
    "* this is the base model, so no optimization is done"
   ]
  },
  {
   "cell_type": "markdown",
   "id": "7ee23b43",
   "metadata": {
    "id": "7ee23b43"
   },
   "source": [
    "## Lasso Regression"
   ]
  },
  {
   "cell_type": "markdown",
   "id": "32732539",
   "metadata": {
    "id": "32732539"
   },
   "source": [
    "### Lasso ALL data"
   ]
  },
  {
   "cell_type": "code",
   "execution_count": null,
   "id": "15e26a37",
   "metadata": {
    "id": "15e26a37",
    "outputId": "335f924f-a839-4991-ade0-c18541c17966",
    "scrolled": true
   },
   "outputs": [
    {
     "name": "stdout",
     "output_type": "stream",
     "text": [
      "Lasso model cofficients : [ 4.26232296e-01 -0.00000000e+00 -1.24857319e-03  1.10126933e-02\n",
      "  6.56263272e+00 -9.64351340e-01  5.03029141e-01  8.83497279e-02\n",
      " -0.00000000e+00 -1.86827871e-03  2.18061527e-01]\n",
      "--- 0.006044149398803711 seconds ---\n"
     ]
    }
   ],
   "source": [
    "#Train the model: lasso regression\n",
    "    #default optimizer is Batch Gradient Descent (unchanged)\n",
    "    #default hyperparameter: max_iter=1000, tol=1e-4, alpha=1.0 (changed alpha)\n",
    "\n",
    "#record the time\n",
    "import time\n",
    "start_time = time.time()\n",
    "\n",
    "reg_lasso = Lasso(max_iter=200, tol=0.001) #based on grid search cv below\n",
    "reg_lasso.fit(X_train, y_train)\n",
    "print(\"Lasso model cofficients :\", reg_lasso.coef_)\n",
    "print(\"--- %s seconds ---\" % (time.time() - start_time))"
   ]
  },
  {
   "cell_type": "code",
   "execution_count": null,
   "id": "35d91472",
   "metadata": {
    "id": "35d91472",
    "outputId": "5447b257-b1bd-47b6-a9af-fdd12ccb952b"
   },
   "outputs": [
    {
     "name": "stdout",
     "output_type": "stream",
     "text": [
      "--- 0.0 seconds ---\n"
     ]
    }
   ],
   "source": [
    "#predict\n",
    "\n",
    "#record the time\n",
    "import time\n",
    "start_time = time.time()\n",
    "\n",
    "y_pred_lasso_tr = reg_lasso.predict(X_train)\n",
    "y_pred_lasso = reg_lasso.predict(X_test)\n",
    "\n",
    "print(\"--- %s seconds ---\" % (time.time() - start_time))"
   ]
  },
  {
   "cell_type": "code",
   "execution_count": null,
   "id": "bdcd872a",
   "metadata": {
    "id": "bdcd872a",
    "outputId": "2177f274-4f1d-4ac7-ffff-d681f8943d8d"
   },
   "outputs": [
    {
     "name": "stdout",
     "output_type": "stream",
     "text": [
      "Lasso Regression (ALL) training data - Root Mean Squared Error (RMSE): 26.4414\n",
      "Lasso Regression (ALL) test data - Root Mean Squared Error (RMSE): 28.3675\n",
      "Lasso Regression (ALL) train data - R-Squared: 0.6354\n",
      "Lasso Regression (ALL) test data - R-Squared: 0.618\n"
     ]
    }
   ],
   "source": [
    "#test data performance metrics\n",
    "\n",
    "#RMSE (squared=False returns rmse)\n",
    "rmse_lasso_tr = round(mean_squared_error(y_train, y_pred_lasso_tr, squared=False),4)\n",
    "rmse_lasso = round(mean_squared_error(y_test, y_pred_lasso, squared=False),4)\n",
    "\n",
    "#R2\n",
    "r2_lasso_tr = round(r2_score(y_train, y_pred_lasso_tr), 4)\n",
    "r2_lasso = round(r2_score(y_test, y_pred_lasso), 4)\n",
    "\n",
    "print('Lasso Regression (ALL) training data - Root Mean Squared Error (RMSE):', rmse_lasso_tr)\n",
    "print('Lasso Regression (ALL) test data - Root Mean Squared Error (RMSE):', rmse_lasso)\n",
    "\n",
    "print('Lasso Regression (ALL) train data - R-Squared:', r2_lasso_tr)\n",
    "print('Lasso Regression (ALL) test data - R-Squared:', r2_lasso)"
   ]
  },
  {
   "cell_type": "markdown",
   "id": "01bf55cd",
   "metadata": {
    "id": "01bf55cd"
   },
   "source": [
    "Result for alpha=0.001:\n",
    "\n",
    "* Lasso Regression (ALL) test data - Root Mean Squared Error (RMSE): 256.998\n",
    "* Lasso Regression (ALL) test data - R-Squared: 0.6248\n",
    "\n",
    "\n",
    "Result Lasso(max_iter=200, tol=0.001):\n",
    "\n",
    "* Lasso Regression (ALL) training data - Root Mean Squared Error (RMSE): 26.4414\n",
    "* Lasso Regression (ALL) test data - Root Mean Squared Error (RMSE): 28.3675\n",
    "* Lasso Regression (ALL) train data - R-Squared: 0.6354\n",
    "* Lasso Regression (ALL) test data - R-Squared: 0.618\n",
    "\n",
    "\n",
    "\n",
    "**analysis:** basically lineaar regression is good?\n",
    "\n",
    "but RMSE is quite high!"
   ]
  },
  {
   "cell_type": "code",
   "execution_count": null,
   "id": "4e614691",
   "metadata": {
    "id": "4e614691",
    "outputId": "aa3df0bb-1ded-4f11-da1c-88c4e3c3bcb7"
   },
   "outputs": [
    {
     "data": {
      "text/html": [
       "<div>\n",
       "<style scoped>\n",
       "    .dataframe tbody tr th:only-of-type {\n",
       "        vertical-align: middle;\n",
       "    }\n",
       "\n",
       "    .dataframe tbody tr th {\n",
       "        vertical-align: top;\n",
       "    }\n",
       "\n",
       "    .dataframe thead th {\n",
       "        text-align: right;\n",
       "    }\n",
       "</style>\n",
       "<table border=\"1\" class=\"dataframe\">\n",
       "  <thead>\n",
       "    <tr style=\"text-align: right;\">\n",
       "      <th></th>\n",
       "      <th>FeatureNames</th>\n",
       "      <th>Coefficient</th>\n",
       "    </tr>\n",
       "  </thead>\n",
       "  <tbody>\n",
       "    <tr>\n",
       "      <th>4</th>\n",
       "      <td>MCPP_MEDIAN_AGE</td>\n",
       "      <td>6.562633</td>\n",
       "    </tr>\n",
       "    <tr>\n",
       "      <th>6</th>\n",
       "      <td>MCPP_PCT_BACHELOR</td>\n",
       "      <td>0.503029</td>\n",
       "    </tr>\n",
       "    <tr>\n",
       "      <th>0</th>\n",
       "      <td>MCPP</td>\n",
       "      <td>0.426232</td>\n",
       "    </tr>\n",
       "    <tr>\n",
       "      <th>10</th>\n",
       "      <td>MCPP_PCT_POVERTY</td>\n",
       "      <td>0.218062</td>\n",
       "    </tr>\n",
       "    <tr>\n",
       "      <th>7</th>\n",
       "      <td>MCPP_MEDIAN_GROSS_RENT</td>\n",
       "      <td>0.088350</td>\n",
       "    </tr>\n",
       "    <tr>\n",
       "      <th>3</th>\n",
       "      <td>MCPP_ACRES_LAND</td>\n",
       "      <td>0.011013</td>\n",
       "    </tr>\n",
       "    <tr>\n",
       "      <th>1</th>\n",
       "      <td>SEASON</td>\n",
       "      <td>-0.000000</td>\n",
       "    </tr>\n",
       "    <tr>\n",
       "      <th>8</th>\n",
       "      <td>MCPP_PCT_UNEMPLOYED</td>\n",
       "      <td>-0.000000</td>\n",
       "    </tr>\n",
       "    <tr>\n",
       "      <th>2</th>\n",
       "      <td>MCPP_POPULATION</td>\n",
       "      <td>-0.001249</td>\n",
       "    </tr>\n",
       "    <tr>\n",
       "      <th>9</th>\n",
       "      <td>MCPP_MEDIAN_HH_INCOME</td>\n",
       "      <td>-0.001868</td>\n",
       "    </tr>\n",
       "    <tr>\n",
       "      <th>5</th>\n",
       "      <td>MCPP_PCT_OCCUPIED_HOUSING</td>\n",
       "      <td>-0.964351</td>\n",
       "    </tr>\n",
       "  </tbody>\n",
       "</table>\n",
       "</div>"
      ],
      "text/plain": [
       "                 FeatureNames  Coefficient\n",
       "4             MCPP_MEDIAN_AGE     6.562633\n",
       "6           MCPP_PCT_BACHELOR     0.503029\n",
       "0                        MCPP     0.426232\n",
       "10           MCPP_PCT_POVERTY     0.218062\n",
       "7      MCPP_MEDIAN_GROSS_RENT     0.088350\n",
       "3             MCPP_ACRES_LAND     0.011013\n",
       "1                      SEASON    -0.000000\n",
       "8         MCPP_PCT_UNEMPLOYED    -0.000000\n",
       "2             MCPP_POPULATION    -0.001249\n",
       "9       MCPP_MEDIAN_HH_INCOME    -0.001868\n",
       "5   MCPP_PCT_OCCUPIED_HOUSING    -0.964351"
      ]
     },
     "execution_count": 51,
     "metadata": {},
     "output_type": "execute_result"
    }
   ],
   "source": [
    "lassoFeatures_reg = pd.DataFrame({'FeatureNames': reg_lasso.feature_names_in_,\n",
    "                            'Coefficient': reg_lasso.coef_},\n",
    "                           columns=['FeatureNames', 'Coefficient'])\n",
    "lassoFeatures_reg = lassoFeatures_reg.sort_values(by=['Coefficient'], ascending=False)\n",
    "lassoFeatures_reg"
   ]
  },
  {
   "cell_type": "code",
   "execution_count": null,
   "id": "12c71bf2",
   "metadata": {
    "id": "12c71bf2",
    "outputId": "83184681-e4b1-42b5-95d5-ff35e58ebce3",
    "scrolled": false
   },
   "outputs": [
    {
     "data": {
      "image/png": "[encoded data removed]",
      "text/plain": [
       "<Figure size 640x480 with 1 Axes>"
      ]
     },
     "metadata": {},
     "output_type": "display_data"
    }
   ],
   "source": [
    "plt.bar(x=lassoFeatures_reg['FeatureNames'],\n",
    "        height=lassoFeatures_reg['Coefficient'],\n",
    "        color='blue')\n",
    "plt.title('Feature importances for Lasso Regression of sample')\n",
    "plt.xticks(rotation=45, ha='right', rotation_mode='anchor')\n",
    "plt.ylabel('Values')\n",
    "plt.show()"
   ]
  },
  {
   "cell_type": "markdown",
   "id": "812ed424",
   "metadata": {
    "id": "812ed424"
   },
   "source": [
    "### GridSearchCV"
   ]
  },
  {
   "cell_type": "code",
   "execution_count": null,
   "id": "349b7479",
   "metadata": {
    "id": "349b7479"
   },
   "outputs": [],
   "source": [
    "# List parameter grid\n",
    "# base param: alpha=1.0, *, fit_intercept=True, precompute=False, copy_X=True, max_iter=1000, tol=0.0001,\n",
    "\n",
    "param_grid_lasso = {\n",
    "    'alpha': [0.1, 0.5, 1.0],\n",
    "    'max_iter': [200, 500, 1000],\n",
    "    'tol': [0.0001, 0.0005, 0.001]\n",
    "}\n",
    "\n",
    "# Create a based model\n",
    "reg_lasso = Lasso()\n",
    "lasso_gridCV = GridSearchCV(estimator = reg_lasso, param_grid = param_grid_lasso,\n",
    "                          cv = 3, n_jobs = -1, verbose = 2)"
   ]
  },
  {
   "cell_type": "code",
   "execution_count": null,
   "id": "ead5d12c",
   "metadata": {
    "id": "ead5d12c",
    "outputId": "f3e5e031-7661-4a38-b263-201de0e2ecbf"
   },
   "outputs": [
    {
     "name": "stdout",
     "output_type": "stream",
     "text": [
      "Fitting 3 folds for each of 27 candidates, totalling 81 fits\n",
      "--- 1.7090063095092773 seconds ---\n"
     ]
    }
   ],
   "source": [
    "#record the time\n",
    "import time\n",
    "start_time = time.time()\n",
    "\n",
    "#fit Grid Search\n",
    "lasso_gridCV.fit(X_train, y_train)\n",
    "lasso_gridCV.best_params_\n",
    "\n",
    "print(\"--- %s seconds ---\" % (time.time() - start_time))"
   ]
  },
  {
   "cell_type": "code",
   "execution_count": null,
   "id": "0643a701",
   "metadata": {
    "id": "0643a701",
    "outputId": "e4e3ab35-a825-4d0e-d25e-0ba74bad150e"
   },
   "outputs": [
    {
     "data": {
      "text/plain": [
       "{'alpha': 1.0, 'max_iter': 200, 'tol': 0.001}"
      ]
     },
     "execution_count": 160,
     "metadata": {},
     "output_type": "execute_result"
    }
   ],
   "source": [
    "lasso_gridCV.best_params_"
   ]
  },
  {
   "cell_type": "code",
   "execution_count": null,
   "id": "8f63a445",
   "metadata": {
    "id": "8f63a445",
    "outputId": "c3015dc5-149f-4d80-d4f5-cfdafd471f51"
   },
   "outputs": [
    {
     "data": {
      "text/plain": [
       "Lasso(max_iter=200, tol=0.001)"
      ]
     },
     "execution_count": 161,
     "metadata": {},
     "output_type": "execute_result"
    }
   ],
   "source": [
    "lasso_gridCV.best_estimator_"
   ]
  },
  {
   "cell_type": "markdown",
   "id": "cbcb1cad",
   "metadata": {
    "id": "cbcb1cad"
   },
   "source": [
    "ENTER THIS TO LASSO ALL DATA ABOVE"
   ]
  },
  {
   "cell_type": "markdown",
   "id": "e881d9ab",
   "metadata": {
    "id": "e881d9ab"
   },
   "source": [
    "#### Lasso conclusion\n",
    "\n",
    "* lower max iter is better\n",
    "* coefficient value represent feature importance as the higher the weight, the more relationship of features with the target\n",
    "* Median age has highest importance on the modeling"
   ]
  },
  {
   "cell_type": "markdown",
   "id": "de7a440a",
   "metadata": {
    "id": "de7a440a"
   },
   "source": [
    "## Random Forest (RF)"
   ]
  },
  {
   "cell_type": "markdown",
   "id": "8a541da1",
   "metadata": {
    "id": "8a541da1"
   },
   "source": [
    "### RF ALL data (Base model)"
   ]
  },
  {
   "cell_type": "code",
   "execution_count": null,
   "id": "06ef3135",
   "metadata": {
    "id": "06ef3135"
   },
   "outputs": [],
   "source": [
    "from sklearn.compose import make_column_selector, make_column_transformer, ColumnTransformer\n",
    "from sklearn import ensemble\n",
    "from sklearn.pipeline import make_pipeline, Pipeline\n",
    "from sklearn.preprocessing import OrdinalEncoder\n",
    "from sklearn.metrics import mean_squared_error, r2_score"
   ]
  },
  {
   "cell_type": "code",
   "execution_count": null,
   "id": "e48943fc",
   "metadata": {
    "id": "e48943fc"
   },
   "outputs": [],
   "source": [
    "#using regular model\n",
    "reg_rf = ensemble.RandomForestRegressor(random_state=42)"
   ]
  },
  {
   "cell_type": "code",
   "execution_count": null,
   "id": "5e409a77",
   "metadata": {
    "id": "5e409a77",
    "outputId": "09156946-0668-4f48-b9bb-22f98313cb26"
   },
   "outputs": [
    {
     "name": "stdout",
     "output_type": "stream",
     "text": [
      "--- 0.37845492362976074 seconds ---\n"
     ]
    }
   ],
   "source": [
    "#record the time\n",
    "import time\n",
    "start_time = time.time()\n",
    "\n",
    "reg_rf.fit(X_train, y_train)\n",
    "print(\"--- %s seconds ---\" % (time.time() - start_time))"
   ]
  },
  {
   "cell_type": "code",
   "execution_count": null,
   "id": "5c5fbc6e",
   "metadata": {
    "id": "5c5fbc6e"
   },
   "outputs": [],
   "source": [
    "y_pred_tr_reg = reg_rf.predict(X_train)\n",
    "y_pred_reg = reg_rf.predict(X_test)"
   ]
  },
  {
   "cell_type": "markdown",
   "id": "abbdac30",
   "metadata": {
    "id": "abbdac30"
   },
   "source": [
    "#### Performance matrices"
   ]
  },
  {
   "cell_type": "code",
   "execution_count": null,
   "id": "ae764bfa",
   "metadata": {
    "id": "ae764bfa",
    "outputId": "773a4433-1034-415b-b8e8-e27b120b6d65"
   },
   "outputs": [
    {
     "name": "stdout",
     "output_type": "stream",
     "text": [
      "Random Forest, ALL data, Crime Rate regression, RMSE train: 9.6519\n",
      "Random Forest, ALL data, Crime Rate regression, RMSE train: 12.0119\n",
      "RF - ALL data, Crime Rate regression , train Rsquared: 0.9514\n",
      "RF- ALL data, Crime Rate regression, test Rsquared: 0.9315\n"
     ]
    }
   ],
   "source": [
    "#get performance metrics for train dataset\n",
    "#RMSE (squared=False returns rmse)\n",
    "rmse_rf_tr_reg = round(mean_squared_error(y_train, y_pred_tr_reg, squared=False),4)\n",
    "\n",
    "#get performance metrics for test dataset\n",
    "rmse_rf_reg = round(mean_squared_error(y_test, y_pred_reg, squared=False),4)\n",
    "\n",
    "print('Random Forest, ALL data, Crime Rate regression, RMSE train:', rmse_rf_tr_reg)\n",
    "print('Random Forest, ALL data, Crime Rate regression, RMSE train:', rmse_rf_reg)\n",
    "\n",
    "#check R2\n",
    "r2_rf_tr_reg = round(r2_score(y_train, y_pred_tr_reg), 4)\n",
    "r2_rf_reg = round(r2_score(y_test, y_pred_reg),4)\n",
    "\n",
    "print('RF - ALL data, Crime Rate regression , train Rsquared:', r2_rf_tr_reg)\n",
    "print(\"RF- ALL data, Crime Rate regression, test Rsquared: %.4f\" % r2_rf_reg)"
   ]
  },
  {
   "cell_type": "code",
   "execution_count": null,
   "id": "f024e7a6",
   "metadata": {
    "id": "f024e7a6",
    "outputId": "e2bbc793-4643-454d-d3db-444a0e1043a9"
   },
   "outputs": [
    {
     "data": {
      "text/plain": [
       "401.85"
      ]
     },
     "execution_count": 38,
     "metadata": {},
     "output_type": "execute_result"
    }
   ],
   "source": [
    "crime_census_df[\"CRIME_RATE\"].max()"
   ]
  },
  {
   "cell_type": "code",
   "execution_count": null,
   "id": "a6e0e938",
   "metadata": {
    "id": "a6e0e938",
    "outputId": "fd76325b-55ee-4bce-aad9-14eb0f8e9f29"
   },
   "outputs": [
    {
     "data": {
      "text/plain": [
       "0.77"
      ]
     },
     "execution_count": 204,
     "metadata": {},
     "output_type": "execute_result"
    }
   ],
   "source": [
    "crime_census_df[\"CRIME_RATE\"].min()"
   ]
  },
  {
   "cell_type": "code",
   "execution_count": null,
   "id": "f5c0b1e0",
   "metadata": {
    "id": "f5c0b1e0",
    "outputId": "6afd56c1-171f-4058-b5f1-c8c5682a1493"
   },
   "outputs": [
    {
     "data": {
      "text/html": [
       "<div>\n",
       "<style scoped>\n",
       "    .dataframe tbody tr th:only-of-type {\n",
       "        vertical-align: middle;\n",
       "    }\n",
       "\n",
       "    .dataframe tbody tr th {\n",
       "        vertical-align: top;\n",
       "    }\n",
       "\n",
       "    .dataframe thead th {\n",
       "        text-align: right;\n",
       "    }\n",
       "</style>\n",
       "<table border=\"1\" class=\"dataframe\">\n",
       "  <thead>\n",
       "    <tr style=\"text-align: right;\">\n",
       "      <th></th>\n",
       "      <th>FeatureNames</th>\n",
       "      <th>Value</th>\n",
       "    </tr>\n",
       "  </thead>\n",
       "  <tbody>\n",
       "    <tr>\n",
       "      <th>4</th>\n",
       "      <td>MCPP_MEDIAN_AGE</td>\n",
       "      <td>0.587114</td>\n",
       "    </tr>\n",
       "    <tr>\n",
       "      <th>5</th>\n",
       "      <td>MCPP_PCT_OCCUPIED_HOUSING</td>\n",
       "      <td>0.248515</td>\n",
       "    </tr>\n",
       "    <tr>\n",
       "      <th>8</th>\n",
       "      <td>MCPP_PCT_UNEMPLOYED</td>\n",
       "      <td>0.035183</td>\n",
       "    </tr>\n",
       "    <tr>\n",
       "      <th>3</th>\n",
       "      <td>MCPP_ACRES_LAND</td>\n",
       "      <td>0.025512</td>\n",
       "    </tr>\n",
       "    <tr>\n",
       "      <th>6</th>\n",
       "      <td>MCPP_PCT_BACHELOR</td>\n",
       "      <td>0.022175</td>\n",
       "    </tr>\n",
       "    <tr>\n",
       "      <th>9</th>\n",
       "      <td>MCPP_MEDIAN_HH_INCOME</td>\n",
       "      <td>0.021276</td>\n",
       "    </tr>\n",
       "    <tr>\n",
       "      <th>10</th>\n",
       "      <td>MCPP_PCT_POVERTY</td>\n",
       "      <td>0.021004</td>\n",
       "    </tr>\n",
       "    <tr>\n",
       "      <th>1</th>\n",
       "      <td>SEASON</td>\n",
       "      <td>0.013410</td>\n",
       "    </tr>\n",
       "    <tr>\n",
       "      <th>2</th>\n",
       "      <td>MCPP_POPULATION</td>\n",
       "      <td>0.012070</td>\n",
       "    </tr>\n",
       "    <tr>\n",
       "      <th>7</th>\n",
       "      <td>MCPP_MEDIAN_GROSS_RENT</td>\n",
       "      <td>0.007975</td>\n",
       "    </tr>\n",
       "    <tr>\n",
       "      <th>0</th>\n",
       "      <td>MCPP</td>\n",
       "      <td>0.005766</td>\n",
       "    </tr>\n",
       "  </tbody>\n",
       "</table>\n",
       "</div>"
      ],
      "text/plain": [
       "                 FeatureNames     Value\n",
       "4             MCPP_MEDIAN_AGE  0.587114\n",
       "5   MCPP_PCT_OCCUPIED_HOUSING  0.248515\n",
       "8         MCPP_PCT_UNEMPLOYED  0.035183\n",
       "3             MCPP_ACRES_LAND  0.025512\n",
       "6           MCPP_PCT_BACHELOR  0.022175\n",
       "9       MCPP_MEDIAN_HH_INCOME  0.021276\n",
       "10           MCPP_PCT_POVERTY  0.021004\n",
       "1                      SEASON  0.013410\n",
       "2             MCPP_POPULATION  0.012070\n",
       "7      MCPP_MEDIAN_GROSS_RENT  0.007975\n",
       "0                        MCPP  0.005766"
      ]
     },
     "execution_count": 39,
     "metadata": {},
     "output_type": "execute_result"
    }
   ],
   "source": [
    "rf_features_reg = pd.DataFrame({'FeatureNames': reg_rf.feature_names_in_,\n",
    "                            'Value': reg_rf.feature_importances_},\n",
    "                           columns=['FeatureNames', 'Value'])\n",
    "rf_features_reg = rf_features_reg.sort_values(by=['Value'], ascending=False)\n",
    "rf_features_reg"
   ]
  },
  {
   "cell_type": "code",
   "execution_count": null,
   "id": "dbb44aff",
   "metadata": {
    "id": "dbb44aff",
    "outputId": "b09628de-ae66-48c7-907a-3a9e61aa5093"
   },
   "outputs": [
    {
     "data": {
      "image/png": "[encoded data removed]",
      "text/plain": [
       "<Figure size 640x480 with 1 Axes>"
      ]
     },
     "metadata": {},
     "output_type": "display_data"
    }
   ],
   "source": [
    "plt.bar(x=rf_features_reg['FeatureNames'],\n",
    "        height=rf_features_reg['Value'],\n",
    "        color='darkgreen')\n",
    "plt.title('Feature importances for Random Forest Regression of 2010 - 2019 Crime Rate')\n",
    "plt.xticks(rotation=45, ha='right', rotation_mode='anchor')\n",
    "plt.ylabel('Values')\n",
    "plt.show()"
   ]
  },
  {
   "cell_type": "code",
   "execution_count": null,
   "id": "595861e3",
   "metadata": {
    "id": "595861e3",
    "outputId": "790cf81f-4f33-4bc3-a05d-15c43894332d"
   },
   "outputs": [
    {
     "data": {
      "text/html": [
       "<div>\n",
       "<style scoped>\n",
       "    .dataframe tbody tr th:only-of-type {\n",
       "        vertical-align: middle;\n",
       "    }\n",
       "\n",
       "    .dataframe tbody tr th {\n",
       "        vertical-align: top;\n",
       "    }\n",
       "\n",
       "    .dataframe thead th {\n",
       "        text-align: right;\n",
       "    }\n",
       "</style>\n",
       "<table border=\"1\" class=\"dataframe\">\n",
       "  <thead>\n",
       "    <tr style=\"text-align: right;\">\n",
       "      <th></th>\n",
       "      <th>index</th>\n",
       "      <th>FeatureNames</th>\n",
       "      <th>Coefficient</th>\n",
       "    </tr>\n",
       "  </thead>\n",
       "  <tbody>\n",
       "    <tr>\n",
       "      <th>0</th>\n",
       "      <td>4</td>\n",
       "      <td>MCPP_MEDIAN_AGE</td>\n",
       "      <td>6.562633</td>\n",
       "    </tr>\n",
       "    <tr>\n",
       "      <th>1</th>\n",
       "      <td>6</td>\n",
       "      <td>MCPP_PCT_BACHELOR</td>\n",
       "      <td>0.503029</td>\n",
       "    </tr>\n",
       "    <tr>\n",
       "      <th>2</th>\n",
       "      <td>0</td>\n",
       "      <td>MCPP</td>\n",
       "      <td>0.426232</td>\n",
       "    </tr>\n",
       "    <tr>\n",
       "      <th>3</th>\n",
       "      <td>10</td>\n",
       "      <td>MCPP_PCT_POVERTY</td>\n",
       "      <td>0.218062</td>\n",
       "    </tr>\n",
       "    <tr>\n",
       "      <th>4</th>\n",
       "      <td>7</td>\n",
       "      <td>MCPP_MEDIAN_GROSS_RENT</td>\n",
       "      <td>0.088350</td>\n",
       "    </tr>\n",
       "    <tr>\n",
       "      <th>5</th>\n",
       "      <td>3</td>\n",
       "      <td>MCPP_ACRES_LAND</td>\n",
       "      <td>0.011013</td>\n",
       "    </tr>\n",
       "    <tr>\n",
       "      <th>6</th>\n",
       "      <td>1</td>\n",
       "      <td>SEASON</td>\n",
       "      <td>-0.000000</td>\n",
       "    </tr>\n",
       "    <tr>\n",
       "      <th>7</th>\n",
       "      <td>8</td>\n",
       "      <td>MCPP_PCT_UNEMPLOYED</td>\n",
       "      <td>-0.000000</td>\n",
       "    </tr>\n",
       "    <tr>\n",
       "      <th>8</th>\n",
       "      <td>2</td>\n",
       "      <td>MCPP_POPULATION</td>\n",
       "      <td>-0.001249</td>\n",
       "    </tr>\n",
       "    <tr>\n",
       "      <th>9</th>\n",
       "      <td>9</td>\n",
       "      <td>MCPP_MEDIAN_HH_INCOME</td>\n",
       "      <td>-0.001868</td>\n",
       "    </tr>\n",
       "    <tr>\n",
       "      <th>10</th>\n",
       "      <td>5</td>\n",
       "      <td>MCPP_PCT_OCCUPIED_HOUSING</td>\n",
       "      <td>-0.964351</td>\n",
       "    </tr>\n",
       "  </tbody>\n",
       "</table>\n",
       "</div>"
      ],
      "text/plain": [
       "    index               FeatureNames  Coefficient\n",
       "0       4            MCPP_MEDIAN_AGE     6.562633\n",
       "1       6          MCPP_PCT_BACHELOR     0.503029\n",
       "2       0                       MCPP     0.426232\n",
       "3      10           MCPP_PCT_POVERTY     0.218062\n",
       "4       7     MCPP_MEDIAN_GROSS_RENT     0.088350\n",
       "5       3            MCPP_ACRES_LAND     0.011013\n",
       "6       1                     SEASON    -0.000000\n",
       "7       8        MCPP_PCT_UNEMPLOYED    -0.000000\n",
       "8       2            MCPP_POPULATION    -0.001249\n",
       "9       9      MCPP_MEDIAN_HH_INCOME    -0.001868\n",
       "10      5  MCPP_PCT_OCCUPIED_HOUSING    -0.964351"
      ]
     },
     "execution_count": 206,
     "metadata": {},
     "output_type": "execute_result"
    }
   ],
   "source": [
    "#compare with Lasso\n",
    "lassoFeatures_reg.reset_index()"
   ]
  },
  {
   "cell_type": "markdown",
   "id": "7cadc086",
   "metadata": {
    "id": "7cadc086"
   },
   "source": [
    "**ANALYSIS:**\n",
    "\n",
    "median age is still the main features for predict crime rate, followed by bachelor and mcpp\n",
    "\n",
    "MCPP has higher importance here~!\n",
    "\n",
    "We can drop some variables to reduce the data size, based on Lasso and RF, common bottom features are:\n",
    "* PCT_BACHELOR, PCT_OWNER_OCC_HOUSING, NO_HOUSEHOLD, PCT_UNEMPLOYED\n",
    "* Already dropped for this regression\n"
   ]
  },
  {
   "cell_type": "markdown",
   "id": "249b3285",
   "metadata": {
    "id": "249b3285"
   },
   "source": [
    "### GridsearchCV"
   ]
  },
  {
   "cell_type": "markdown",
   "id": "a2762445",
   "metadata": {
    "id": "a2762445"
   },
   "source": [
    "RandCV parameters (not included here):\n",
    "\n",
    "{'n_estimators': 50,\n",
    " 'min_samples_split': 10,\n",
    " 'min_samples_leaf': 3,\n",
    " 'max_features': 1,\n",
    " 'max_depth': 36,\n",
    " 'bootstrap': False}\n",
    "\n",
    " RandCV listed parameter:\n",
    "\n",
    " {'n_estimators': [50, 200, 350, 500],\n",
    " 'max_features': [1, 2, 3],\n",
    " 'max_depth': [5, 36, 68, 100, None],\n",
    " 'min_samples_split': [3, 6, 10],\n",
    " 'min_samples_leaf': [3, 5, 10],\n",
    " 'bootstrap': [True, False]}"
   ]
  },
  {
   "cell_type": "markdown",
   "id": "3a1b8c85",
   "metadata": {
    "id": "3a1b8c85"
   },
   "source": [
    "Narrow the search with GridSearchCV (run all possibility)"
   ]
  },
  {
   "cell_type": "code",
   "execution_count": null,
   "id": "9d4c3c82",
   "metadata": {
    "id": "9d4c3c82",
    "outputId": "986d9467-2d9c-4252-e130-c58a5652d015"
   },
   "outputs": [
    {
     "data": {
      "text/plain": [
       "{'bootstrap': [True, False],\n",
       " 'max_depth': [30, 36, 45],\n",
       " 'max_features': [1, 2],\n",
       " 'min_samples_leaf': [2, 3, 4],\n",
       " 'min_samples_split': [8, 10, 13],\n",
       " 'n_estimators': [30, 40, 50, 65]}"
      ]
     },
     "execution_count": 81,
     "metadata": {},
     "output_type": "execute_result"
    }
   ],
   "source": [
    "# List parameter grid based on the results of random search\n",
    "param_grid = {\n",
    "    'bootstrap': [True, False],\n",
    "    'max_depth': [30, 36, 45],\n",
    "    'max_features': [1, 2],\n",
    "    'min_samples_leaf': [2, 3, 4],\n",
    "    'min_samples_split': [8, 10, 13],\n",
    "    'n_estimators': [30, 40, 50, 65]\n",
    "}\n",
    "\n",
    "# Create a based model\n",
    "reg_rf = ensemble.RandomForestRegressor()# Instantiate the grid search model\n",
    "rf_gridCV = GridSearchCV(estimator = reg_rf, param_grid = param_grid,\n",
    "                          cv = 3, n_jobs = -1, verbose = 2)\n",
    "param_grid"
   ]
  },
  {
   "cell_type": "code",
   "execution_count": null,
   "id": "7fd954f1",
   "metadata": {
    "id": "7fd954f1",
    "outputId": "eb7e4783-8a08-41ed-aef4-4bd3ac65248c"
   },
   "outputs": [
    {
     "name": "stdout",
     "output_type": "stream",
     "text": [
      "Fitting 3 folds for each of 432 candidates, totalling 1296 fits\n",
      "--- 8.767638683319092 seconds ---\n"
     ]
    }
   ],
   "source": [
    "#record the time\n",
    "import time\n",
    "start_time = time.time()\n",
    "\n",
    "# Fit the grid search\n",
    "rf_gridCV.fit(X_train, y_train)\n",
    "\n",
    "rf_gridCV.best_params_\n",
    "\n",
    "print(\"--- %s seconds ---\" % (time.time() - start_time))"
   ]
  },
  {
   "cell_type": "code",
   "execution_count": null,
   "id": "c52b8997",
   "metadata": {
    "id": "c52b8997",
    "outputId": "9eab8576-a62a-4244-cb27-007d127e9438"
   },
   "outputs": [
    {
     "data": {
      "text/plain": [
       "{'bootstrap': False,\n",
       " 'max_depth': 45,\n",
       " 'max_features': 1,\n",
       " 'min_samples_leaf': 4,\n",
       " 'min_samples_split': 8,\n",
       " 'n_estimators': 40}"
      ]
     },
     "execution_count": 70,
     "metadata": {},
     "output_type": "execute_result"
    }
   ],
   "source": [
    "rf_gridCV.best_params_"
   ]
  },
  {
   "cell_type": "code",
   "execution_count": null,
   "id": "3564015f",
   "metadata": {
    "id": "3564015f",
    "outputId": "8d2628b1-e192-4484-d2cd-cc978228ac38"
   },
   "outputs": [
    {
     "data": {
      "text/html": [
       "<style>#sk-container-id-2 {color: black;}#sk-container-id-2 pre{padding: 0;}#sk-container-id-2 div.sk-toggleable {background-color: white;}#sk-container-id-2 label.sk-toggleable__label {cursor: pointer;display: block;width: 100%;margin-bottom: 0;padding: 0.3em;box-sizing: border-box;text-align: center;}#sk-container-id-2 label.sk-toggleable__label-arrow:before {content: \"▸\";float: left;margin-right: 0.25em;color: #696969;}#sk-container-id-2 label.sk-toggleable__label-arrow:hover:before {color: black;}#sk-container-id-2 div.sk-estimator:hover label.sk-toggleable__label-arrow:before {color: black;}#sk-container-id-2 div.sk-toggleable__content {max-height: 0;max-width: 0;overflow: hidden;text-align: left;background-color: #f0f8ff;}#sk-container-id-2 div.sk-toggleable__content pre {margin: 0.2em;color: black;border-radius: 0.25em;background-color: #f0f8ff;}#sk-container-id-2 input.sk-toggleable__control:checked~div.sk-toggleable__content {max-height: 200px;max-width: 100%;overflow: auto;}#sk-container-id-2 input.sk-toggleable__control:checked~label.sk-toggleable__label-arrow:before {content: \"▾\";}#sk-container-id-2 div.sk-estimator input.sk-toggleable__control:checked~label.sk-toggleable__label {background-color: #d4ebff;}#sk-container-id-2 div.sk-label input.sk-toggleable__control:checked~label.sk-toggleable__label {background-color: #d4ebff;}#sk-container-id-2 input.sk-hidden--visually {border: 0;clip: rect(1px 1px 1px 1px);clip: rect(1px, 1px, 1px, 1px);height: 1px;margin: -1px;overflow: hidden;padding: 0;position: absolute;width: 1px;}#sk-container-id-2 div.sk-estimator {font-family: monospace;background-color: #f0f8ff;border: 1px dotted black;border-radius: 0.25em;box-sizing: border-box;margin-bottom: 0.5em;}#sk-container-id-2 div.sk-estimator:hover {background-color: #d4ebff;}#sk-container-id-2 div.sk-parallel-item::after {content: \"\";width: 100%;border-bottom: 1px solid gray;flex-grow: 1;}#sk-container-id-2 div.sk-label:hover label.sk-toggleable__label {background-color: #d4ebff;}#sk-container-id-2 div.sk-serial::before {content: \"\";position: absolute;border-left: 1px solid gray;box-sizing: border-box;top: 0;bottom: 0;left: 50%;z-index: 0;}#sk-container-id-2 div.sk-serial {display: flex;flex-direction: column;align-items: center;background-color: white;padding-right: 0.2em;padding-left: 0.2em;position: relative;}#sk-container-id-2 div.sk-item {position: relative;z-index: 1;}#sk-container-id-2 div.sk-parallel {display: flex;align-items: stretch;justify-content: center;background-color: white;position: relative;}#sk-container-id-2 div.sk-item::before, #sk-container-id-2 div.sk-parallel-item::before {content: \"\";position: absolute;border-left: 1px solid gray;box-sizing: border-box;top: 0;bottom: 0;left: 50%;z-index: -1;}#sk-container-id-2 div.sk-parallel-item {display: flex;flex-direction: column;z-index: 1;position: relative;background-color: white;}#sk-container-id-2 div.sk-parallel-item:first-child::after {align-self: flex-end;width: 50%;}#sk-container-id-2 div.sk-parallel-item:last-child::after {align-self: flex-start;width: 50%;}#sk-container-id-2 div.sk-parallel-item:only-child::after {width: 0;}#sk-container-id-2 div.sk-dashed-wrapped {border: 1px dashed gray;margin: 0 0.4em 0.5em 0.4em;box-sizing: border-box;padding-bottom: 0.4em;background-color: white;}#sk-container-id-2 div.sk-label label {font-family: monospace;font-weight: bold;display: inline-block;line-height: 1.2em;}#sk-container-id-2 div.sk-label-container {text-align: center;}#sk-container-id-2 div.sk-container {/* jupyter's `normalize.less` sets `[hidden] { display: none; }` but bootstrap.min.css set `[hidden] { display: none !important; }` so we also need the `!important` here to be able to override the default hidden behavior on the sphinx rendered scikit-learn.org. See: https://github.com/scikit-learn/scikit-learn/issues/21755 */display: inline-block !important;position: relative;}#sk-container-id-2 div.sk-text-repr-fallback {display: none;}</style><div id=\"sk-container-id-2\" class=\"sk-top-container\"><div class=\"sk-text-repr-fallback\"><pre>RandomForestRegressor(bootstrap=False, max_depth=45, max_features=1,\n",
       "                      min_samples_leaf=4, min_samples_split=8, n_estimators=40)</pre><b>In a Jupyter environment, please rerun this cell to show the HTML representation or trust the notebook. <br />On GitHub, the HTML representation is unable to render, please try loading this page with nbviewer.org.</b></div><div class=\"sk-container\" hidden><div class=\"sk-item\"><div class=\"sk-estimator sk-toggleable\"><input class=\"sk-toggleable__control sk-hidden--visually\" id=\"sk-estimator-id-2\" type=\"checkbox\" checked><label for=\"sk-estimator-id-2\" class=\"sk-toggleable__label sk-toggleable__label-arrow\">RandomForestRegressor</label><div class=\"sk-toggleable__content\"><pre>RandomForestRegressor(bootstrap=False, max_depth=45, max_features=1,\n",
       "                      min_samples_leaf=4, min_samples_split=8, n_estimators=40)</pre></div></div></div></div></div>"
      ],
      "text/plain": [
       "RandomForestRegressor(bootstrap=False, max_depth=45, max_features=1,\n",
       "                      min_samples_leaf=4, min_samples_split=8, n_estimators=40)"
      ]
     },
     "execution_count": 71,
     "metadata": {},
     "output_type": "execute_result"
    }
   ],
   "source": [
    "rf_gridCV.best_estimator_"
   ]
  },
  {
   "cell_type": "markdown",
   "id": "b8ec944e",
   "metadata": {
    "id": "b8ec944e"
   },
   "source": [
    "First run:\n",
    "\n",
    "RandomForestRegressor(max_depth=30, max_features=3, min_samples_leaf=2,\n",
    "                      min_samples_split=8, n_estimators=30)\n",
    "                      "
   ]
  },
  {
   "cell_type": "code",
   "execution_count": null,
   "id": "402a2fa5",
   "metadata": {
    "id": "402a2fa5",
    "outputId": "72245119-9d48-47d9-b004-80282fbea2bf"
   },
   "outputs": [
    {
     "data": {
      "text/html": [
       "<style>#sk-container-id-3 {color: black;}#sk-container-id-3 pre{padding: 0;}#sk-container-id-3 div.sk-toggleable {background-color: white;}#sk-container-id-3 label.sk-toggleable__label {cursor: pointer;display: block;width: 100%;margin-bottom: 0;padding: 0.3em;box-sizing: border-box;text-align: center;}#sk-container-id-3 label.sk-toggleable__label-arrow:before {content: \"▸\";float: left;margin-right: 0.25em;color: #696969;}#sk-container-id-3 label.sk-toggleable__label-arrow:hover:before {color: black;}#sk-container-id-3 div.sk-estimator:hover label.sk-toggleable__label-arrow:before {color: black;}#sk-container-id-3 div.sk-toggleable__content {max-height: 0;max-width: 0;overflow: hidden;text-align: left;background-color: #f0f8ff;}#sk-container-id-3 div.sk-toggleable__content pre {margin: 0.2em;color: black;border-radius: 0.25em;background-color: #f0f8ff;}#sk-container-id-3 input.sk-toggleable__control:checked~div.sk-toggleable__content {max-height: 200px;max-width: 100%;overflow: auto;}#sk-container-id-3 input.sk-toggleable__control:checked~label.sk-toggleable__label-arrow:before {content: \"▾\";}#sk-container-id-3 div.sk-estimator input.sk-toggleable__control:checked~label.sk-toggleable__label {background-color: #d4ebff;}#sk-container-id-3 div.sk-label input.sk-toggleable__control:checked~label.sk-toggleable__label {background-color: #d4ebff;}#sk-container-id-3 input.sk-hidden--visually {border: 0;clip: rect(1px 1px 1px 1px);clip: rect(1px, 1px, 1px, 1px);height: 1px;margin: -1px;overflow: hidden;padding: 0;position: absolute;width: 1px;}#sk-container-id-3 div.sk-estimator {font-family: monospace;background-color: #f0f8ff;border: 1px dotted black;border-radius: 0.25em;box-sizing: border-box;margin-bottom: 0.5em;}#sk-container-id-3 div.sk-estimator:hover {background-color: #d4ebff;}#sk-container-id-3 div.sk-parallel-item::after {content: \"\";width: 100%;border-bottom: 1px solid gray;flex-grow: 1;}#sk-container-id-3 div.sk-label:hover label.sk-toggleable__label {background-color: #d4ebff;}#sk-container-id-3 div.sk-serial::before {content: \"\";position: absolute;border-left: 1px solid gray;box-sizing: border-box;top: 0;bottom: 0;left: 50%;z-index: 0;}#sk-container-id-3 div.sk-serial {display: flex;flex-direction: column;align-items: center;background-color: white;padding-right: 0.2em;padding-left: 0.2em;position: relative;}#sk-container-id-3 div.sk-item {position: relative;z-index: 1;}#sk-container-id-3 div.sk-parallel {display: flex;align-items: stretch;justify-content: center;background-color: white;position: relative;}#sk-container-id-3 div.sk-item::before, #sk-container-id-3 div.sk-parallel-item::before {content: \"\";position: absolute;border-left: 1px solid gray;box-sizing: border-box;top: 0;bottom: 0;left: 50%;z-index: -1;}#sk-container-id-3 div.sk-parallel-item {display: flex;flex-direction: column;z-index: 1;position: relative;background-color: white;}#sk-container-id-3 div.sk-parallel-item:first-child::after {align-self: flex-end;width: 50%;}#sk-container-id-3 div.sk-parallel-item:last-child::after {align-self: flex-start;width: 50%;}#sk-container-id-3 div.sk-parallel-item:only-child::after {width: 0;}#sk-container-id-3 div.sk-dashed-wrapped {border: 1px dashed gray;margin: 0 0.4em 0.5em 0.4em;box-sizing: border-box;padding-bottom: 0.4em;background-color: white;}#sk-container-id-3 div.sk-label label {font-family: monospace;font-weight: bold;display: inline-block;line-height: 1.2em;}#sk-container-id-3 div.sk-label-container {text-align: center;}#sk-container-id-3 div.sk-container {/* jupyter's `normalize.less` sets `[hidden] { display: none; }` but bootstrap.min.css set `[hidden] { display: none !important; }` so we also need the `!important` here to be able to override the default hidden behavior on the sphinx rendered scikit-learn.org. See: https://github.com/scikit-learn/scikit-learn/issues/21755 */display: inline-block !important;position: relative;}#sk-container-id-3 div.sk-text-repr-fallback {display: none;}</style><div id=\"sk-container-id-3\" class=\"sk-top-container\"><div class=\"sk-text-repr-fallback\"><pre>RandomForestRegressor(bootstrap=False, max_depth=36, max_features=1,\n",
       "                      min_samples_leaf=3, min_samples_split=10,\n",
       "                      n_estimators=50)</pre><b>In a Jupyter environment, please rerun this cell to show the HTML representation or trust the notebook. <br />On GitHub, the HTML representation is unable to render, please try loading this page with nbviewer.org.</b></div><div class=\"sk-container\" hidden><div class=\"sk-item\"><div class=\"sk-estimator sk-toggleable\"><input class=\"sk-toggleable__control sk-hidden--visually\" id=\"sk-estimator-id-3\" type=\"checkbox\" checked><label for=\"sk-estimator-id-3\" class=\"sk-toggleable__label sk-toggleable__label-arrow\">RandomForestRegressor</label><div class=\"sk-toggleable__content\"><pre>RandomForestRegressor(bootstrap=False, max_depth=36, max_features=1,\n",
       "                      min_samples_leaf=3, min_samples_split=10,\n",
       "                      n_estimators=50)</pre></div></div></div></div></div>"
      ],
      "text/plain": [
       "RandomForestRegressor(bootstrap=False, max_depth=36, max_features=1,\n",
       "                      min_samples_leaf=3, min_samples_split=10,\n",
       "                      n_estimators=50)"
      ]
     },
     "execution_count": 72,
     "metadata": {},
     "output_type": "execute_result"
    }
   ],
   "source": [
    "#compare with randomCV\n",
    "rf_randCV.best_estimator_"
   ]
  },
  {
   "cell_type": "markdown",
   "id": "febba9d1",
   "metadata": {
    "id": "febba9d1"
   },
   "source": [
    "#### Best GridSearch CV model on full dataset"
   ]
  },
  {
   "cell_type": "code",
   "execution_count": null,
   "id": "6129cced",
   "metadata": {
    "id": "6129cced",
    "outputId": "d0e1ed24-8372-429c-c4bf-49e947fef98f",
    "scrolled": true
   },
   "outputs": [
    {
     "name": "stdout",
     "output_type": "stream",
     "text": [
      "--- 0.04703879356384277 seconds ---\n"
     ]
    }
   ],
   "source": [
    "#record the time\n",
    "import time\n",
    "start_time = time.time()\n",
    "\n",
    "best_gridCV = ensemble.RandomForestRegressor(**rf_gridCV.best_params_,\n",
    "                                             random_state=42)\n",
    "\n",
    "best_gridCV.fit(X_train, y_train)\n",
    "\n",
    "print(\"--- %s seconds ---\" % (time.time() - start_time))"
   ]
  },
  {
   "cell_type": "code",
   "execution_count": null,
   "id": "42c492bc",
   "metadata": {
    "id": "42c492bc"
   },
   "outputs": [],
   "source": [
    "y_pred_tr_reg_gcv = best_gridCV.predict(X_train)\n",
    "y_pred_reg_gcv = best_gridCV.predict(X_test)"
   ]
  },
  {
   "cell_type": "code",
   "execution_count": null,
   "id": "654e428f",
   "metadata": {
    "id": "654e428f",
    "outputId": "822ab63b-564b-4d07-e433-87196ba728c0"
   },
   "outputs": [
    {
     "name": "stdout",
     "output_type": "stream",
     "text": [
      "RF - best GridSearchCV param, Crime Rate regression, RMSE train: 9.6781\n",
      "RF - best GridSearchCV param, Crime Rate regression, RMSE train: 11.8796\n",
      "RF - best GridSearchCV param (14 features), train R2: 0.9512\n",
      "RF - best GridSearchCV param (14 features), test R2: 0.9330\n"
     ]
    }
   ],
   "source": [
    "#get performance metrics for train dataset\n",
    "#RMSE (squared=False returns rmse)\n",
    "rmse_rf_tr_reg_gcv = round(mean_squared_error(y_train, y_pred_tr_reg_gcv, squared=False),4)\n",
    "\n",
    "#get performance metrics for test dataset\n",
    "rmse_rf_reg_gcv = round(mean_squared_error(y_test, y_pred_reg_gcv, squared=False),4)\n",
    "\n",
    "print('RF - best GridSearchCV param, Crime Rate regression, RMSE train:', rmse_rf_tr_reg_gcv)\n",
    "print('RF - best GridSearchCV param, Crime Rate regression, RMSE train:', rmse_rf_reg_gcv)\n",
    "\n",
    "#check R2\n",
    "r2_rf_tr_reg_gcv = round(r2_score(y_train, y_pred_tr_reg_gcv), 4)\n",
    "r2_rf_reg_gcv = round(r2_score(y_test, y_pred_reg_gcv),4)\n",
    "\n",
    "print('RF - best GridSearchCV param (14 features), train R2:', r2_rf_tr_reg_gcv)\n",
    "print(\"RF - best GridSearchCV param (14 features), test R2: %.4f\" % r2_rf_reg_gcv)"
   ]
  },
  {
   "cell_type": "code",
   "execution_count": null,
   "id": "eacc85ad",
   "metadata": {
    "id": "eacc85ad",
    "outputId": "5c08842f-8fc9-4898-eff6-6d3dcee0163f"
   },
   "outputs": [
    {
     "data": {
      "text/plain": [
       "401.85"
      ]
     },
     "execution_count": 233,
     "metadata": {},
     "output_type": "execute_result"
    }
   ],
   "source": [
    "crime_census_df[\"CRIME_RATE\"].max()"
   ]
  },
  {
   "cell_type": "code",
   "execution_count": null,
   "id": "379f4dce",
   "metadata": {
    "id": "379f4dce",
    "outputId": "351d629d-5b6b-4bbd-e61c-ce95188fad0d"
   },
   "outputs": [
    {
     "data": {
      "text/plain": [
       "0.77"
      ]
     },
     "execution_count": 234,
     "metadata": {},
     "output_type": "execute_result"
    }
   ],
   "source": [
    "crime_census_df[\"CRIME_RATE\"].min()"
   ]
  },
  {
   "cell_type": "code",
   "execution_count": null,
   "id": "4b950579",
   "metadata": {
    "id": "4b950579",
    "outputId": "c22cbe7c-2b96-4a87-f9e6-54040762444e",
    "scrolled": false
   },
   "outputs": [
    {
     "data": {
      "text/html": [
       "<div>\n",
       "<style scoped>\n",
       "    .dataframe tbody tr th:only-of-type {\n",
       "        vertical-align: middle;\n",
       "    }\n",
       "\n",
       "    .dataframe tbody tr th {\n",
       "        vertical-align: top;\n",
       "    }\n",
       "\n",
       "    .dataframe thead th {\n",
       "        text-align: right;\n",
       "    }\n",
       "</style>\n",
       "<table border=\"1\" class=\"dataframe\">\n",
       "  <thead>\n",
       "    <tr style=\"text-align: right;\">\n",
       "      <th></th>\n",
       "      <th>FeatureNames</th>\n",
       "      <th>Value</th>\n",
       "    </tr>\n",
       "  </thead>\n",
       "  <tbody>\n",
       "    <tr>\n",
       "      <th>4</th>\n",
       "      <td>MCPP_MEDIAN_AGE</td>\n",
       "      <td>0.198707</td>\n",
       "    </tr>\n",
       "    <tr>\n",
       "      <th>10</th>\n",
       "      <td>MCPP_PCT_POVERTY</td>\n",
       "      <td>0.138908</td>\n",
       "    </tr>\n",
       "    <tr>\n",
       "      <th>9</th>\n",
       "      <td>MCPP_MEDIAN_HH_INCOME</td>\n",
       "      <td>0.108392</td>\n",
       "    </tr>\n",
       "    <tr>\n",
       "      <th>7</th>\n",
       "      <td>MCPP_MEDIAN_GROSS_RENT</td>\n",
       "      <td>0.091105</td>\n",
       "    </tr>\n",
       "    <tr>\n",
       "      <th>6</th>\n",
       "      <td>MCPP_PCT_BACHELOR</td>\n",
       "      <td>0.084762</td>\n",
       "    </tr>\n",
       "    <tr>\n",
       "      <th>5</th>\n",
       "      <td>MCPP_PCT_OCCUPIED_HOUSING</td>\n",
       "      <td>0.083042</td>\n",
       "    </tr>\n",
       "    <tr>\n",
       "      <th>3</th>\n",
       "      <td>MCPP_ACRES_LAND</td>\n",
       "      <td>0.079160</td>\n",
       "    </tr>\n",
       "    <tr>\n",
       "      <th>0</th>\n",
       "      <td>MCPP</td>\n",
       "      <td>0.073994</td>\n",
       "    </tr>\n",
       "    <tr>\n",
       "      <th>8</th>\n",
       "      <td>MCPP_PCT_UNEMPLOYED</td>\n",
       "      <td>0.073848</td>\n",
       "    </tr>\n",
       "    <tr>\n",
       "      <th>2</th>\n",
       "      <td>MCPP_POPULATION</td>\n",
       "      <td>0.056155</td>\n",
       "    </tr>\n",
       "    <tr>\n",
       "      <th>1</th>\n",
       "      <td>SEASON</td>\n",
       "      <td>0.011927</td>\n",
       "    </tr>\n",
       "  </tbody>\n",
       "</table>\n",
       "</div>"
      ],
      "text/plain": [
       "                 FeatureNames     Value\n",
       "4             MCPP_MEDIAN_AGE  0.198707\n",
       "10           MCPP_PCT_POVERTY  0.138908\n",
       "9       MCPP_MEDIAN_HH_INCOME  0.108392\n",
       "7      MCPP_MEDIAN_GROSS_RENT  0.091105\n",
       "6           MCPP_PCT_BACHELOR  0.084762\n",
       "5   MCPP_PCT_OCCUPIED_HOUSING  0.083042\n",
       "3             MCPP_ACRES_LAND  0.079160\n",
       "0                        MCPP  0.073994\n",
       "8         MCPP_PCT_UNEMPLOYED  0.073848\n",
       "2             MCPP_POPULATION  0.056155\n",
       "1                      SEASON  0.011927"
      ]
     },
     "execution_count": 87,
     "metadata": {},
     "output_type": "execute_result"
    }
   ],
   "source": [
    "rf_features_reg_gcv = pd.DataFrame({'FeatureNames': best_gridCV.feature_names_in_,\n",
    "                            'Value': best_gridCV.feature_importances_},\n",
    "                           columns=['FeatureNames', 'Value'])\n",
    "rf_features_reg_gcv = rf_features_reg_gcv.sort_values(by=['Value'], ascending=False)\n",
    "rf_features_reg_gcv"
   ]
  },
  {
   "cell_type": "code",
   "execution_count": null,
   "id": "2bc636e3",
   "metadata": {
    "id": "2bc636e3",
    "outputId": "1387477c-b471-42f0-93fb-e2182be8553f"
   },
   "outputs": [
    {
     "data": {
      "image/png": "[encoded data removed]",
      "text/plain": [
       "<Figure size 640x480 with 1 Axes>"
      ]
     },
     "metadata": {},
     "output_type": "display_data"
    }
   ],
   "source": [
    "plt.bar(x=rf_features_reg_gcv['FeatureNames'],\n",
    "        height=rf_features_reg_gcv['Value'],\n",
    "        color='green')\n",
    "plt.title('Feature importances for Random Forest Regression Best Parameter of 2010 - 2019 Crime Rate')\n",
    "plt.xticks(rotation=45, ha='right', rotation_mode='anchor')\n",
    "plt.ylabel('Values')\n",
    "plt.show()"
   ]
  },
  {
   "cell_type": "markdown",
   "id": "65c230f7",
   "metadata": {
    "id": "65c230f7"
   },
   "source": [
    "#### Export Joblib"
   ]
  },
  {
   "cell_type": "markdown",
   "id": "441d4cdd",
   "metadata": {
    "id": "441d4cdd"
   },
   "source": [
    "### RF conclusion\n",
    "\n",
    "Interestingly, the feature importance changes but #1 feature is still median age!\n",
    "\n",
    "Summary base RF:\n",
    "* Random Forest, ALL data, Crime Rate regression, RMSE train: 9.6519\n",
    "* Random Forest, ALL data, Crime Rate regression, RMSE train: 12.0119\n",
    "* RF - ALL data, Crime Rate regression , train Rsquared: 0.9514\n",
    "* RF- ALL data, Crime Rate regression, test Rsquared: 0.9315\n",
    "\n",
    "\n",
    "\n",
    "Summary RandomizedCV:\n",
    "* RandomForestRegressor(bootstrap=False, max_depth=36, max_features=1,\n",
    "                      min_samples_leaf=3, min_samples_split=10,\n",
    "                      n_estimators=50)\n",
    "* Random Forest, Crime Rate regression, RMSE train: 9.6468\n",
    "* Random Forest, Crime Rate regression, RMSE train: 12.0229\n",
    "* RF - best RandomizedCV param , train R2: 0.9515\n",
    "* RF - best RandomizedCV param, test R2: 0.9314\n",
    "\n",
    "\n",
    "Summary GridSearchCV:\n",
    "* RandomForestRegressor(bootstrap=False, max_depth=45, max_features=1,\n",
    "                      min_samples_leaf=4, min_samples_split=8, n_estimators=40\n",
    "* RF - best GridSearchCV param, Crime Rate regression, RMSE train: 9.6781\n",
    "* RF - best GridSearchCV param, Crime Rate regression, RMSE train: 11.8796\n",
    "* RF - best GridSearchCV param (14 features), train R2: 0.9512\n",
    "* RF - best GridSearchCV param (14 features), test R2: 0.9330\n",
    "\n",
    "Not much improvement!\n",
    "\n"
   ]
  },
  {
   "cell_type": "markdown",
   "id": "4253de4e",
   "metadata": {
    "id": "4253de4e"
   },
   "source": [
    "## Gradient Boosting"
   ]
  },
  {
   "cell_type": "markdown",
   "id": "840ac364",
   "metadata": {
    "id": "840ac364"
   },
   "source": [
    "### GB ALL data"
   ]
  },
  {
   "cell_type": "code",
   "execution_count": null,
   "id": "42f9bf4e",
   "metadata": {
    "id": "42f9bf4e",
    "outputId": "76fb2ab2-831b-43ce-e445-f73cacc769cd"
   },
   "outputs": [
    {
     "name": "stdout",
     "output_type": "stream",
     "text": [
      "--- 0.14380717277526855 seconds ---\n"
     ]
    }
   ],
   "source": [
    "#create Gradient Boost Regression Model\n",
    "    #since we have a lot of sample, n_elements might need to be increased\n",
    "    # to cut down time, use the same  number of tree as RF to be consistent (100)\n",
    "    # set learning rate (lr) as is since it is the same as the Lasso Regression optimum val.\n",
    "    # lr is a more important hyperparameter.\n",
    "gb_reg = ensemble.GradientBoostingRegressor(random_state=42)\n",
    "\n",
    "#record the time\n",
    "import time\n",
    "start_time = time.time()\n",
    "\n",
    "#fit the model (10% non standardized)\n",
    "gb_reg.fit(X_train, y_train)\n",
    "print(\"--- %s seconds ---\" % (time.time() - start_time))"
   ]
  },
  {
   "cell_type": "code",
   "execution_count": null,
   "id": "525daf15",
   "metadata": {
    "id": "525daf15",
    "outputId": "6100f462-7b4a-4cc7-d856-c1cd233bf89f"
   },
   "outputs": [
    {
     "name": "stdout",
     "output_type": "stream",
     "text": [
      "--- 0.009647369384765625 seconds ---\n"
     ]
    }
   ],
   "source": [
    "#record the time\n",
    "import time\n",
    "start_time = time.time()\n",
    "\n",
    "#predict using the train dataset\n",
    "y_pred_gb_tr = gb_reg.predict(X_train)\n",
    "y_pred_gb = gb_reg.predict(X_test)\n",
    "print(\"--- %s seconds ---\" % (time.time() - start_time))"
   ]
  },
  {
   "cell_type": "code",
   "execution_count": null,
   "id": "3db61038",
   "metadata": {
    "id": "3db61038",
    "outputId": "144984b6-67ff-4ebf-da85-a0a0cab35e92"
   },
   "outputs": [
    {
     "name": "stdout",
     "output_type": "stream",
     "text": [
      "Gradient Boost, Original- Root Mean Squared error (RMSE): 9.897\n",
      "Gradient Boost,  Original - R-Squared: 0.9489\n",
      "Gradient Boost,  Original - Root Mean Squared error (RMSE): 11.6278\n",
      "Gradient Boost,  Original - R-Squared: 0.9358\n"
     ]
    }
   ],
   "source": [
    "#get performance metrics for train dataset\n",
    "#RMSE (squared=False returns rmse)\n",
    "rmse_gb_tr = round(mean_squared_error(y_train, y_pred_gb_tr, squared=False),4)\n",
    "\n",
    "#R2\n",
    "r2_gb_tr = round(r2_score(y_train, y_pred_gb_tr), 4)\n",
    "\n",
    "print('Gradient Boost, Original- Root Mean Squared error (RMSE):', rmse_gb_tr)\n",
    "print('Gradient Boost,  Original - R-Squared:', r2_gb_tr)\n",
    "\n",
    "#get performance metrics for test dataset\n",
    "#RMSE (squared=False returns rmse)\n",
    "rmse_gb = round(mean_squared_error(y_test, y_pred_gb, squared=False),4)\n",
    "\n",
    "#R2\n",
    "r2_gb = round(r2_score(y_test, y_pred_gb), 4)\n",
    "\n",
    "print('Gradient Boost,  Original - Root Mean Squared error (RMSE):', rmse_gb)\n",
    "print('Gradient Boost,  Original - R-Squared:', r2_gb)"
   ]
  },
  {
   "cell_type": "code",
   "execution_count": null,
   "id": "142981d7",
   "metadata": {
    "id": "142981d7",
    "outputId": "b831dcb4-ed28-4496-82cf-eead8ef1cf42"
   },
   "outputs": [
    {
     "data": {
      "text/html": [
       "<div>\n",
       "<style scoped>\n",
       "    .dataframe tbody tr th:only-of-type {\n",
       "        vertical-align: middle;\n",
       "    }\n",
       "\n",
       "    .dataframe tbody tr th {\n",
       "        vertical-align: top;\n",
       "    }\n",
       "\n",
       "    .dataframe thead th {\n",
       "        text-align: right;\n",
       "    }\n",
       "</style>\n",
       "<table border=\"1\" class=\"dataframe\">\n",
       "  <thead>\n",
       "    <tr style=\"text-align: right;\">\n",
       "      <th></th>\n",
       "      <th>FeatureNames</th>\n",
       "      <th>Value</th>\n",
       "    </tr>\n",
       "  </thead>\n",
       "  <tbody>\n",
       "    <tr>\n",
       "      <th>4</th>\n",
       "      <td>MCPP_MEDIAN_AGE</td>\n",
       "      <td>0.561214</td>\n",
       "    </tr>\n",
       "    <tr>\n",
       "      <th>5</th>\n",
       "      <td>MCPP_PCT_OCCUPIED_HOUSING</td>\n",
       "      <td>0.257556</td>\n",
       "    </tr>\n",
       "    <tr>\n",
       "      <th>8</th>\n",
       "      <td>MCPP_PCT_UNEMPLOYED</td>\n",
       "      <td>0.044983</td>\n",
       "    </tr>\n",
       "    <tr>\n",
       "      <th>9</th>\n",
       "      <td>MCPP_MEDIAN_HH_INCOME</td>\n",
       "      <td>0.028237</td>\n",
       "    </tr>\n",
       "    <tr>\n",
       "      <th>10</th>\n",
       "      <td>MCPP_PCT_POVERTY</td>\n",
       "      <td>0.026899</td>\n",
       "    </tr>\n",
       "    <tr>\n",
       "      <th>3</th>\n",
       "      <td>MCPP_ACRES_LAND</td>\n",
       "      <td>0.025358</td>\n",
       "    </tr>\n",
       "    <tr>\n",
       "      <th>2</th>\n",
       "      <td>MCPP_POPULATION</td>\n",
       "      <td>0.024159</td>\n",
       "    </tr>\n",
       "    <tr>\n",
       "      <th>6</th>\n",
       "      <td>MCPP_PCT_BACHELOR</td>\n",
       "      <td>0.016700</td>\n",
       "    </tr>\n",
       "    <tr>\n",
       "      <th>1</th>\n",
       "      <td>SEASON</td>\n",
       "      <td>0.005903</td>\n",
       "    </tr>\n",
       "    <tr>\n",
       "      <th>7</th>\n",
       "      <td>MCPP_MEDIAN_GROSS_RENT</td>\n",
       "      <td>0.004608</td>\n",
       "    </tr>\n",
       "    <tr>\n",
       "      <th>0</th>\n",
       "      <td>MCPP</td>\n",
       "      <td>0.004384</td>\n",
       "    </tr>\n",
       "  </tbody>\n",
       "</table>\n",
       "</div>"
      ],
      "text/plain": [
       "                 FeatureNames     Value\n",
       "4             MCPP_MEDIAN_AGE  0.561214\n",
       "5   MCPP_PCT_OCCUPIED_HOUSING  0.257556\n",
       "8         MCPP_PCT_UNEMPLOYED  0.044983\n",
       "9       MCPP_MEDIAN_HH_INCOME  0.028237\n",
       "10           MCPP_PCT_POVERTY  0.026899\n",
       "3             MCPP_ACRES_LAND  0.025358\n",
       "2             MCPP_POPULATION  0.024159\n",
       "6           MCPP_PCT_BACHELOR  0.016700\n",
       "1                      SEASON  0.005903\n",
       "7      MCPP_MEDIAN_GROSS_RENT  0.004608\n",
       "0                        MCPP  0.004384"
      ]
     },
     "execution_count": 92,
     "metadata": {},
     "output_type": "execute_result"
    }
   ],
   "source": [
    "gb_features_reg = pd.DataFrame({'FeatureNames': gb_reg.feature_names_in_,\n",
    "                            'Value': gb_reg.feature_importances_},\n",
    "                           columns=['FeatureNames', 'Value'])\n",
    "gb_features_reg = gb_features_reg.sort_values(by=['Value'], ascending=False)\n",
    "gb_features_reg"
   ]
  },
  {
   "cell_type": "code",
   "execution_count": null,
   "id": "bf6f86ca",
   "metadata": {
    "id": "bf6f86ca"
   },
   "outputs": [],
   "source": [
    "# plt.bar(x=gb_features_reg['FeatureNames'], height=gb_features['count_GB'])\n",
    "# plt.title('Feature importance for gb model - 10%')\n",
    "# plt.xticks(rotation='vertical')\n",
    "# plt.show()"
   ]
  },
  {
   "cell_type": "markdown",
   "id": "a8232d38",
   "metadata": {
    "id": "a8232d38"
   },
   "source": [
    "Original GB:\n",
    "* Gradient Boost, Original- Root Mean Squared error (RMSE): 9.897\n",
    "* Gradient Boost,  Original - R-Squared: 0.9489\n",
    "* Gradient Boost,  Original - Root Mean Squared error (RMSE): 11.6278\n",
    "* Gradient Boost,  Original - R-Squared: 0.9358\n",
    "* not overfitted, but population is too important. I thought they will increase the hard to predict?"
   ]
  },
  {
   "cell_type": "markdown",
   "id": "cfef7797",
   "metadata": {
    "id": "cfef7797"
   },
   "source": [
    "### GridsearchCV"
   ]
  },
  {
   "cell_type": "markdown",
   "id": "efc8cbf1",
   "metadata": {
    "id": "efc8cbf1"
   },
   "source": [
    "best param for randomizedCV:\n",
    "\n",
    "{'n_estimators': 100,\n",
    " 'min_samples_split': 6,\n",
    " 'min_samples_leaf': 5,\n",
    " 'max_depth': 100,\n",
    " 'loss': 'squared_error',\n",
    " 'learning_rate': 0.1}\n",
    "\n",
    "randCV param:\n",
    "\n",
    "{'n_estimators': [50, 100, 150, 200], 'loss': ['squared_error', 'huber'], 'max_depth': [10, 40, 70, 100, None], 'min_samples_split': [3, 6, 10], 'min_samples_leaf': [3, 5, 10], 'learning_rate': [0.01, 0.1, 0.3]}\n",
    "\n",
    "\n",
    "base param:\n",
    "\n",
    "*, loss='squared_error', learning_rate=0.1, n_estimators=100, subsample=1.0, criterion='friedman_mse', min_samples_split=2, min_samples_leaf=1, min_weight_fraction_leaf=0.0, max_depth=3, min_impurity_decrease=0.0, init=None, random_state=None, max_features=None, alpha=0.9, verbose=0, max_leaf_nodes=None, warm_start=False, validation_fraction=0.1, n_iter_no_change=None, tol=0.0001, ccp_alpha=0.0"
   ]
  },
  {
   "cell_type": "code",
   "execution_count": null,
   "id": "57e82938",
   "metadata": {
    "id": "57e82938"
   },
   "outputs": [],
   "source": [
    "# List parameter grid based on the results of random search\n",
    "param_grid_gb = {\n",
    "    'max_depth': [3, 10, 50, 100],\n",
    "    'min_samples_leaf': [2,5,7],\n",
    "    'min_samples_split': [2, 4, 6, 7],\n",
    "    'learning_rate': [0.005, 0.01, 0.1],\n",
    "    'n_estimators': [75, 100, 120]\n",
    "}\n",
    "\n",
    "# Create a based model\n",
    "reg_gb = ensemble.GradientBoostingRegressor(random_state=42)\n",
    "gb_gridCV = GridSearchCV(estimator = reg_gb, param_grid = param_grid_gb,\n",
    "                          cv = 3, n_jobs = -1, verbose = 2)"
   ]
  },
  {
   "cell_type": "code",
   "execution_count": null,
   "id": "b2d6a7d1",
   "metadata": {
    "id": "b2d6a7d1",
    "outputId": "f23d0cac-65b9-44b7-cc79-05acd61368a4"
   },
   "outputs": [
    {
     "name": "stdout",
     "output_type": "stream",
     "text": [
      "Fitting 3 folds for each of 432 candidates, totalling 1296 fits\n",
      "--- 35.56537890434265 seconds ---\n"
     ]
    }
   ],
   "source": [
    "#record the time\n",
    "import time\n",
    "start_time = time.time()\n",
    "\n",
    "# Fit the grid search to the train dataset\n",
    "gb_gridCV.fit(X_train, y_train)\n",
    "\n",
    "print(\"--- %s seconds ---\" % (time.time() - start_time))"
   ]
  },
  {
   "cell_type": "code",
   "execution_count": null,
   "id": "a6f6a0a2",
   "metadata": {
    "id": "a6f6a0a2",
    "outputId": "e4168d18-e69c-4c2d-f317-6d49b9bcaa14"
   },
   "outputs": [
    {
     "data": {
      "text/plain": [
       "{'learning_rate': 0.1,\n",
       " 'max_depth': 3,\n",
       " 'min_samples_leaf': 5,\n",
       " 'min_samples_split': 2,\n",
       " 'n_estimators': 120}"
      ]
     },
     "execution_count": 110,
     "metadata": {},
     "output_type": "execute_result"
    }
   ],
   "source": [
    "gb_gridCV.best_params_"
   ]
  },
  {
   "cell_type": "code",
   "execution_count": null,
   "id": "6059097e",
   "metadata": {
    "id": "6059097e",
    "outputId": "c8a0edbf-2337-4bb1-dfcd-3bcc04602aec"
   },
   "outputs": [
    {
     "data": {
      "text/html": [
       "<style>#sk-container-id-5 {color: black;}#sk-container-id-5 pre{padding: 0;}#sk-container-id-5 div.sk-toggleable {background-color: white;}#sk-container-id-5 label.sk-toggleable__label {cursor: pointer;display: block;width: 100%;margin-bottom: 0;padding: 0.3em;box-sizing: border-box;text-align: center;}#sk-container-id-5 label.sk-toggleable__label-arrow:before {content: \"▸\";float: left;margin-right: 0.25em;color: #696969;}#sk-container-id-5 label.sk-toggleable__label-arrow:hover:before {color: black;}#sk-container-id-5 div.sk-estimator:hover label.sk-toggleable__label-arrow:before {color: black;}#sk-container-id-5 div.sk-toggleable__content {max-height: 0;max-width: 0;overflow: hidden;text-align: left;background-color: #f0f8ff;}#sk-container-id-5 div.sk-toggleable__content pre {margin: 0.2em;color: black;border-radius: 0.25em;background-color: #f0f8ff;}#sk-container-id-5 input.sk-toggleable__control:checked~div.sk-toggleable__content {max-height: 200px;max-width: 100%;overflow: auto;}#sk-container-id-5 input.sk-toggleable__control:checked~label.sk-toggleable__label-arrow:before {content: \"▾\";}#sk-container-id-5 div.sk-estimator input.sk-toggleable__control:checked~label.sk-toggleable__label {background-color: #d4ebff;}#sk-container-id-5 div.sk-label input.sk-toggleable__control:checked~label.sk-toggleable__label {background-color: #d4ebff;}#sk-container-id-5 input.sk-hidden--visually {border: 0;clip: rect(1px 1px 1px 1px);clip: rect(1px, 1px, 1px, 1px);height: 1px;margin: -1px;overflow: hidden;padding: 0;position: absolute;width: 1px;}#sk-container-id-5 div.sk-estimator {font-family: monospace;background-color: #f0f8ff;border: 1px dotted black;border-radius: 0.25em;box-sizing: border-box;margin-bottom: 0.5em;}#sk-container-id-5 div.sk-estimator:hover {background-color: #d4ebff;}#sk-container-id-5 div.sk-parallel-item::after {content: \"\";width: 100%;border-bottom: 1px solid gray;flex-grow: 1;}#sk-container-id-5 div.sk-label:hover label.sk-toggleable__label {background-color: #d4ebff;}#sk-container-id-5 div.sk-serial::before {content: \"\";position: absolute;border-left: 1px solid gray;box-sizing: border-box;top: 0;bottom: 0;left: 50%;z-index: 0;}#sk-container-id-5 div.sk-serial {display: flex;flex-direction: column;align-items: center;background-color: white;padding-right: 0.2em;padding-left: 0.2em;position: relative;}#sk-container-id-5 div.sk-item {position: relative;z-index: 1;}#sk-container-id-5 div.sk-parallel {display: flex;align-items: stretch;justify-content: center;background-color: white;position: relative;}#sk-container-id-5 div.sk-item::before, #sk-container-id-5 div.sk-parallel-item::before {content: \"\";position: absolute;border-left: 1px solid gray;box-sizing: border-box;top: 0;bottom: 0;left: 50%;z-index: -1;}#sk-container-id-5 div.sk-parallel-item {display: flex;flex-direction: column;z-index: 1;position: relative;background-color: white;}#sk-container-id-5 div.sk-parallel-item:first-child::after {align-self: flex-end;width: 50%;}#sk-container-id-5 div.sk-parallel-item:last-child::after {align-self: flex-start;width: 50%;}#sk-container-id-5 div.sk-parallel-item:only-child::after {width: 0;}#sk-container-id-5 div.sk-dashed-wrapped {border: 1px dashed gray;margin: 0 0.4em 0.5em 0.4em;box-sizing: border-box;padding-bottom: 0.4em;background-color: white;}#sk-container-id-5 div.sk-label label {font-family: monospace;font-weight: bold;display: inline-block;line-height: 1.2em;}#sk-container-id-5 div.sk-label-container {text-align: center;}#sk-container-id-5 div.sk-container {/* jupyter's `normalize.less` sets `[hidden] { display: none; }` but bootstrap.min.css set `[hidden] { display: none !important; }` so we also need the `!important` here to be able to override the default hidden behavior on the sphinx rendered scikit-learn.org. See: https://github.com/scikit-learn/scikit-learn/issues/21755 */display: inline-block !important;position: relative;}#sk-container-id-5 div.sk-text-repr-fallback {display: none;}</style><div id=\"sk-container-id-5\" class=\"sk-top-container\"><div class=\"sk-text-repr-fallback\"><pre>GradientBoostingRegressor(min_samples_leaf=5, n_estimators=120, random_state=42)</pre><b>In a Jupyter environment, please rerun this cell to show the HTML representation or trust the notebook. <br />On GitHub, the HTML representation is unable to render, please try loading this page with nbviewer.org.</b></div><div class=\"sk-container\" hidden><div class=\"sk-item\"><div class=\"sk-estimator sk-toggleable\"><input class=\"sk-toggleable__control sk-hidden--visually\" id=\"sk-estimator-id-5\" type=\"checkbox\" checked><label for=\"sk-estimator-id-5\" class=\"sk-toggleable__label sk-toggleable__label-arrow\">GradientBoostingRegressor</label><div class=\"sk-toggleable__content\"><pre>GradientBoostingRegressor(min_samples_leaf=5, n_estimators=120, random_state=42)</pre></div></div></div></div></div>"
      ],
      "text/plain": [
       "GradientBoostingRegressor(min_samples_leaf=5, n_estimators=120, random_state=42)"
      ]
     },
     "execution_count": 111,
     "metadata": {},
     "output_type": "execute_result"
    }
   ],
   "source": [
    "gb_gridCV.best_estimator_"
   ]
  },
  {
   "cell_type": "markdown",
   "id": "33a61b78",
   "metadata": {
    "id": "33a61b78"
   },
   "source": [
    "First run:\n",
    "\n",
    "GradientBoostingRegressor(learning_rate=0.01, max_depth=90, min_samples_leaf=4,\n",
    "                          min_samples_split=4, n_estimators=120)\n",
    "\n",
    "\n",
    "Second run (change param):\n",
    "\n",
    "GradientBoostingRegressor(min_samples_leaf=5, n_estimators=120)\n",
    "\n",
    "\n",
    "Third run:\n",
    "\n",
    "GradientBoostingRegressor(min_samples_leaf=5, n_estimators=120, random_state=42"
   ]
  },
  {
   "cell_type": "code",
   "execution_count": null,
   "id": "7db5e1b6",
   "metadata": {
    "id": "7db5e1b6",
    "outputId": "7e71c42d-debd-4f22-afd8-93ca725b2f08"
   },
   "outputs": [
    {
     "data": {
      "text/html": [
       "<style>#sk-container-id-6 {color: black;}#sk-container-id-6 pre{padding: 0;}#sk-container-id-6 div.sk-toggleable {background-color: white;}#sk-container-id-6 label.sk-toggleable__label {cursor: pointer;display: block;width: 100%;margin-bottom: 0;padding: 0.3em;box-sizing: border-box;text-align: center;}#sk-container-id-6 label.sk-toggleable__label-arrow:before {content: \"▸\";float: left;margin-right: 0.25em;color: #696969;}#sk-container-id-6 label.sk-toggleable__label-arrow:hover:before {color: black;}#sk-container-id-6 div.sk-estimator:hover label.sk-toggleable__label-arrow:before {color: black;}#sk-container-id-6 div.sk-toggleable__content {max-height: 0;max-width: 0;overflow: hidden;text-align: left;background-color: #f0f8ff;}#sk-container-id-6 div.sk-toggleable__content pre {margin: 0.2em;color: black;border-radius: 0.25em;background-color: #f0f8ff;}#sk-container-id-6 input.sk-toggleable__control:checked~div.sk-toggleable__content {max-height: 200px;max-width: 100%;overflow: auto;}#sk-container-id-6 input.sk-toggleable__control:checked~label.sk-toggleable__label-arrow:before {content: \"▾\";}#sk-container-id-6 div.sk-estimator input.sk-toggleable__control:checked~label.sk-toggleable__label {background-color: #d4ebff;}#sk-container-id-6 div.sk-label input.sk-toggleable__control:checked~label.sk-toggleable__label {background-color: #d4ebff;}#sk-container-id-6 input.sk-hidden--visually {border: 0;clip: rect(1px 1px 1px 1px);clip: rect(1px, 1px, 1px, 1px);height: 1px;margin: -1px;overflow: hidden;padding: 0;position: absolute;width: 1px;}#sk-container-id-6 div.sk-estimator {font-family: monospace;background-color: #f0f8ff;border: 1px dotted black;border-radius: 0.25em;box-sizing: border-box;margin-bottom: 0.5em;}#sk-container-id-6 div.sk-estimator:hover {background-color: #d4ebff;}#sk-container-id-6 div.sk-parallel-item::after {content: \"\";width: 100%;border-bottom: 1px solid gray;flex-grow: 1;}#sk-container-id-6 div.sk-label:hover label.sk-toggleable__label {background-color: #d4ebff;}#sk-container-id-6 div.sk-serial::before {content: \"\";position: absolute;border-left: 1px solid gray;box-sizing: border-box;top: 0;bottom: 0;left: 50%;z-index: 0;}#sk-container-id-6 div.sk-serial {display: flex;flex-direction: column;align-items: center;background-color: white;padding-right: 0.2em;padding-left: 0.2em;position: relative;}#sk-container-id-6 div.sk-item {position: relative;z-index: 1;}#sk-container-id-6 div.sk-parallel {display: flex;align-items: stretch;justify-content: center;background-color: white;position: relative;}#sk-container-id-6 div.sk-item::before, #sk-container-id-6 div.sk-parallel-item::before {content: \"\";position: absolute;border-left: 1px solid gray;box-sizing: border-box;top: 0;bottom: 0;left: 50%;z-index: -1;}#sk-container-id-6 div.sk-parallel-item {display: flex;flex-direction: column;z-index: 1;position: relative;background-color: white;}#sk-container-id-6 div.sk-parallel-item:first-child::after {align-self: flex-end;width: 50%;}#sk-container-id-6 div.sk-parallel-item:last-child::after {align-self: flex-start;width: 50%;}#sk-container-id-6 div.sk-parallel-item:only-child::after {width: 0;}#sk-container-id-6 div.sk-dashed-wrapped {border: 1px dashed gray;margin: 0 0.4em 0.5em 0.4em;box-sizing: border-box;padding-bottom: 0.4em;background-color: white;}#sk-container-id-6 div.sk-label label {font-family: monospace;font-weight: bold;display: inline-block;line-height: 1.2em;}#sk-container-id-6 div.sk-label-container {text-align: center;}#sk-container-id-6 div.sk-container {/* jupyter's `normalize.less` sets `[hidden] { display: none; }` but bootstrap.min.css set `[hidden] { display: none !important; }` so we also need the `!important` here to be able to override the default hidden behavior on the sphinx rendered scikit-learn.org. See: https://github.com/scikit-learn/scikit-learn/issues/21755 */display: inline-block !important;position: relative;}#sk-container-id-6 div.sk-text-repr-fallback {display: none;}</style><div id=\"sk-container-id-6\" class=\"sk-top-container\"><div class=\"sk-text-repr-fallback\"><pre>GradientBoostingRegressor(max_depth=100, min_samples_leaf=5,\n",
       "                          min_samples_split=6, random_state=42)</pre><b>In a Jupyter environment, please rerun this cell to show the HTML representation or trust the notebook. <br />On GitHub, the HTML representation is unable to render, please try loading this page with nbviewer.org.</b></div><div class=\"sk-container\" hidden><div class=\"sk-item\"><div class=\"sk-estimator sk-toggleable\"><input class=\"sk-toggleable__control sk-hidden--visually\" id=\"sk-estimator-id-6\" type=\"checkbox\" checked><label for=\"sk-estimator-id-6\" class=\"sk-toggleable__label sk-toggleable__label-arrow\">GradientBoostingRegressor</label><div class=\"sk-toggleable__content\"><pre>GradientBoostingRegressor(max_depth=100, min_samples_leaf=5,\n",
       "                          min_samples_split=6, random_state=42)</pre></div></div></div></div></div>"
      ],
      "text/plain": [
       "GradientBoostingRegressor(max_depth=100, min_samples_leaf=5,\n",
       "                          min_samples_split=6, random_state=42)"
      ]
     },
     "execution_count": 113,
     "metadata": {},
     "output_type": "execute_result"
    }
   ],
   "source": [
    "#compare with randomCV\n",
    "gb_randCV.best_estimator_"
   ]
  },
  {
   "cell_type": "markdown",
   "id": "b819bcc6",
   "metadata": {
    "id": "b819bcc6"
   },
   "source": [
    "#### Best GridSearch CV model on full dataset"
   ]
  },
  {
   "cell_type": "code",
   "execution_count": null,
   "id": "292bd782",
   "metadata": {
    "id": "292bd782",
    "outputId": "079bbb07-7ea2-49f5-db34-a3668e463291",
    "scrolled": true
   },
   "outputs": [
    {
     "name": "stdout",
     "output_type": "stream",
     "text": [
      "--- 0.1567845344543457 seconds ---\n"
     ]
    }
   ],
   "source": [
    "#record the time\n",
    "import time\n",
    "start_time = time.time()\n",
    "\n",
    "best_gridCV_gb = ensemble.GradientBoostingRegressor(**gb_gridCV.best_params_,\n",
    "                                                    random_state=42)\n",
    "best_gridCV_gb.fit(X_train, y_train)\n",
    "\n",
    "print(\"--- %s seconds ---\" % (time.time() - start_time))"
   ]
  },
  {
   "cell_type": "code",
   "execution_count": null,
   "id": "ecd9a1c6",
   "metadata": {
    "id": "ecd9a1c6"
   },
   "outputs": [],
   "source": [
    "y_pred_tr_reg_gcv_gb = best_gridCV_gb.predict(X_train)\n",
    "y_pred_reg_gcv_gb = best_gridCV_gb.predict(X_test)"
   ]
  },
  {
   "cell_type": "code",
   "execution_count": null,
   "id": "4aa3f44b",
   "metadata": {
    "id": "4aa3f44b",
    "outputId": "ebf4feaf-ea83-4442-e4f4-385304209cbc"
   },
   "outputs": [
    {
     "name": "stdout",
     "output_type": "stream",
     "text": [
      "GB - best GridSearchCV param, Crime Rate regression, RMSE train: 9.8113\n",
      "GB - best GridSearchCV param, Crime Rate regression, RMSE train: 11.6593\n",
      "GB - best GridSearchCV param , train R2: 0.9498\n",
      "GB - best GridSearchCV param, test R2: 0.9355\n"
     ]
    }
   ],
   "source": [
    "#get performance metrics for train dataset\n",
    "#RMSE (squared=False returns rmse)\n",
    "rmse_gb_tr_reg_gcv = round(mean_squared_error(y_train, y_pred_tr_reg_gcv_gb, squared=False),4)\n",
    "\n",
    "#get performance metrics for test dataset\n",
    "rmse_gb_reg_gcv = round(mean_squared_error(y_test, y_pred_reg_gcv_gb, squared=False),4)\n",
    "\n",
    "print('GB - best GridSearchCV param, Crime Rate regression, RMSE train:', rmse_gb_tr_reg_gcv)\n",
    "print('GB - best GridSearchCV param, Crime Rate regression, RMSE train:', rmse_gb_reg_gcv)\n",
    "\n",
    "#check R2\n",
    "r2_gb_tr_reg_gcv = round(r2_score(y_train, y_pred_tr_reg_gcv_gb), 4)\n",
    "r2_gb_reg_gcv = round(r2_score(y_test, y_pred_reg_gcv_gb), 4)\n",
    "\n",
    "print('GB - best GridSearchCV param , train R2:', r2_gb_tr_reg_gcv)\n",
    "print(\"GB - best GridSearchCV param, test R2: %.4f\" % r2_gb_reg_gcv)"
   ]
  },
  {
   "cell_type": "code",
   "execution_count": null,
   "id": "11f99b31",
   "metadata": {
    "id": "11f99b31",
    "outputId": "6bf32f49-1d56-4622-bb21-7b2d883275ee"
   },
   "outputs": [
    {
     "data": {
      "text/plain": [
       "401.85"
      ]
     },
     "execution_count": 265,
     "metadata": {},
     "output_type": "execute_result"
    }
   ],
   "source": [
    "crime_census_df[\"CRIME_RATE\"].max()"
   ]
  },
  {
   "cell_type": "code",
   "execution_count": null,
   "id": "6cc2b7d7",
   "metadata": {
    "id": "6cc2b7d7",
    "outputId": "7da07f2d-0669-486c-e304-957d473c6da0"
   },
   "outputs": [
    {
     "data": {
      "text/plain": [
       "0.77"
      ]
     },
     "execution_count": 266,
     "metadata": {},
     "output_type": "execute_result"
    }
   ],
   "source": [
    "crime_census_df[\"CRIME_RATE\"].min()"
   ]
  },
  {
   "cell_type": "code",
   "execution_count": null,
   "id": "737e673b",
   "metadata": {
    "id": "737e673b",
    "outputId": "5350b5c3-94b5-4505-99d6-b0d1b072feda",
    "scrolled": false
   },
   "outputs": [
    {
     "data": {
      "text/html": [
       "<div>\n",
       "<style scoped>\n",
       "    .dataframe tbody tr th:only-of-type {\n",
       "        vertical-align: middle;\n",
       "    }\n",
       "\n",
       "    .dataframe tbody tr th {\n",
       "        vertical-align: top;\n",
       "    }\n",
       "\n",
       "    .dataframe thead th {\n",
       "        text-align: right;\n",
       "    }\n",
       "</style>\n",
       "<table border=\"1\" class=\"dataframe\">\n",
       "  <thead>\n",
       "    <tr style=\"text-align: right;\">\n",
       "      <th></th>\n",
       "      <th>FeatureNames</th>\n",
       "      <th>Value</th>\n",
       "    </tr>\n",
       "  </thead>\n",
       "  <tbody>\n",
       "    <tr>\n",
       "      <th>4</th>\n",
       "      <td>MCPP_MEDIAN_AGE</td>\n",
       "      <td>0.560834</td>\n",
       "    </tr>\n",
       "    <tr>\n",
       "      <th>5</th>\n",
       "      <td>MCPP_PCT_OCCUPIED_HOUSING</td>\n",
       "      <td>0.257332</td>\n",
       "    </tr>\n",
       "    <tr>\n",
       "      <th>8</th>\n",
       "      <td>MCPP_PCT_UNEMPLOYED</td>\n",
       "      <td>0.044958</td>\n",
       "    </tr>\n",
       "    <tr>\n",
       "      <th>9</th>\n",
       "      <td>MCPP_MEDIAN_HH_INCOME</td>\n",
       "      <td>0.028403</td>\n",
       "    </tr>\n",
       "    <tr>\n",
       "      <th>10</th>\n",
       "      <td>MCPP_PCT_POVERTY</td>\n",
       "      <td>0.026901</td>\n",
       "    </tr>\n",
       "    <tr>\n",
       "      <th>3</th>\n",
       "      <td>MCPP_ACRES_LAND</td>\n",
       "      <td>0.025389</td>\n",
       "    </tr>\n",
       "    <tr>\n",
       "      <th>2</th>\n",
       "      <td>MCPP_POPULATION</td>\n",
       "      <td>0.024249</td>\n",
       "    </tr>\n",
       "    <tr>\n",
       "      <th>6</th>\n",
       "      <td>MCPP_PCT_BACHELOR</td>\n",
       "      <td>0.016706</td>\n",
       "    </tr>\n",
       "    <tr>\n",
       "      <th>1</th>\n",
       "      <td>SEASON</td>\n",
       "      <td>0.006186</td>\n",
       "    </tr>\n",
       "    <tr>\n",
       "      <th>7</th>\n",
       "      <td>MCPP_MEDIAN_GROSS_RENT</td>\n",
       "      <td>0.004655</td>\n",
       "    </tr>\n",
       "    <tr>\n",
       "      <th>0</th>\n",
       "      <td>MCPP</td>\n",
       "      <td>0.004388</td>\n",
       "    </tr>\n",
       "  </tbody>\n",
       "</table>\n",
       "</div>"
      ],
      "text/plain": [
       "                 FeatureNames     Value\n",
       "4             MCPP_MEDIAN_AGE  0.560834\n",
       "5   MCPP_PCT_OCCUPIED_HOUSING  0.257332\n",
       "8         MCPP_PCT_UNEMPLOYED  0.044958\n",
       "9       MCPP_MEDIAN_HH_INCOME  0.028403\n",
       "10           MCPP_PCT_POVERTY  0.026901\n",
       "3             MCPP_ACRES_LAND  0.025389\n",
       "2             MCPP_POPULATION  0.024249\n",
       "6           MCPP_PCT_BACHELOR  0.016706\n",
       "1                      SEASON  0.006186\n",
       "7      MCPP_MEDIAN_GROSS_RENT  0.004655\n",
       "0                        MCPP  0.004388"
      ]
     },
     "execution_count": 117,
     "metadata": {},
     "output_type": "execute_result"
    }
   ],
   "source": [
    "gb_features_reg_gcv = pd.DataFrame({'FeatureNames': best_gridCV_gb.feature_names_in_,\n",
    "                            'Value': best_gridCV_gb.feature_importances_},\n",
    "                           columns=['FeatureNames', 'Value'])\n",
    "gb_features_reg_gcv = gb_features_reg_gcv.sort_values(by=['Value'], ascending=False)\n",
    "gb_features_reg_gcv"
   ]
  },
  {
   "cell_type": "code",
   "execution_count": null,
   "id": "6cc3b0f3",
   "metadata": {
    "id": "6cc3b0f3",
    "outputId": "3cad8e75-688b-401f-d3ba-fbbb6af18742",
    "scrolled": false
   },
   "outputs": [
    {
     "data": {
      "image/png": "[encoded data removed]",
      "text/plain": [
       "<Figure size 640x480 with 1 Axes>"
      ]
     },
     "metadata": {},
     "output_type": "display_data"
    }
   ],
   "source": [
    "plt.bar(x=gb_features_reg_gcv['FeatureNames'],\n",
    "        height=gb_features_reg_gcv['Value'],\n",
    "        color='orange')\n",
    "plt.title('Feature importances for Gradient Boosting Regression Best Parameter of 2010 - 2019 Crime Rate')\n",
    "plt.xticks(rotation=45, ha='right', rotation_mode='anchor')\n",
    "plt.ylabel('Values')\n",
    "plt.show()"
   ]
  },
  {
   "cell_type": "markdown",
   "id": "d27b8b6c",
   "metadata": {
    "id": "d27b8b6c"
   },
   "source": [
    "## KNN model\n",
    "\n",
    "base model:\n",
    "\n",
    "KNeighborsRegressor(n_neighbors=5, *, weights='uniform', algorithm='auto', leaf_size=30, p=2, metric='minkowski', metric_params=None, n_jobs=None)"
   ]
  },
  {
   "cell_type": "code",
   "execution_count": null,
   "id": "5efd3a5a",
   "metadata": {
    "id": "5efd3a5a",
    "outputId": "a3763920-e272-4547-b6fa-6457aeabbd14"
   },
   "outputs": [
    {
     "name": "stdout",
     "output_type": "stream",
     "text": [
      "--- 0.0 seconds ---\n"
     ]
    }
   ],
   "source": [
    "#record the time\n",
    "import time\n",
    "start_time = time.time()\n",
    "\n",
    "#fit the model\n",
    "  #set all parameters as standard first\n",
    "KNNmodel = KNeighborsRegressor() #p=2 is eucledian distance, p=1 is manhattan\n",
    "KNNmodel.fit(X_train, y_train)\n",
    "\n",
    "print(\"--- %s seconds ---\" % (time.time() - start_time))"
   ]
  },
  {
   "cell_type": "code",
   "execution_count": null,
   "id": "aacf1171",
   "metadata": {
    "id": "aacf1171",
    "outputId": "0cf2413e-e0d3-438a-bce2-1e6da654ad40"
   },
   "outputs": [
    {
     "name": "stdout",
     "output_type": "stream",
     "text": [
      "--- 0.013296842575073242 seconds ---\n"
     ]
    }
   ],
   "source": [
    "#record the time\n",
    "import time\n",
    "start_time = time.time()\n",
    "\n",
    "#predict\n",
    "y_pred_tr_knn = KNNmodel.predict(X_train)\n",
    "\n",
    "#predict test data\n",
    "y_pred_knn = KNNmodel.predict(X_test)\n",
    "\n",
    "print(\"--- %s seconds ---\" % (time.time() - start_time))"
   ]
  },
  {
   "cell_type": "code",
   "execution_count": null,
   "id": "4d02b48a",
   "metadata": {
    "id": "4d02b48a",
    "outputId": "cc808b1e-34ff-46c4-ef38-0b23c41deb04"
   },
   "outputs": [
    {
     "name": "stdout",
     "output_type": "stream",
     "text": [
      "KNN (base), train - Root Mean Squared Error (RMSE): 10.0738\n",
      "KNN (base), train - R-Squared: 0.9471\n",
      "KNN (base), test - Root Mean Squared Error (RMSE): 12.5542\n",
      "KNN (base), test - R-Squared: 0.9252\n"
     ]
    }
   ],
   "source": [
    "#RMSE (squared=False returns rmse)\n",
    "rmse_knn_tr = round(mean_squared_error(y_train, y_pred_tr_knn, squared=False),4)\n",
    "#R2\n",
    "r2_knn_tr = round(r2_score(y_train, y_pred_tr_knn), 4)\n",
    "print('KNN (base), train - Root Mean Squared Error (RMSE):', rmse_knn_tr)\n",
    "print('KNN (base), train - R-Squared:', r2_knn_tr)\n",
    "\n",
    "#RMSE (squared=False returns rmse)\n",
    "rmse_knn = round(mean_squared_error(y_test, y_pred_knn, squared=False),4)\n",
    "#R2\n",
    "r2_knn = round(r2_score(y_test, y_pred_knn), 4)\n",
    "print('KNN (base), test - Root Mean Squared Error (RMSE):', rmse_knn)\n",
    "print('KNN (base), test - R-Squared:', r2_knn)"
   ]
  },
  {
   "cell_type": "code",
   "execution_count": null,
   "id": "d5889ea9",
   "metadata": {
    "id": "d5889ea9"
   },
   "outputs": [],
   "source": [
    "# define performance metrics\n",
    "from sklearn.metrics import mean_squared_error, r2_score\n",
    "\n",
    "def performance_matrix_reg(y_train, y_pred_train, y_test, y_pred_test, **description):\n",
    "    \"calculate rmse and r-squared for regression model\"\n",
    "    rmse_train = round(mean_squared_error(y_train, y_pred_train, squared=False),4)\n",
    "    rmse_test = round(mean_squared_error(y_test, y_pred_test, squared=False),4)\n",
    "\n",
    "    print(\"RMSE for \", description, \"train: \", rmse_train, \" and test: \", rmse_test)\n",
    "\n",
    "    r2_train = round(r2_score(y_train, y_pred_train), 4)\n",
    "    r2_test = round(r2_score(y_test, y_pred), 4)\n",
    "    print(\"R-squared for \", description, \"train: \", r2_train, \" and test: \", r2_test)\n",
    "\n",
    "    return rmse_train, rmse_test, r2_train, r2_test"
   ]
  },
  {
   "cell_type": "markdown",
   "id": "32687f30",
   "metadata": {
    "id": "32687f30"
   },
   "source": [
    "### KNN cross-validation to find best K"
   ]
  },
  {
   "cell_type": "markdown",
   "id": "13add00b",
   "metadata": {
    "id": "13add00b"
   },
   "source": [
    "### GridSearchCV\n",
    "\n",
    "base model:\n",
    "\n",
    "KNeighborsRegressor(n_neighbors=5, *, weights='uniform', algorithm='auto', leaf_size=30, p=2, metric='minkowski', metric_params=None, n_jobs=None)"
   ]
  },
  {
   "cell_type": "code",
   "execution_count": null,
   "id": "ada8b9f2",
   "metadata": {
    "id": "ada8b9f2"
   },
   "outputs": [],
   "source": [
    "# List parameter grid based on the results of random search\n",
    "param_grid_knn = {\n",
    "    'n_neighbors': list(range(1, 16)), #total is 2000 samples, so max is 1%?\n",
    "    'weights': [\"uniform\",  \"distance\"],\n",
    "    'p': [1,2]\n",
    "}\n",
    "\n",
    "# Create a based model\n",
    "reg_knn = KNeighborsRegressor()\n",
    "knn_gridCV = GridSearchCV(estimator = reg_knn, param_grid = param_grid_knn,\n",
    "                          cv = 3, n_jobs = -1, verbose = 2)"
   ]
  },
  {
   "cell_type": "code",
   "execution_count": null,
   "id": "b2a935cb",
   "metadata": {
    "id": "b2a935cb",
    "outputId": "398ae22a-62a7-42ca-90eb-3ae16ac0cb74"
   },
   "outputs": [
    {
     "name": "stdout",
     "output_type": "stream",
     "text": [
      "Fitting 3 folds for each of 60 candidates, totalling 180 fits\n",
      "--- 1.9780573844909668 seconds ---\n"
     ]
    }
   ],
   "source": [
    "#record the time\n",
    "import time\n",
    "start_time = time.time()\n",
    "\n",
    "# Fit the grid search to the train dataset\n",
    "knn_gridCV.fit(X_train, y_train)\n",
    "\n",
    "print(\"--- %s seconds ---\" % (time.time() - start_time))"
   ]
  },
  {
   "cell_type": "code",
   "execution_count": null,
   "id": "b861c103",
   "metadata": {
    "id": "b861c103",
    "outputId": "76e09555-5b12-4553-83c6-0d288b3d6af7"
   },
   "outputs": [
    {
     "data": {
      "text/plain": [
       "{'n_neighbors': 6, 'p': 2, 'weights': 'uniform'}"
      ]
     },
     "execution_count": 136,
     "metadata": {},
     "output_type": "execute_result"
    }
   ],
   "source": [
    "knn_gridCV.best_params_"
   ]
  },
  {
   "cell_type": "code",
   "execution_count": null,
   "id": "bc74dd23",
   "metadata": {
    "id": "bc74dd23",
    "outputId": "74c5989a-9e28-4299-d016-db99c57f7688"
   },
   "outputs": [
    {
     "data": {
      "text/html": [
       "<style>#sk-container-id-7 {color: black;}#sk-container-id-7 pre{padding: 0;}#sk-container-id-7 div.sk-toggleable {background-color: white;}#sk-container-id-7 label.sk-toggleable__label {cursor: pointer;display: block;width: 100%;margin-bottom: 0;padding: 0.3em;box-sizing: border-box;text-align: center;}#sk-container-id-7 label.sk-toggleable__label-arrow:before {content: \"▸\";float: left;margin-right: 0.25em;color: #696969;}#sk-container-id-7 label.sk-toggleable__label-arrow:hover:before {color: black;}#sk-container-id-7 div.sk-estimator:hover label.sk-toggleable__label-arrow:before {color: black;}#sk-container-id-7 div.sk-toggleable__content {max-height: 0;max-width: 0;overflow: hidden;text-align: left;background-color: #f0f8ff;}#sk-container-id-7 div.sk-toggleable__content pre {margin: 0.2em;color: black;border-radius: 0.25em;background-color: #f0f8ff;}#sk-container-id-7 input.sk-toggleable__control:checked~div.sk-toggleable__content {max-height: 200px;max-width: 100%;overflow: auto;}#sk-container-id-7 input.sk-toggleable__control:checked~label.sk-toggleable__label-arrow:before {content: \"▾\";}#sk-container-id-7 div.sk-estimator input.sk-toggleable__control:checked~label.sk-toggleable__label {background-color: #d4ebff;}#sk-container-id-7 div.sk-label input.sk-toggleable__control:checked~label.sk-toggleable__label {background-color: #d4ebff;}#sk-container-id-7 input.sk-hidden--visually {border: 0;clip: rect(1px 1px 1px 1px);clip: rect(1px, 1px, 1px, 1px);height: 1px;margin: -1px;overflow: hidden;padding: 0;position: absolute;width: 1px;}#sk-container-id-7 div.sk-estimator {font-family: monospace;background-color: #f0f8ff;border: 1px dotted black;border-radius: 0.25em;box-sizing: border-box;margin-bottom: 0.5em;}#sk-container-id-7 div.sk-estimator:hover {background-color: #d4ebff;}#sk-container-id-7 div.sk-parallel-item::after {content: \"\";width: 100%;border-bottom: 1px solid gray;flex-grow: 1;}#sk-container-id-7 div.sk-label:hover label.sk-toggleable__label {background-color: #d4ebff;}#sk-container-id-7 div.sk-serial::before {content: \"\";position: absolute;border-left: 1px solid gray;box-sizing: border-box;top: 0;bottom: 0;left: 50%;z-index: 0;}#sk-container-id-7 div.sk-serial {display: flex;flex-direction: column;align-items: center;background-color: white;padding-right: 0.2em;padding-left: 0.2em;position: relative;}#sk-container-id-7 div.sk-item {position: relative;z-index: 1;}#sk-container-id-7 div.sk-parallel {display: flex;align-items: stretch;justify-content: center;background-color: white;position: relative;}#sk-container-id-7 div.sk-item::before, #sk-container-id-7 div.sk-parallel-item::before {content: \"\";position: absolute;border-left: 1px solid gray;box-sizing: border-box;top: 0;bottom: 0;left: 50%;z-index: -1;}#sk-container-id-7 div.sk-parallel-item {display: flex;flex-direction: column;z-index: 1;position: relative;background-color: white;}#sk-container-id-7 div.sk-parallel-item:first-child::after {align-self: flex-end;width: 50%;}#sk-container-id-7 div.sk-parallel-item:last-child::after {align-self: flex-start;width: 50%;}#sk-container-id-7 div.sk-parallel-item:only-child::after {width: 0;}#sk-container-id-7 div.sk-dashed-wrapped {border: 1px dashed gray;margin: 0 0.4em 0.5em 0.4em;box-sizing: border-box;padding-bottom: 0.4em;background-color: white;}#sk-container-id-7 div.sk-label label {font-family: monospace;font-weight: bold;display: inline-block;line-height: 1.2em;}#sk-container-id-7 div.sk-label-container {text-align: center;}#sk-container-id-7 div.sk-container {/* jupyter's `normalize.less` sets `[hidden] { display: none; }` but bootstrap.min.css set `[hidden] { display: none !important; }` so we also need the `!important` here to be able to override the default hidden behavior on the sphinx rendered scikit-learn.org. See: https://github.com/scikit-learn/scikit-learn/issues/21755 */display: inline-block !important;position: relative;}#sk-container-id-7 div.sk-text-repr-fallback {display: none;}</style><div id=\"sk-container-id-7\" class=\"sk-top-container\"><div class=\"sk-text-repr-fallback\"><pre>KNeighborsRegressor(n_neighbors=6)</pre><b>In a Jupyter environment, please rerun this cell to show the HTML representation or trust the notebook. <br />On GitHub, the HTML representation is unable to render, please try loading this page with nbviewer.org.</b></div><div class=\"sk-container\" hidden><div class=\"sk-item\"><div class=\"sk-estimator sk-toggleable\"><input class=\"sk-toggleable__control sk-hidden--visually\" id=\"sk-estimator-id-7\" type=\"checkbox\" checked><label for=\"sk-estimator-id-7\" class=\"sk-toggleable__label sk-toggleable__label-arrow\">KNeighborsRegressor</label><div class=\"sk-toggleable__content\"><pre>KNeighborsRegressor(n_neighbors=6)</pre></div></div></div></div></div>"
      ],
      "text/plain": [
       "KNeighborsRegressor(n_neighbors=6)"
      ]
     },
     "execution_count": 137,
     "metadata": {},
     "output_type": "execute_result"
    }
   ],
   "source": [
    "knn_gridCV.best_estimator_"
   ]
  },
  {
   "cell_type": "markdown",
   "id": "f22f30cd",
   "metadata": {
    "id": "f22f30cd"
   },
   "source": [
    "#### Best GridSearch CV model on full dataset"
   ]
  },
  {
   "cell_type": "code",
   "execution_count": null,
   "id": "12c2d7c4",
   "metadata": {
    "id": "12c2d7c4",
    "outputId": "a9833987-2c17-4b1f-97f6-9eec23c64c19",
    "scrolled": true
   },
   "outputs": [
    {
     "name": "stdout",
     "output_type": "stream",
     "text": [
      "--- 0.012415647506713867 seconds ---\n"
     ]
    }
   ],
   "source": [
    "#record the time\n",
    "import time\n",
    "start_time = time.time()\n",
    "\n",
    "best_gridCV_knn = KNeighborsRegressor(**knn_gridCV.best_params_)\n",
    "best_gridCV_knn.fit(X_train, y_train)\n",
    "\n",
    "print(\"--- %s seconds ---\" % (time.time() - start_time))"
   ]
  },
  {
   "cell_type": "code",
   "execution_count": null,
   "id": "566a37fe",
   "metadata": {
    "id": "566a37fe"
   },
   "outputs": [],
   "source": [
    "y_pred_tr_reg_gcv_knn = best_gridCV_knn.predict(X_train)\n",
    "y_pred_reg_gcv_knn = best_gridCV_knn.predict(X_test)"
   ]
  },
  {
   "cell_type": "code",
   "execution_count": null,
   "id": "d35f3c46",
   "metadata": {
    "id": "d35f3c46",
    "outputId": "17f08c86-3857-4376-f18d-86ff5b9d55ac"
   },
   "outputs": [
    {
     "name": "stdout",
     "output_type": "stream",
     "text": [
      "knn- best GridSearchCV param, Crime Rate regression, RMSE train: 9.7411\n",
      "knn - best GridSearchCV param, Crime Rate regression, RMSE train: 12.0372\n",
      "knn - best GridSearchCV param , train R2: 0.9505\n",
      "knn - best GridSearchCV param, test R2: 0.9312\n"
     ]
    }
   ],
   "source": [
    "#get performance metrics for train dataset\n",
    "#RMSE (squared=False returns rmse)\n",
    "rmse_knn_tr_reg_gcv = round(mean_squared_error(y_train, y_pred_tr_reg_gcv_knn, squared=False),4)\n",
    "\n",
    "#get performance metrics for test dataset\n",
    "rmse_knn_reg_gcv = round(mean_squared_error(y_test, y_pred_reg_gcv_knn, squared=False),4)\n",
    "\n",
    "print('knn- best GridSearchCV param, Crime Rate regression, RMSE train:', rmse_knn_tr_reg_gcv)\n",
    "print('knn - best GridSearchCV param, Crime Rate regression, RMSE train:', rmse_knn_reg_gcv)\n",
    "\n",
    "#check R2\n",
    "r2_knn_tr_reg_gcv = round(r2_score(y_train, y_pred_tr_reg_gcv_knn), 4)\n",
    "r2_knn_reg_gcv = round(r2_score(y_test, y_pred_reg_gcv_knn), 4)\n",
    "\n",
    "print('knn - best GridSearchCV param , train R2:', r2_knn_tr_reg_gcv)\n",
    "print(\"knn - best GridSearchCV param, test R2: %.4f\" % r2_knn_reg_gcv)"
   ]
  },
  {
   "cell_type": "code",
   "execution_count": null,
   "id": "405473da",
   "metadata": {
    "id": "405473da",
    "outputId": "3e208ed6-af39-4601-af45-ca26789cbb64"
   },
   "outputs": [
    {
     "data": {
      "text/plain": [
       "401.85"
      ]
     },
     "execution_count": 265,
     "metadata": {},
     "output_type": "execute_result"
    }
   ],
   "source": [
    "crime_census_df[\"CRIME_RATE\"].max()"
   ]
  },
  {
   "cell_type": "code",
   "execution_count": null,
   "id": "19e70c44",
   "metadata": {
    "id": "19e70c44",
    "outputId": "76830a64-1eee-4f9c-f265-e969156660c4"
   },
   "outputs": [
    {
     "data": {
      "text/plain": [
       "0.77"
      ]
     },
     "execution_count": 266,
     "metadata": {},
     "output_type": "execute_result"
    }
   ],
   "source": [
    "crime_census_df[\"CRIME_RATE\"].min()"
   ]
  },
  {
   "cell_type": "markdown",
   "id": "419d3a27",
   "metadata": {
    "id": "419d3a27"
   },
   "source": [
    "### KNN conclusion\n",
    "\n",
    "pretty high R2 already, and comparable RMSE!\n"
   ]
  },
  {
   "cell_type": "markdown",
   "id": "c810c0ce",
   "metadata": {
    "id": "c810c0ce"
   },
   "source": [
    "## Summary of Models' Performance Metrics"
   ]
  },
  {
   "cell_type": "code",
   "execution_count": null,
   "id": "747000ae",
   "metadata": {
    "id": "747000ae",
    "outputId": "2d77a4af-9567-43e9-b724-0b325e5119a4"
   },
   "outputs": [
    {
     "name": "stdout",
     "output_type": "stream",
     "text": [
      "Performance metrics for Crime Rate Regression on Seattle Police Department 2010-2019 dataset\n"
     ]
    },
    {
     "data": {
      "text/html": [
       "<div>\n",
       "<style scoped>\n",
       "    .dataframe tbody tr th:only-of-type {\n",
       "        vertical-align: middle;\n",
       "    }\n",
       "\n",
       "    .dataframe tbody tr th {\n",
       "        vertical-align: top;\n",
       "    }\n",
       "\n",
       "    .dataframe thead th {\n",
       "        text-align: right;\n",
       "    }\n",
       "</style>\n",
       "<table border=\"1\" class=\"dataframe\">\n",
       "  <thead>\n",
       "    <tr style=\"text-align: right;\">\n",
       "      <th></th>\n",
       "      <th>Regression Model</th>\n",
       "      <th>RMSE (train)</th>\n",
       "      <th>RMSE (test)</th>\n",
       "      <th>$R^2$ (train)</th>\n",
       "      <th>$R^2$ (test)</th>\n",
       "      <th>computation time (sec)</th>\n",
       "    </tr>\n",
       "  </thead>\n",
       "  <tbody>\n",
       "    <tr>\n",
       "      <th>0</th>\n",
       "      <td>Linear Regression</td>\n",
       "      <td>26.4161</td>\n",
       "      <td>28.2948</td>\n",
       "      <td>0.6361</td>\n",
       "      <td>0.6199</td>\n",
       "      <td>0.0097</td>\n",
       "    </tr>\n",
       "    <tr>\n",
       "      <th>1</th>\n",
       "      <td>Lasso Regression</td>\n",
       "      <td>26.4414</td>\n",
       "      <td>28.3675</td>\n",
       "      <td>0.6354</td>\n",
       "      <td>0.618</td>\n",
       "      <td>0.006</td>\n",
       "    </tr>\n",
       "    <tr>\n",
       "      <th>2</th>\n",
       "      <td>Random Forest - RF (base)</td>\n",
       "      <td>9.6519</td>\n",
       "      <td>12.0119</td>\n",
       "      <td>0.9514</td>\n",
       "      <td>0.9315</td>\n",
       "      <td>0.3784</td>\n",
       "    </tr>\n",
       "    <tr>\n",
       "      <th>3</th>\n",
       "      <td>Random Forest - RF (best)</td>\n",
       "      <td>9.6781</td>\n",
       "      <td>11.8796</td>\n",
       "      <td>0.9512</td>\n",
       "      <td>0.933</td>\n",
       "      <td>0.047</td>\n",
       "    </tr>\n",
       "    <tr>\n",
       "      <th>4</th>\n",
       "      <td>Gradient Boost - GB (base)</td>\n",
       "      <td>9.897</td>\n",
       "      <td>11.6278</td>\n",
       "      <td>0.9489</td>\n",
       "      <td>0.9358</td>\n",
       "      <td>0.1438</td>\n",
       "    </tr>\n",
       "    <tr>\n",
       "      <th>5</th>\n",
       "      <td>Gradient Boost - GB (best)</td>\n",
       "      <td>9.8113</td>\n",
       "      <td>11.6593</td>\n",
       "      <td>0.9498</td>\n",
       "      <td>0.9355</td>\n",
       "      <td>0.1567</td>\n",
       "    </tr>\n",
       "    <tr>\n",
       "      <th>6</th>\n",
       "      <td>K-Nearest Neighbor -KNN (k=5, base)</td>\n",
       "      <td>10.0738</td>\n",
       "      <td>12.5542</td>\n",
       "      <td>0.9471</td>\n",
       "      <td>0.9252</td>\n",
       "      <td>0.0132</td>\n",
       "    </tr>\n",
       "    <tr>\n",
       "      <th>7</th>\n",
       "      <td>K-Nearest Neighbor -KNN (k=6, best)</td>\n",
       "      <td>9.7411</td>\n",
       "      <td>12.0372</td>\n",
       "      <td>0.9505</td>\n",
       "      <td>0.9312</td>\n",
       "      <td>0.0124</td>\n",
       "    </tr>\n",
       "    <tr>\n",
       "      <th>8</th>\n",
       "      <td>MLP Neural Network - (base)</td>\n",
       "      <td>26.3303</td>\n",
       "      <td>26.5052</td>\n",
       "      <td>0.6384</td>\n",
       "      <td>0.6665</td>\n",
       "      <td>0.7555</td>\n",
       "    </tr>\n",
       "    <tr>\n",
       "      <th>9</th>\n",
       "      <td>MLP Neural Network - (best)</td>\n",
       "      <td>16.1828</td>\n",
       "      <td>17.0855</td>\n",
       "      <td>0.8634</td>\n",
       "      <td>0.8614</td>\n",
       "      <td>0.8333</td>\n",
       "    </tr>\n",
       "  </tbody>\n",
       "</table>\n",
       "</div>"
      ],
      "text/plain": [
       "                      Regression Model RMSE (train) RMSE (test) $R^2$ (train)  \\\n",
       "0                    Linear Regression      26.4161     28.2948        0.6361   \n",
       "1                     Lasso Regression      26.4414     28.3675        0.6354   \n",
       "2            Random Forest - RF (base)       9.6519     12.0119        0.9514   \n",
       "3            Random Forest - RF (best)       9.6781     11.8796        0.9512   \n",
       "4           Gradient Boost - GB (base)        9.897     11.6278        0.9489   \n",
       "5           Gradient Boost - GB (best)       9.8113     11.6593        0.9498   \n",
       "6  K-Nearest Neighbor -KNN (k=5, base)      10.0738     12.5542        0.9471   \n",
       "7  K-Nearest Neighbor -KNN (k=6, best)       9.7411     12.0372        0.9505   \n",
       "8          MLP Neural Network - (base)      26.3303     26.5052        0.6384   \n",
       "9          MLP Neural Network - (best)      16.1828     17.0855        0.8634   \n",
       "\n",
       "  $R^2$ (test) computation time (sec)  \n",
       "0       0.6199                 0.0097  \n",
       "1        0.618                  0.006  \n",
       "2       0.9315                 0.3784  \n",
       "3        0.933                  0.047  \n",
       "4       0.9358                 0.1438  \n",
       "5       0.9355                 0.1567  \n",
       "6       0.9252                 0.0132  \n",
       "7       0.9312                 0.0124  \n",
       "8       0.6665                 0.7555  \n",
       "9       0.8614                 0.8333  "
      ]
     },
     "execution_count": 178,
     "metadata": {},
     "output_type": "execute_result"
    }
   ],
   "source": [
    "#summary of all metrics:\n",
    "\n",
    "df_metrics_CR = pd.DataFrame(np.array([\n",
    "        ['Linear Regression', rmse_linear_tr, rmse_linear, r2_linear_tr, r2_linear, 0.0097],\n",
    "        ['Lasso Regression', rmse_lasso_tr, rmse_lasso, r2_lasso_tr, r2_lasso, 0.006],\n",
    "        #['Lasso Regression (10%)', rmse_lasso10_tr, rmse_lasso10, r2_lasso10_tr, r2_lasso10, 0.806],\n",
    "        #['Decision Tree - DT (10%)', rmse_dt_tr, rmse_dt, r2_dt_tr, r2_dt, 287.21],\n",
    "        ['Random Forest - RF (base)', rmse_rf_tr_reg, rmse_rf_reg, r2_rf_tr_reg, r2_rf_reg, 0.3784],\n",
    "        ['Random Forest - RF (best)', rmse_rf_tr_reg_gcv, rmse_rf_reg_gcv, r2_rf_tr_reg_gcv, r2_rf_reg_gcv, 0.0470],\n",
    "        ['Gradient Boost - GB (base)', rmse_gb_tr, rmse_gb, r2_gb_tr, r2_gb,  0.1438],\n",
    "        ['Gradient Boost - GB (best)', rmse_gb_tr_reg_gcv, rmse_gb_reg_gcv, r2_gb_tr_reg_gcv, r2_gb_reg_gcv, 0.1567],\n",
    "        ['K-Nearest Neighbor -KNN (k=5, base)', rmse_knn_tr, rmse_knn, r2_knn_tr, r2_knn, 0.0132],\n",
    "        ['K-Nearest Neighbor -KNN (k=6, best)', rmse_knn_tr_reg_gcv, rmse_knn_reg_gcv,\n",
    "         r2_knn_tr_reg_gcv, r2_knn_reg_gcv, 0.0124],\n",
    "        ['MLP Neural Network - (base)', rmse_NN_tr, rmse_NN, r2_NN_tr, r2_NN,  0.7555],\n",
    "        ['MLP Neural Network - (best)', rmse_NN_tr_reg_gcv, rmse_NN_reg_gcv, r2_NN_tr_reg_gcv, r2_NN_reg_gcv, 0.8333]\n",
    "        ]),\n",
    "        columns=['Regression Model', 'RMSE (train)', 'RMSE (test)', '$R^2$ (train)',\n",
    "             '$R^2$ (test)', 'computation time (sec)'])\n",
    "print('Performance metrics for Crime Rate Regression on Seattle Police Department 2010-2019 dataset')\n",
    "df_metrics_CR"
   ]
  },
  {
   "cell_type": "code",
   "execution_count": null,
   "id": "7527b46f",
   "metadata": {
    "id": "7527b46f",
    "outputId": "dd5b025b-8397-4181-c577-485e696f64be"
   },
   "outputs": [
    {
     "name": "stdout",
     "output_type": "stream",
     "text": [
      "<class 'pandas.core.frame.DataFrame'>\n",
      "RangeIndex: 10 entries, 0 to 9\n",
      "Data columns (total 6 columns):\n",
      " #   Column                  Non-Null Count  Dtype \n",
      "---  ------                  --------------  ----- \n",
      " 0   Regression Model        10 non-null     object\n",
      " 1   RMSE (train)            10 non-null     object\n",
      " 2   RMSE (test)             10 non-null     object\n",
      " 3   $R^2$ (train)           10 non-null     object\n",
      " 4   $R^2$ (test)            10 non-null     object\n",
      " 5   computation time (sec)  10 non-null     object\n",
      "dtypes: object(6)\n",
      "memory usage: 608.0+ bytes\n"
     ]
    }
   ],
   "source": [
    "df_metrics_CR.info()"
   ]
  },
  {
   "cell_type": "code",
   "execution_count": null,
   "id": "968851c7",
   "metadata": {
    "id": "968851c7",
    "outputId": "48cefac1-901c-458a-8ad5-f8537e4d7f0b"
   },
   "outputs": [
    {
     "data": {
      "text/html": [
       "<div>\n",
       "<style scoped>\n",
       "    .dataframe tbody tr th:only-of-type {\n",
       "        vertical-align: middle;\n",
       "    }\n",
       "\n",
       "    .dataframe tbody tr th {\n",
       "        vertical-align: top;\n",
       "    }\n",
       "\n",
       "    .dataframe thead th {\n",
       "        text-align: right;\n",
       "    }\n",
       "</style>\n",
       "<table border=\"1\" class=\"dataframe\">\n",
       "  <thead>\n",
       "    <tr style=\"text-align: right;\">\n",
       "      <th></th>\n",
       "      <th>Regression Model</th>\n",
       "      <th>RMSE (train)</th>\n",
       "      <th>RMSE (test)</th>\n",
       "      <th>$R^2$ (train)</th>\n",
       "      <th>$R^2$ (test)</th>\n",
       "      <th>computation time (sec)</th>\n",
       "    </tr>\n",
       "  </thead>\n",
       "  <tbody>\n",
       "    <tr>\n",
       "      <th>0</th>\n",
       "      <td>Linear Regression</td>\n",
       "      <td>26.4161</td>\n",
       "      <td>28.2948</td>\n",
       "      <td>0.6361</td>\n",
       "      <td>0.6199</td>\n",
       "      <td>0.0097</td>\n",
       "    </tr>\n",
       "    <tr>\n",
       "      <th>1</th>\n",
       "      <td>Lasso Regression</td>\n",
       "      <td>26.4414</td>\n",
       "      <td>28.3675</td>\n",
       "      <td>0.6354</td>\n",
       "      <td>0.6180</td>\n",
       "      <td>0.0060</td>\n",
       "    </tr>\n",
       "    <tr>\n",
       "      <th>2</th>\n",
       "      <td>Random Forest - RF (base)</td>\n",
       "      <td>9.6519</td>\n",
       "      <td>12.0119</td>\n",
       "      <td>0.9514</td>\n",
       "      <td>0.9315</td>\n",
       "      <td>0.3784</td>\n",
       "    </tr>\n",
       "    <tr>\n",
       "      <th>3</th>\n",
       "      <td>Random Forest - RF (best)</td>\n",
       "      <td>9.6781</td>\n",
       "      <td>11.8796</td>\n",
       "      <td>0.9512</td>\n",
       "      <td>0.9330</td>\n",
       "      <td>0.0470</td>\n",
       "    </tr>\n",
       "    <tr>\n",
       "      <th>4</th>\n",
       "      <td>Gradient Boost - GB (base)</td>\n",
       "      <td>9.8970</td>\n",
       "      <td>11.6278</td>\n",
       "      <td>0.9489</td>\n",
       "      <td>0.9358</td>\n",
       "      <td>0.1438</td>\n",
       "    </tr>\n",
       "    <tr>\n",
       "      <th>5</th>\n",
       "      <td>Gradient Boost - GB (best)</td>\n",
       "      <td>9.8113</td>\n",
       "      <td>11.6593</td>\n",
       "      <td>0.9498</td>\n",
       "      <td>0.9355</td>\n",
       "      <td>0.1567</td>\n",
       "    </tr>\n",
       "    <tr>\n",
       "      <th>6</th>\n",
       "      <td>K-Nearest Neighbor -KNN (k=5, base)</td>\n",
       "      <td>10.0738</td>\n",
       "      <td>12.5542</td>\n",
       "      <td>0.9471</td>\n",
       "      <td>0.9252</td>\n",
       "      <td>0.0132</td>\n",
       "    </tr>\n",
       "    <tr>\n",
       "      <th>7</th>\n",
       "      <td>K-Nearest Neighbor -KNN (k=6, best)</td>\n",
       "      <td>9.7411</td>\n",
       "      <td>12.0372</td>\n",
       "      <td>0.9505</td>\n",
       "      <td>0.9312</td>\n",
       "      <td>0.0124</td>\n",
       "    </tr>\n",
       "    <tr>\n",
       "      <th>8</th>\n",
       "      <td>MLP Neural Network - (base)</td>\n",
       "      <td>26.3303</td>\n",
       "      <td>26.5052</td>\n",
       "      <td>0.6384</td>\n",
       "      <td>0.6665</td>\n",
       "      <td>0.7555</td>\n",
       "    </tr>\n",
       "    <tr>\n",
       "      <th>9</th>\n",
       "      <td>MLP Neural Network - (best)</td>\n",
       "      <td>16.1828</td>\n",
       "      <td>17.0855</td>\n",
       "      <td>0.8634</td>\n",
       "      <td>0.8614</td>\n",
       "      <td>0.8333</td>\n",
       "    </tr>\n",
       "  </tbody>\n",
       "</table>\n",
       "</div>"
      ],
      "text/plain": [
       "                      Regression Model  RMSE (train)  RMSE (test)  \\\n",
       "0                    Linear Regression       26.4161      28.2948   \n",
       "1                     Lasso Regression       26.4414      28.3675   \n",
       "2            Random Forest - RF (base)        9.6519      12.0119   \n",
       "3            Random Forest - RF (best)        9.6781      11.8796   \n",
       "4           Gradient Boost - GB (base)        9.8970      11.6278   \n",
       "5           Gradient Boost - GB (best)        9.8113      11.6593   \n",
       "6  K-Nearest Neighbor -KNN (k=5, base)       10.0738      12.5542   \n",
       "7  K-Nearest Neighbor -KNN (k=6, best)        9.7411      12.0372   \n",
       "8          MLP Neural Network - (base)       26.3303      26.5052   \n",
       "9          MLP Neural Network - (best)       16.1828      17.0855   \n",
       "\n",
       "   $R^2$ (train)  $R^2$ (test)  computation time (sec)  \n",
       "0         0.6361        0.6199                  0.0097  \n",
       "1         0.6354        0.6180                  0.0060  \n",
       "2         0.9514        0.9315                  0.3784  \n",
       "3         0.9512        0.9330                  0.0470  \n",
       "4         0.9489        0.9358                  0.1438  \n",
       "5         0.9498        0.9355                  0.1567  \n",
       "6         0.9471        0.9252                  0.0132  \n",
       "7         0.9505        0.9312                  0.0124  \n",
       "8         0.6384        0.6665                  0.7555  \n",
       "9         0.8634        0.8614                  0.8333  "
      ]
     },
     "execution_count": 180,
     "metadata": {},
     "output_type": "execute_result"
    }
   ],
   "source": [
    "cols = df_metrics_CR.columns.drop('Regression Model')\n",
    "\n",
    "df_metrics_CR[cols] = df_metrics_CR[cols].apply(pd.to_numeric, errors='coerce')\n",
    "df_metrics_CR"
   ]
  }
 ],
 "metadata": {
  "colab": {
   "provenance": []
  },
  "kernelspec": {
   "display_name": "Python 3 (ipykernel)",
   "language": "python",
   "name": "python3"
  },
  "language_info": {
   "codemirror_mode": {
    "name": "ipython",
    "version": 3
   },
   "file_extension": ".py",
   "mimetype": "text/x-python",
   "name": "python",
   "nbconvert_exporter": "python",
   "pygments_lexer": "ipython3",
   "version": "3.9.12"
  },
  "toc": {
   "base_numbering": 1,
   "nav_menu": {},
   "number_sections": true,
   "sideBar": true,
   "skip_h1_title": false,
   "title_cell": "Table of Contents",
   "title_sidebar": "Contents",
   "toc_cell": false,
   "toc_position": {
    "height": "calc(100% - 180px)",
    "left": "10px",
    "top": "150px",
    "width": "263.517px"
   },
   "toc_section_display": true,
   "toc_window_display": true
  }
 },
 "nbformat": 4,
 "nbformat_minor": 5
}
